{
 "cells": [
  {
   "cell_type": "markdown",
   "metadata": {},
   "source": [
    "# Web Scraping Lab\n",
    "\n",
    "You will find in this notebook some scrapy exercises to practise your scraping skills.\n",
    "\n",
    "**Tips:**\n",
    "\n",
    "- Check the response status code for each request to ensure you have obtained the intended contennt.\n",
    "- Print the response text in each request to understand the kind of info you are getting and its format.\n",
    "- Check for patterns in the response text to extract the data/info requested in each question.\n",
    "- Visit each url and take a look at its source through Chrome DevTools. You'll need to identify the html tags, special class names etc. used for the html content you are expected to extract."
   ]
  },
  {
   "cell_type": "markdown",
   "metadata": {},
   "source": [
    "- [Requests library](http://docs.python-requests.org/en/master/#the-user-guide) documentation \n",
    "- [Beautiful Soup Doc](https://www.crummy.com/software/BeautifulSoup/bs4/doc/)\n",
    "- [Urllib](https://docs.python.org/3/library/urllib.html#module-urllib)\n",
    "- [re lib](https://docs.python.org/3/library/re.html)\n",
    "- [lxml lib](https://lxml.de/)\n",
    "- [Scrapy](https://scrapy.org/)\n",
    "- [List of HTTP status codes](https://en.wikipedia.org/wiki/List_of_HTTP_status_codes)\n",
    "- [HTML basics](http://www.simplehtmlguide.com/cheatsheet.php)\n",
    "- [CSS basics](https://www.cssbasics.com/#page_start)"
   ]
  },
  {
   "cell_type": "markdown",
   "metadata": {},
   "source": [
    "#### Below are the libraries and modules you may need. `requests`,  `BeautifulSoup` and `pandas` are imported for you. If you prefer to use additional libraries feel free to uncomment them."
   ]
  },
  {
   "cell_type": "code",
   "execution_count": 1,
   "metadata": {},
   "outputs": [],
   "source": [
    "from bs4 import BeautifulSoup as bs\n",
    "import pandas as pd\n",
    "import requests as req\n",
    "# from pprint import pprint\n",
    "# from lxml import html\n",
    "# from lxml.html import fromstring\n",
    "# import urllib.request\n",
    "# from urllib.request import urlopen\n",
    "# import random\n",
    "# import re\n",
    "# import scrapy"
   ]
  },
  {
   "cell_type": "markdown",
   "metadata": {},
   "source": [
    "#### Download, parse (using BeautifulSoup), and print the content from the Trending Developers page from GitHub:"
   ]
  },
  {
   "cell_type": "code",
   "execution_count": 2,
   "metadata": {},
   "outputs": [],
   "source": [
    "# This is the url you will scrape in this exercise\n",
    "url = 'https://github.com/trending/developers'\n"
   ]
  },
  {
   "cell_type": "code",
   "execution_count": 3,
   "metadata": {
    "scrolled": true
   },
   "outputs": [
    {
     "data": {
      "text/plain": [
       "b'\\n\\n<!DOCTYPE html>\\n<html lang=\"en\" data-color-mode=\"auto\" data-light-theme=\"light\" data-dark-theme=\"dark\" data-a11y-animated-images=\"system\">\\n  <head>\\n    <meta charset=\"utf-8\">\\n  <link rel=\"dns-prefetch\" href=\"https://github.githubassets.com\">\\n  <link rel=\"dns-prefetch\" href=\"https://avatars.githubusercontent.com\">\\n  <link rel=\"dns-prefetch\" href=\"https://github-cloud.s3.amazonaws.com\">\\n  <link rel=\"dns-prefetch\" href=\"https://user-images.githubusercontent.com/\">\\n  <link rel=\"preconnect\" href=\"https://github.githubassets.com\" crossorigin>\\n  <link rel=\"preconnect\" href=\"https://avatars.githubusercontent.com\">\\n\\n\\n\\n  <link crossorigin=\"anonymous\" media=\"all\" integrity=\"sha512-ksfTgQOOnE+FFXf+yNfVjKSlEckJAdufFIYGK7ZjRhWcZgzAGcmZqqArTgMLpu90FwthqcCX4ldDgKXbmVMeuQ==\" rel=\"stylesheet\" href=\"https://github.githubassets.com/assets/light-92c7d381038e.css\" /><link crossorigin=\"anonymous\" media=\"all\" integrity=\"sha512-1KkMNn8M/al/dtzBLupRwkIOgnA9MWkm8oxS+solP87jByEvY/g4BmoxLihRogKcX1obPnf4Yp7dI0ZTW'"
      ]
     },
     "execution_count": 3,
     "metadata": {},
     "output_type": "execute_result"
    }
   ],
   "source": [
    "developers=req.get(url).content\n",
    "\n",
    "developers[:1000]\n"
   ]
  },
  {
   "cell_type": "code",
   "execution_count": 4,
   "metadata": {},
   "outputs": [
    {
     "data": {
      "text/plain": [
       "bs4.BeautifulSoup"
      ]
     },
     "execution_count": 4,
     "metadata": {},
     "output_type": "execute_result"
    }
   ],
   "source": [
    "soup = bs(developers, 'html.parser')\n",
    "type(soup)"
   ]
  },
  {
   "cell_type": "code",
   "execution_count": 5,
   "metadata": {},
   "outputs": [
    {
     "data": {
      "text/plain": [
       "['Stephen Celis', 'stephencelis']"
      ]
     },
     "execution_count": 5,
     "metadata": {},
     "output_type": "execute_result"
    }
   ],
   "source": [
    "tabla=soup.find('div', {'class' :'col-md-6'})\n",
    "tabla1=[tabla.find_all('h1', {'class':'h3 lh-condensed'})[0].text.strip(),tabla.find_all('p', {'class':'f4 text-normal mb-1'})[0].text.strip()]\n",
    "tabla1"
   ]
  },
  {
   "cell_type": "code",
   "execution_count": 6,
   "metadata": {},
   "outputs": [],
   "source": [
    "h_list = []\n",
    "p_list = []"
   ]
  },
  {
   "cell_type": "code",
   "execution_count": 7,
   "metadata": {},
   "outputs": [],
   "source": [
    "for table in soup.find_all('div', class_='col-md-6'):\n",
    "    for t in table.find_all('h1',{'class':'h3 lh-condensed'}):\n",
    "        h_list.append(t.text.strip())"
   ]
  },
  {
   "cell_type": "code",
   "execution_count": 8,
   "metadata": {},
   "outputs": [
    {
     "data": {
      "text/plain": [
       "['Stephen Celis',\n",
       " 'Matthias Fey',\n",
       " 'Earle F. Philhower, III',\n",
       " 'Diego Muracciole',\n",
       " 'Ryan Bates',\n",
       " 'Jaco',\n",
       " 'Jonny Borges',\n",
       " 'David Sherret',\n",
       " 'mborgerson',\n",
       " 'Manuel Kaufmann',\n",
       " 'Mark Baker',\n",
       " 'Teppei Fukuda',\n",
       " 'Casey Rodarmor',\n",
       " 'Milad akarie',\n",
       " 'Hung Viet Nguyen',\n",
       " 'Matt Carroll',\n",
       " 'Artur Arseniev',\n",
       " 'Alexander Veysov',\n",
       " 'Hari Sekhon',\n",
       " 'MinJae Kwon',\n",
       " 'ChristopherHX',\n",
       " 'Zhenëk',\n",
       " 'Andrew Gallant',\n",
       " 'Florian Rival',\n",
       " 'daquexian']"
      ]
     },
     "execution_count": 8,
     "metadata": {},
     "output_type": "execute_result"
    }
   ],
   "source": [
    "h_list"
   ]
  },
  {
   "cell_type": "code",
   "execution_count": 9,
   "metadata": {},
   "outputs": [],
   "source": [
    "for table in soup.find_all('div', class_='col-md-6'):\n",
    "    for t in table.find_all('p',{'class':'f4 text-normal mb-1'}):\n",
    "        p_list.append(t.text.strip())"
   ]
  },
  {
   "cell_type": "code",
   "execution_count": 10,
   "metadata": {},
   "outputs": [
    {
     "data": {
      "text/plain": [
       "['stephencelis',\n",
       " 'rusty1s',\n",
       " 'earlephilhower',\n",
       " 'diegomura',\n",
       " 'ryanb',\n",
       " 'jacogr',\n",
       " 'jonataslaw',\n",
       " 'dsherret',\n",
       " 'humitos',\n",
       " 'MarkBaker',\n",
       " 'knqyf263',\n",
       " 'casey',\n",
       " 'Milad-Akarie',\n",
       " 'nvh95',\n",
       " 'matthew-carroll',\n",
       " 'artf',\n",
       " 'snakers4',\n",
       " 'HariSekhon',\n",
       " 'mingrammer',\n",
       " 'Ebazhanov',\n",
       " 'BurntSushi',\n",
       " '4ian',\n",
       " 'daquexian']"
      ]
     },
     "execution_count": 10,
     "metadata": {},
     "output_type": "execute_result"
    }
   ],
   "source": [
    "p_list"
   ]
  },
  {
   "cell_type": "code",
   "execution_count": 11,
   "metadata": {},
   "outputs": [
    {
     "data": {
      "text/plain": [
       "[['Stephen Celis', 'stephencelis'],\n",
       " ['Matthias Fey', 'rusty1s'],\n",
       " ['Earle F. Philhower, III', 'earlephilhower'],\n",
       " ['Diego Muracciole', 'diegomura'],\n",
       " ['Ryan Bates', 'ryanb'],\n",
       " ['Jaco', 'jacogr'],\n",
       " ['Jonny Borges', 'jonataslaw'],\n",
       " ['David Sherret', 'dsherret'],\n",
       " ['mborgerson', 'humitos'],\n",
       " ['Manuel Kaufmann', 'MarkBaker'],\n",
       " ['Mark Baker', 'knqyf263'],\n",
       " ['Teppei Fukuda', 'casey'],\n",
       " ['Casey Rodarmor', 'Milad-Akarie'],\n",
       " ['Milad akarie', 'nvh95'],\n",
       " ['Hung Viet Nguyen', 'matthew-carroll'],\n",
       " ['Matt Carroll', 'artf'],\n",
       " ['Artur Arseniev', 'snakers4'],\n",
       " ['Alexander Veysov', 'HariSekhon'],\n",
       " ['Hari Sekhon', 'mingrammer'],\n",
       " ['MinJae Kwon', 'Ebazhanov'],\n",
       " ['ChristopherHX', 'BurntSushi'],\n",
       " ['Zhenëk', '4ian'],\n",
       " ['Andrew Gallant', 'daquexian']]"
      ]
     },
     "execution_count": 11,
     "metadata": {},
     "output_type": "execute_result"
    }
   ],
   "source": [
    "zipeo=[list(x) for x in zip(h_list,p_list)]\n",
    "zipeo"
   ]
  },
  {
   "cell_type": "markdown",
   "metadata": {},
   "source": [
    "#### Display the names of the trending developers retrieved in the previous step.\n",
    "\n",
    "Your output should be a Python list of developer names. Each name should not contain any html tag.\n",
    "\n",
    "**Instructions:**\n",
    "\n",
    "1. Find out the html tag and class names used for the developer names. You can achieve this using Chrome DevTools.\n",
    "\n",
    "1. Use BeautifulSoup to extract all the html elements that contain the developer names.\n",
    "\n",
    "1. Use string manipulation techniques to replace whitespaces and linebreaks (i.e. `\\n`) in the *text* of each html element. Use a list to store the clean names.\n",
    "\n",
    "1. Print the list of names.\n",
    "\n",
    "Your output should look like below:\n",
    "\n",
    "```\n",
    "['trimstray (@trimstray)',\n",
    " 'joewalnes (JoeWalnes)',\n",
    " 'charlax (Charles-AxelDein)',\n",
    " 'ForrestKnight (ForrestKnight)',\n",
    " 'revery-ui (revery-ui)',\n",
    " 'alibaba (Alibaba)',\n",
    " 'Microsoft (Microsoft)',\n",
    " 'github (GitHub)',\n",
    " 'facebook (Facebook)',\n",
    " 'boazsegev (Bo)',\n",
    " 'google (Google)',\n",
    " 'cloudfetch',\n",
    " 'sindresorhus (SindreSorhus)',\n",
    " 'tensorflow',\n",
    " 'apache (TheApacheSoftwareFoundation)',\n",
    " 'DevonCrawford (DevonCrawford)',\n",
    " 'ARMmbed (ArmMbed)',\n",
    " 'vuejs (vuejs)',\n",
    " 'fastai (fast.ai)',\n",
    " 'QiShaoXuan (Qi)',\n",
    " 'joelparkerhenderson (JoelParkerHenderson)',\n",
    " 'torvalds (LinusTorvalds)',\n",
    " 'CyC2018',\n",
    " 'komeiji-satori (神楽坂覚々)',\n",
    " 'script-8']\n",
    " ```"
   ]
  },
  {
   "cell_type": "markdown",
   "metadata": {},
   "source": [
    "#### Display the trending Python repositories in GitHub\n",
    "\n",
    "The steps to solve this problem is similar to the previous one except that you need to find out the repository names instead of developer names."
   ]
  },
  {
   "cell_type": "code",
   "execution_count": 12,
   "metadata": {},
   "outputs": [],
   "source": [
    "\n",
    "url1 = 'https://github.com/trending/python?since=daily'"
   ]
  },
  {
   "cell_type": "code",
   "execution_count": 13,
   "metadata": {},
   "outputs": [],
   "source": [
    "html=req.get(url1).content   \n",
    "\n",
    "sopa=bs(html, 'html.parser') "
   ]
  },
  {
   "cell_type": "code",
   "execution_count": 18,
   "metadata": {},
   "outputs": [
    {
     "data": {
      "text/plain": [
       "bs4.BeautifulSoup"
      ]
     },
     "execution_count": 18,
     "metadata": {},
     "output_type": "execute_result"
    }
   ],
   "source": [
    "sopa = bs(html, 'html.parser')\n",
    "type(sopa)"
   ]
  },
  {
   "cell_type": "code",
   "execution_count": 19,
   "metadata": {},
   "outputs": [
    {
     "data": {
      "text/plain": [
       "<article class=\"Box-row\">\n",
       "<div class=\"float-right d-flex\">\n",
       "<div class=\"BtnGroup d-flex\" data-view-component=\"true\">\n",
       "<a aria-label=\"You must be signed in to star a repository\" class=\"tooltipped tooltipped-s btn-sm btn BtnGroup-item\" data-hydro-click='{\"event_type\":\"authentication.click\",\"payload\":{\"location_in_page\":\"star button\",\"repository_id\":483289068,\"auth_type\":\"LOG_IN\",\"originating_url\":\"https://github.com/trending/python?since=daily\",\"user_id\":null}}' data-hydro-click-hmac=\"800c40ca738e6b5dd638d53ef6cbd61c137b82c6a151f866529fa37da0c28032\" data-view-component=\"true\" href=\"/login?return_to=%2Fkraanzu%2Fdooit\" rel=\"nofollow\"> <svg aria-hidden=\"true\" class=\"octicon octicon-star v-align-text-bottom d-none d-md-inline-block mr-2\" data-view-component=\"true\" height=\"16\" version=\"1.1\" viewbox=\"0 0 16 16\" width=\"16\">\n",
       "<path d=\"M8 .25a.75.75 0 01.673.418l1.882 3.815 4.21.612a.75.75 0 01.416 1.279l-3.046 2.97.719 4.192a.75.75 0 01-1.088.791L8 12.347l-3.766 1.98a.75.75 0 01-1.088-.79l.72-4.194L.818 6.374a.75.75 0 01.416-1.28l4.21-.611L7.327.668A.75.75 0 018 .25zm0 2.445L6.615 5.5a.75.75 0 01-.564.41l-3.097.45 2.24 2.184a.75.75 0 01.216.664l-.528 3.084 2.769-1.456a.75.75 0 01.698 0l2.77 1.456-.53-3.084a.75.75 0 01.216-.664l2.24-2.183-3.096-.45a.75.75 0 01-.564-.41L8 2.694v.001z\" fill-rule=\"evenodd\"></path>\n",
       "</svg><svg aria-hidden=\"true\" class=\"octicon octicon-star mr-0 v-align-text-bottom d-inline-block d-md-none\" data-view-component=\"true\" height=\"16\" version=\"1.1\" viewbox=\"0 0 16 16\" width=\"16\">\n",
       "<path d=\"M8 .25a.75.75 0 01.673.418l1.882 3.815 4.21.612a.75.75 0 01.416 1.279l-3.046 2.97.719 4.192a.75.75 0 01-1.088.791L8 12.347l-3.766 1.98a.75.75 0 01-1.088-.79l.72-4.194L.818 6.374a.75.75 0 01.416-1.28l4.21-.611L7.327.668A.75.75 0 018 .25zm0 2.445L6.615 5.5a.75.75 0 01-.564.41l-3.097.45 2.24 2.184a.75.75 0 01.216.664l-.528 3.084 2.769-1.456a.75.75 0 01.698 0l2.77 1.456-.53-3.084a.75.75 0 01.216-.664l2.24-2.183-3.096-.45a.75.75 0 01-.564-.41L8 2.694v.001z\" fill-rule=\"evenodd\"></path>\n",
       "</svg>\n",
       "<span class=\"d-none d-md-inline\" data-view-component=\"true\">\n",
       "          Star\n",
       "</span>\n",
       "</a> <button aria-label=\"You must be signed in to add this repository to a list\" class=\"btn-sm btn BtnGroup-item px-2\" data-view-component=\"true\" disabled=\"disabled\" type=\"button\"> <svg aria-hidden=\"true\" class=\"octicon octicon-triangle-down\" data-view-component=\"true\" height=\"16\" version=\"1.1\" viewbox=\"0 0 16 16\" width=\"16\">\n",
       "<path d=\"M4.427 7.427l3.396 3.396a.25.25 0 00.354 0l3.396-3.396A.25.25 0 0011.396 7H4.604a.25.25 0 00-.177.427z\"></path>\n",
       "</svg>\n",
       "</button></div>\n",
       "</div>\n",
       "<h1 class=\"h3 lh-condensed\">\n",
       "<a data-hydro-click='{\"event_type\":\"explore.click\",\"payload\":{\"click_context\":\"TRENDING_REPOSITORIES_PAGE\",\"click_target\":\"REPOSITORY\",\"click_visual_representation\":\"REPOSITORY_NAME_HEADING\",\"actor_id\":null,\"record_id\":483289068,\"originating_url\":\"https://github.com/trending/python?since=daily\",\"user_id\":null}}' data-hydro-click-hmac=\"ee4a00b54d824cd12c369c6cd3de3400c7470ec8732c93ed27a01241291a02db\" data-view-component=\"true\" href=\"/kraanzu/dooit\">\n",
       "<svg aria-hidden=\"true\" class=\"octicon octicon-repo mr-1 color-fg-muted\" data-view-component=\"true\" height=\"16\" version=\"1.1\" viewbox=\"0 0 16 16\" width=\"16\">\n",
       "<path d=\"M2 2.5A2.5 2.5 0 014.5 0h8.75a.75.75 0 01.75.75v12.5a.75.75 0 01-.75.75h-2.5a.75.75 0 110-1.5h1.75v-2h-8a1 1 0 00-.714 1.7.75.75 0 01-1.072 1.05A2.495 2.495 0 012 11.5v-9zm10.5-1V9h-8c-.356 0-.694.074-1 .208V2.5a1 1 0 011-1h8zM5 12.25v3.25a.25.25 0 00.4.2l1.45-1.087a.25.25 0 01.3 0L8.6 15.7a.25.25 0 00.4-.2v-3.25a.25.25 0 00-.25-.25h-3.5a.25.25 0 00-.25.25z\" fill-rule=\"evenodd\"></path>\n",
       "</svg>\n",
       "<span class=\"text-normal\" data-view-component=\"true\">\n",
       "        kraanzu /\n",
       "</span>\n",
       "      dooit\n",
       "</a> </h1>\n",
       "<p class=\"col-9 color-fg-muted my-1 pr-4\">\n",
       "      A TUI todo manager\n",
       "    </p>\n",
       "<div class=\"f6 color-fg-muted mt-2\">\n",
       "<span class=\"d-inline-block ml-0 mr-3\">\n",
       "<span class=\"repo-language-color\" style=\"background-color: #3572A5\"></span>\n",
       "<span itemprop=\"programmingLanguage\">Python</span>\n",
       "</span>\n",
       "<a class=\"Link--muted d-inline-block mr-3\" data-view-component=\"true\" href=\"/kraanzu/dooit/stargazers\">\n",
       "<svg aria-label=\"star\" class=\"octicon octicon-star\" data-view-component=\"true\" height=\"16\" role=\"img\" version=\"1.1\" viewbox=\"0 0 16 16\" width=\"16\">\n",
       "<path d=\"M8 .25a.75.75 0 01.673.418l1.882 3.815 4.21.612a.75.75 0 01.416 1.279l-3.046 2.97.719 4.192a.75.75 0 01-1.088.791L8 12.347l-3.766 1.98a.75.75 0 01-1.088-.79l.72-4.194L.818 6.374a.75.75 0 01.416-1.28l4.21-.611L7.327.668A.75.75 0 018 .25zm0 2.445L6.615 5.5a.75.75 0 01-.564.41l-3.097.45 2.24 2.184a.75.75 0 01.216.664l-.528 3.084 2.769-1.456a.75.75 0 01.698 0l2.77 1.456-.53-3.084a.75.75 0 01.216-.664l2.24-2.183-3.096-.45a.75.75 0 01-.564-.41L8 2.694v.001z\" fill-rule=\"evenodd\"></path>\n",
       "</svg>\n",
       "        578\n",
       "</a>\n",
       "<a class=\"Link--muted d-inline-block mr-3\" data-view-component=\"true\" href=\"/kraanzu/dooit/network/members.dooit\">\n",
       "<svg aria-label=\"fork\" class=\"octicon octicon-repo-forked\" data-view-component=\"true\" height=\"16\" role=\"img\" version=\"1.1\" viewbox=\"0 0 16 16\" width=\"16\">\n",
       "<path d=\"M5 3.25a.75.75 0 11-1.5 0 .75.75 0 011.5 0zm0 2.122a2.25 2.25 0 10-1.5 0v.878A2.25 2.25 0 005.75 8.5h1.5v2.128a2.251 2.251 0 101.5 0V8.5h1.5a2.25 2.25 0 002.25-2.25v-.878a2.25 2.25 0 10-1.5 0v.878a.75.75 0 01-.75.75h-4.5A.75.75 0 015 6.25v-.878zm3.75 7.378a.75.75 0 11-1.5 0 .75.75 0 011.5 0zm3-8.75a.75.75 0 100-1.5.75.75 0 000 1.5z\" fill-rule=\"evenodd\"></path>\n",
       "</svg>\n",
       "        27\n",
       "</a>\n",
       "<span class=\"d-inline-block mr-3\" data-view-component=\"true\">\n",
       "        Built by\n",
       "\n",
       "          <a class=\"d-inline-block\" data-hovercard-type=\"user\" data-hovercard-url=\"/users/kraanzu/hovercard\" data-hydro-click='{\"event_type\":\"explore.click\",\"payload\":{\"click_context\":\"TRENDING_REPOSITORIES_PAGE\",\"click_target\":\"CONTRIBUTING_DEVELOPER\",\"click_visual_representation\":\"DEVELOPER_AVATAR\",\"actor_id\":null,\"record_id\":null,\"originating_url\":\"https://github.com/trending\",\"user_id\":null}}' data-hydro-click-hmac=\"38f6d31365bd0f82e6e7017f3e04be145e105325edef3182ed21384681c0751f\" data-octo-click=\"hovercard-link-click\" data-octo-dimensions=\"link_type:self\" href=\"/kraanzu\"><img alt=\"@kraanzu\" class=\"avatar mb-1 avatar-user\" height=\"20\" src=\"https://avatars.githubusercontent.com/u/97718086?s=40&amp;v=4\" width=\"20\"/></a>\n",
       "<a class=\"d-inline-block\" data-hovercard-type=\"user\" data-hovercard-url=\"/users/CobSammich/hovercard\" data-hydro-click='{\"event_type\":\"explore.click\",\"payload\":{\"click_context\":\"TRENDING_REPOSITORIES_PAGE\",\"click_target\":\"CONTRIBUTING_DEVELOPER\",\"click_visual_representation\":\"DEVELOPER_AVATAR\",\"actor_id\":null,\"record_id\":null,\"originating_url\":\"https://github.com/trending\",\"user_id\":null}}' data-hydro-click-hmac=\"38f6d31365bd0f82e6e7017f3e04be145e105325edef3182ed21384681c0751f\" data-octo-click=\"hovercard-link-click\" data-octo-dimensions=\"link_type:self\" href=\"/CobSammich\"><img alt=\"@CobSammich\" class=\"avatar mb-1 avatar-user\" height=\"20\" src=\"https://avatars.githubusercontent.com/u/73327265?s=40&amp;v=4\" width=\"20\"/></a>\n",
       "<a class=\"d-inline-block\" data-hovercard-type=\"user\" data-hovercard-url=\"/users/XPhyro/hovercard\" data-hydro-click='{\"event_type\":\"explore.click\",\"payload\":{\"click_context\":\"TRENDING_REPOSITORIES_PAGE\",\"click_target\":\"CONTRIBUTING_DEVELOPER\",\"click_visual_representation\":\"DEVELOPER_AVATAR\",\"actor_id\":null,\"record_id\":null,\"originating_url\":\"https://github.com/trending\",\"user_id\":null}}' data-hydro-click-hmac=\"38f6d31365bd0f82e6e7017f3e04be145e105325edef3182ed21384681c0751f\" data-octo-click=\"hovercard-link-click\" data-octo-dimensions=\"link_type:self\" href=\"/XPhyro\"><img alt=\"@XPhyro\" class=\"avatar mb-1 avatar-user\" height=\"20\" src=\"https://avatars.githubusercontent.com/u/10392678?s=40&amp;v=4\" width=\"20\"/></a>\n",
       "<a class=\"d-inline-block\" data-hovercard-type=\"user\" data-hovercard-url=\"/users/Dale-Muccignat/hovercard\" data-hydro-click='{\"event_type\":\"explore.click\",\"payload\":{\"click_context\":\"TRENDING_REPOSITORIES_PAGE\",\"click_target\":\"CONTRIBUTING_DEVELOPER\",\"click_visual_representation\":\"DEVELOPER_AVATAR\",\"actor_id\":null,\"record_id\":null,\"originating_url\":\"https://github.com/trending\",\"user_id\":null}}' data-hydro-click-hmac=\"38f6d31365bd0f82e6e7017f3e04be145e105325edef3182ed21384681c0751f\" data-octo-click=\"hovercard-link-click\" data-octo-dimensions=\"link_type:self\" href=\"/Dale-Muccignat\"><img alt=\"@Dale-Muccignat\" class=\"avatar mb-1 avatar-user\" height=\"20\" src=\"https://avatars.githubusercontent.com/u/14990150?s=40&amp;v=4\" width=\"20\"/></a>\n",
       "</span>\n",
       "<span class=\"d-inline-block float-sm-right\" data-view-component=\"true\">\n",
       "<svg aria-hidden=\"true\" class=\"octicon octicon-star\" data-view-component=\"true\" height=\"16\" version=\"1.1\" viewbox=\"0 0 16 16\" width=\"16\">\n",
       "<path d=\"M8 .25a.75.75 0 01.673.418l1.882 3.815 4.21.612a.75.75 0 01.416 1.279l-3.046 2.97.719 4.192a.75.75 0 01-1.088.791L8 12.347l-3.766 1.98a.75.75 0 01-1.088-.79l.72-4.194L.818 6.374a.75.75 0 01.416-1.28l4.21-.611L7.327.668A.75.75 0 018 .25zm0 2.445L6.615 5.5a.75.75 0 01-.564.41l-3.097.45 2.24 2.184a.75.75 0 01.216.664l-.528 3.084 2.769-1.456a.75.75 0 01.698 0l2.77 1.456-.53-3.084a.75.75 0 01.216-.664l2.24-2.183-3.096-.45a.75.75 0 01-.564-.41L8 2.694v.001z\" fill-rule=\"evenodd\"></path>\n",
       "</svg>\n",
       "        110 stars today\n",
       "</span> </div>\n",
       "</article>"
      ]
     },
     "execution_count": 19,
     "metadata": {},
     "output_type": "execute_result"
    }
   ],
   "source": [
    "boxrow = sopa.find('article',class_= 'Box-row')\n",
    "boxrow"
   ]
  },
  {
   "cell_type": "code",
   "execution_count": 20,
   "metadata": {},
   "outputs": [],
   "source": [
    "name_repo = []"
   ]
  },
  {
   "cell_type": "code",
   "execution_count": 21,
   "metadata": {},
   "outputs": [],
   "source": [
    "for table in sopa.find_all('article', class_ = 'Box-row'):\n",
    "    for t in table.find_all('h1',{'class':'h3 lh-condensed'}):\n",
    "        name_repo.append(t.text.strip())"
   ]
  },
  {
   "cell_type": "code",
   "execution_count": 22,
   "metadata": {},
   "outputs": [
    {
     "name": "stdout",
     "output_type": "stream",
     "text": [
      "/kraanzu/dooit\n",
      "/elebumm/RedditVideoMakerBot\n",
      "/Lightning-AI/lightning\n",
      "/google/jax\n",
      "/mingrammer/diagrams\n",
      "/s1ckb017/PoC-CVE-2022-26809\n",
      "/Wh04m1001/DFSCoerce\n",
      "/nicohmje/PID-ballonplate\n",
      "/yu-steven/openit\n",
      "/PaddlePaddle/PaddleDetection\n",
      "/erev0s/VAmPI\n",
      "/chriskiehl/Gooey\n",
      "/Baekalfen/PyBoy\n",
      "/open-mmlab/mmdetection3d\n",
      "/s0md3v/Arjun\n",
      "/facebookresearch/ConvNeXt\n",
      "/xmu-xiaoma666/External-Attention-pytorch\n",
      "/clementchadebec/benchmark_VAE\n",
      "/t3l3machus/toxssin\n",
      "/tzutalin/labelImg\n",
      "/open-mmlab/mmocr\n",
      "/FederatedAI/FATE\n",
      "/YadiraF/DECA\n",
      "/jackfrued/Python-100-Days\n",
      "/ftexchange/ftx\n"
     ]
    }
   ],
   "source": [
    "for table in sopa.find_all('article', class_ = 'Box-row'):\n",
    "    for t in table.find_all('h1', {'class': 'h3 lh-condensed'}):\n",
    "        print(t.find('a')['href'])"
   ]
  },
  {
   "cell_type": "code",
   "execution_count": 23,
   "metadata": {},
   "outputs": [
    {
     "data": {
      "text/plain": [
       "['kraanzu /\\n\\n      dooit',\n",
       " 'elebumm /\\n\\n      RedditVideoMakerBot',\n",
       " 'Lightning-AI /\\n\\n      lightning',\n",
       " 'google /\\n\\n      jax',\n",
       " 'mingrammer /\\n\\n      diagrams',\n",
       " 's1ckb017 /\\n\\n      PoC-CVE-2022-26809',\n",
       " 'Wh04m1001 /\\n\\n      DFSCoerce',\n",
       " 'nicohmje /\\n\\n      PID-ballonplate',\n",
       " 'yu-steven /\\n\\n      openit',\n",
       " 'PaddlePaddle /\\n\\n      PaddleDetection',\n",
       " 'erev0s /\\n\\n      VAmPI',\n",
       " 'chriskiehl /\\n\\n      Gooey',\n",
       " 'Baekalfen /\\n\\n      PyBoy',\n",
       " 'open-mmlab /\\n\\n      mmdetection3d',\n",
       " 's0md3v /\\n\\n      Arjun',\n",
       " 'facebookresearch /\\n\\n      ConvNeXt',\n",
       " 'xmu-xiaoma666 /\\n\\n      External-Attention-pytorch',\n",
       " 'clementchadebec /\\n\\n      benchmark_VAE',\n",
       " 't3l3machus /\\n\\n      toxssin',\n",
       " 'tzutalin /\\n\\n      labelImg',\n",
       " 'open-mmlab /\\n\\n      mmocr',\n",
       " 'FederatedAI /\\n\\n      FATE',\n",
       " 'YadiraF /\\n\\n      DECA',\n",
       " 'jackfrued /\\n\\n      Python-100-Days',\n",
       " 'ftexchange /\\n\\n      ftx']"
      ]
     },
     "execution_count": 23,
     "metadata": {},
     "output_type": "execute_result"
    }
   ],
   "source": [
    "name_repo"
   ]
  },
  {
   "cell_type": "markdown",
   "metadata": {},
   "source": [
    "#### Display all the image links from Walt Disney wikipedia page"
   ]
  },
  {
   "cell_type": "code",
   "execution_count": 24,
   "metadata": {},
   "outputs": [],
   "source": [
    "\n",
    "url2 = 'https://en.wikipedia.org/wiki/Walt_Disney'"
   ]
  },
  {
   "cell_type": "code",
   "execution_count": 25,
   "metadata": {},
   "outputs": [],
   "source": [
    "html = req.get(url2).content\n",
    "sopa2 = bs(html, 'html.parser')"
   ]
  },
  {
   "cell_type": "code",
   "execution_count": 26,
   "metadata": {},
   "outputs": [
    {
     "data": {
      "text/plain": [
       "<img alt=\"Extended-protected article\" data-file-height=\"512\" data-file-width=\"512\" decoding=\"async\" height=\"20\" src=\"//upload.wikimedia.org/wikipedia/en/thumb/8/8c/Extended-protection-shackle.svg/20px-Extended-protection-shackle.svg.png\" srcset=\"//upload.wikimedia.org/wikipedia/en/thumb/8/8c/Extended-protection-shackle.svg/30px-Extended-protection-shackle.svg.png 1.5x, //upload.wikimedia.org/wikipedia/en/thumb/8/8c/Extended-protection-shackle.svg/40px-Extended-protection-shackle.svg.png 2x\" width=\"20\"/>"
      ]
     },
     "execution_count": 26,
     "metadata": {},
     "output_type": "execute_result"
    }
   ],
   "source": [
    "links = sopa2.find_all('img')\n",
    "links[1]\n",
    "                                                            "
   ]
  },
  {
   "cell_type": "code",
   "execution_count": 27,
   "metadata": {},
   "outputs": [
    {
     "name": "stdout",
     "output_type": "stream",
     "text": [
      "//upload.wikimedia.org/wikipedia/en/thumb/e/e7/Cscr-featured.svg/20px-Cscr-featured.svg.png\n",
      "//upload.wikimedia.org/wikipedia/en/thumb/8/8c/Extended-protection-shackle.svg/20px-Extended-protection-shackle.svg.png\n",
      "//upload.wikimedia.org/wikipedia/commons/thumb/d/df/Walt_Disney_1946.JPG/220px-Walt_Disney_1946.JPG\n",
      "//upload.wikimedia.org/wikipedia/commons/thumb/8/87/Walt_Disney_1942_signature.svg/150px-Walt_Disney_1942_signature.svg.png\n",
      "//upload.wikimedia.org/wikipedia/commons/thumb/c/c4/Walt_Disney_envelope_ca._1921.jpg/220px-Walt_Disney_envelope_ca._1921.jpg\n",
      "//upload.wikimedia.org/wikipedia/commons/thumb/0/0d/Trolley_Troubles_poster.jpg/170px-Trolley_Troubles_poster.jpg\n",
      "//upload.wikimedia.org/wikipedia/en/thumb/4/4e/Steamboat-willie.jpg/170px-Steamboat-willie.jpg\n",
      "//upload.wikimedia.org/wikipedia/commons/thumb/5/57/Walt_Disney_1935.jpg/170px-Walt_Disney_1935.jpg\n",
      "//upload.wikimedia.org/wikipedia/commons/thumb/c/cd/Walt_Disney_Snow_white_1937_trailer_screenshot_%2813%29.jpg/220px-Walt_Disney_Snow_white_1937_trailer_screenshot_%2813%29.jpg\n",
      "//upload.wikimedia.org/wikipedia/commons/thumb/1/15/Disney_drawing_goofy.jpg/170px-Disney_drawing_goofy.jpg\n",
      "//upload.wikimedia.org/wikipedia/commons/thumb/1/13/DisneySchiphol1951.jpg/220px-DisneySchiphol1951.jpg\n",
      "//upload.wikimedia.org/wikipedia/commons/thumb/8/8c/WaltDisneyplansDisneylandDec1954.jpg/220px-WaltDisneyplansDisneylandDec1954.jpg\n",
      "//upload.wikimedia.org/wikipedia/commons/thumb/f/ff/Walt_disney_portrait_right.jpg/170px-Walt_disney_portrait_right.jpg\n",
      "//upload.wikimedia.org/wikipedia/commons/thumb/1/1a/Walt_Disney_Grave.JPG/170px-Walt_Disney_Grave.JPG\n",
      "//upload.wikimedia.org/wikipedia/commons/thumb/2/2d/Roy_O._Disney_with_Company_at_Press_Conference.jpg/170px-Roy_O._Disney_with_Company_at_Press_Conference.jpg\n",
      "//upload.wikimedia.org/wikipedia/commons/thumb/b/b0/Disney_Oscar_1953_%28cropped%29.jpg/170px-Disney_Oscar_1953_%28cropped%29.jpg\n",
      "//upload.wikimedia.org/wikipedia/commons/thumb/6/6c/Disney1968.jpg/170px-Disney1968.jpg\n",
      "//upload.wikimedia.org/wikipedia/en/thumb/8/8a/OOjs_UI_icon_edit-ltr-progressive.svg/10px-OOjs_UI_icon_edit-ltr-progressive.svg.png\n",
      "//upload.wikimedia.org/wikipedia/en/thumb/8/8a/OOjs_UI_icon_edit-ltr-progressive.svg/10px-OOjs_UI_icon_edit-ltr-progressive.svg.png\n",
      "//upload.wikimedia.org/wikipedia/commons/thumb/e/e3/Disneyland_Resort_logo.svg/135px-Disneyland_Resort_logo.svg.png\n",
      "//upload.wikimedia.org/wikipedia/commons/thumb/d/da/Animation_disc.svg/20px-Animation_disc.svg.png\n",
      "//upload.wikimedia.org/wikipedia/en/thumb/6/69/P_vip.svg/19px-P_vip.svg.png\n",
      "//upload.wikimedia.org/wikipedia/commons/thumb/1/1a/Magic_Kingdom_castle.jpg/15px-Magic_Kingdom_castle.jpg\n",
      "//upload.wikimedia.org/wikipedia/en/thumb/e/e7/Video-x-generic.svg/19px-Video-x-generic.svg.png\n",
      "//upload.wikimedia.org/wikipedia/commons/thumb/a/a3/Flag_of_Los_Angeles_County%2C_California.svg/21px-Flag_of_Los_Angeles_County%2C_California.svg.png\n",
      "//upload.wikimedia.org/wikipedia/commons/thumb/8/8c/Blank_television_set.svg/21px-Blank_television_set.svg.png\n",
      "//upload.wikimedia.org/wikipedia/en/thumb/a/a4/Flag_of_the_United_States.svg/21px-Flag_of_the_United_States.svg.png\n",
      "//upload.wikimedia.org/wikipedia/en/thumb/4/4a/Commons-logo.svg/14px-Commons-logo.svg.png\n",
      "//upload.wikimedia.org/wikipedia/commons/thumb/f/fa/Wikiquote-logo.svg/16px-Wikiquote-logo.svg.png\n",
      "//upload.wikimedia.org/wikipedia/commons/thumb/f/ff/Wikidata-logo.svg/21px-Wikidata-logo.svg.png\n",
      "//upload.wikimedia.org/wikipedia/en/thumb/8/8a/OOjs_UI_icon_edit-ltr-progressive.svg/10px-OOjs_UI_icon_edit-ltr-progressive.svg.png\n",
      "//en.wikipedia.org/wiki/Special:CentralAutoLogin/start?type=1x1\n",
      "/static/images/footer/wikimedia-button.png\n",
      "/static/images/footer/poweredby_mediawiki_88x31.png\n"
     ]
    }
   ],
   "source": [
    "for l in sopa2.find_all('img'):\n",
    "    print(l['src'])"
   ]
  },
  {
   "cell_type": "code",
   "execution_count": null,
   "metadata": {},
   "outputs": [],
   "source": []
  },
  {
   "cell_type": "code",
   "execution_count": null,
   "metadata": {},
   "outputs": [],
   "source": []
  },
  {
   "cell_type": "code",
   "execution_count": null,
   "metadata": {},
   "outputs": [],
   "source": []
  },
  {
   "cell_type": "code",
   "execution_count": null,
   "metadata": {},
   "outputs": [],
   "source": []
  },
  {
   "cell_type": "markdown",
   "metadata": {},
   "source": [
    "#### Retrieve an arbitary Wikipedia page of \"Python\" and create a list of links on that page"
   ]
  },
  {
   "cell_type": "code",
   "execution_count": 28,
   "metadata": {},
   "outputs": [],
   "source": [
    "url3 ='https://en.wikipedia.org/wiki/Python' "
   ]
  },
  {
   "cell_type": "code",
   "execution_count": 29,
   "metadata": {},
   "outputs": [],
   "source": [
    "lofl = req.get(url3).content\n",
    "sopa3=bs(html,'html.parser')"
   ]
  },
  {
   "cell_type": "code",
   "execution_count": 30,
   "metadata": {},
   "outputs": [
    {
     "name": "stdout",
     "output_type": "stream",
     "text": [
      "/w/load.php?lang=en&modules=ext.cite.styles%7Cext.tmh.player.styles%7Cext.uls.interlanguage%7Cext.visualEditor.desktopArticleTarget.noscript%7Cext.wikimediaBadges%7Cjquery.makeCollapsible.styles%7Cskins.vector.styles.legacy%7Cwikibase.client.init&only=styles&skin=vector\n",
      "/w/load.php?lang=en&modules=site.styles&only=styles&skin=vector\n",
      "//upload.wikimedia.org\n",
      "//en.m.wikipedia.org/wiki/Walt_Disney\n",
      "/static/apple-touch/wikipedia.png\n",
      "/static/favicon/wikipedia.ico\n",
      "/w/opensearch_desc.php\n",
      "//en.wikipedia.org/w/api.php?action=rsd\n",
      "https://creativecommons.org/licenses/by-sa/3.0/\n",
      "https://en.wikipedia.org/wiki/Walt_Disney\n",
      "//meta.wikimedia.org\n",
      "//login.wikimedia.org\n",
      "mw-data:TemplateStyles:r1033289096\n",
      "mw-data:TemplateStyles:r1033289096\n",
      "mw-data:TemplateStyles:r1011085734\n",
      "mw-data:TemplateStyles:r1067248974\n",
      "mw-data:TemplateStyles:r1067248974\n",
      "mw-data:TemplateStyles:r1067248974\n",
      "mw-data:TemplateStyles:r1067248974\n",
      "mw-data:TemplateStyles:r1067248974\n",
      "mw-data:TemplateStyles:r1067248974\n",
      "mw-data:TemplateStyles:r1067248974\n",
      "mw-data:TemplateStyles:r1067248974\n",
      "mw-data:TemplateStyles:r1067248974\n",
      "mw-data:TemplateStyles:r1067248974\n",
      "mw-data:TemplateStyles:r1067248974\n",
      "mw-data:TemplateStyles:r1067248974\n",
      "mw-data:TemplateStyles:r1067248974\n",
      "mw-data:TemplateStyles:r1067248974\n",
      "mw-data:TemplateStyles:r1067248974\n",
      "mw-data:TemplateStyles:r1067248974\n",
      "mw-data:TemplateStyles:r1067248974\n",
      "mw-data:TemplateStyles:r1067248974\n",
      "mw-data:TemplateStyles:r1067248974\n",
      "mw-data:TemplateStyles:r1067248974\n",
      "mw-data:TemplateStyles:r1067248974\n",
      "mw-data:TemplateStyles:r1067248974\n",
      "mw-data:TemplateStyles:r1067248974\n",
      "mw-data:TemplateStyles:r1067248974\n",
      "mw-data:TemplateStyles:r1067248974\n",
      "mw-data:TemplateStyles:r1067248974\n",
      "mw-data:TemplateStyles:r1067248974\n",
      "mw-data:TemplateStyles:r1067248974\n",
      "mw-data:TemplateStyles:r1067248974\n",
      "mw-data:TemplateStyles:r1067248974\n",
      "mw-data:TemplateStyles:r1067248974\n",
      "mw-data:TemplateStyles:r1067248974\n",
      "mw-data:TemplateStyles:r1067248974\n",
      "mw-data:TemplateStyles:r1067248974\n",
      "mw-data:TemplateStyles:r1067248974\n",
      "mw-data:TemplateStyles:r1067248974\n",
      "mw-data:TemplateStyles:r1067248974\n",
      "mw-data:TemplateStyles:r1067248974\n",
      "mw-data:TemplateStyles:r1067248974\n",
      "mw-data:TemplateStyles:r1067248974\n",
      "mw-data:TemplateStyles:r1067248974\n",
      "mw-data:TemplateStyles:r1067248974\n",
      "mw-data:TemplateStyles:r1067248974\n",
      "mw-data:TemplateStyles:r1067248974\n",
      "mw-data:TemplateStyles:r1067248974\n",
      "mw-data:TemplateStyles:r1067248974\n",
      "mw-data:TemplateStyles:r1067248974\n",
      "mw-data:TemplateStyles:r1067248974\n",
      "mw-data:TemplateStyles:r1067248974\n",
      "mw-data:TemplateStyles:r1067248974\n",
      "mw-data:TemplateStyles:r1067248974\n",
      "mw-data:TemplateStyles:r1067248974\n",
      "mw-data:TemplateStyles:r1067248974\n",
      "mw-data:TemplateStyles:r1067248974\n",
      "mw-data:TemplateStyles:r1067248974\n",
      "mw-data:TemplateStyles:r1067248974\n",
      "mw-data:TemplateStyles:r1067248974\n",
      "mw-data:TemplateStyles:r1067248974\n",
      "mw-data:TemplateStyles:r1067248974\n",
      "mw-data:TemplateStyles:r1067248974\n",
      "mw-data:TemplateStyles:r1067248974\n",
      "mw-data:TemplateStyles:r1067248974\n",
      "mw-data:TemplateStyles:r1067248974\n",
      "mw-data:TemplateStyles:r1067248974\n",
      "mw-data:TemplateStyles:r1067248974\n",
      "mw-data:TemplateStyles:r1067248974\n",
      "mw-data:TemplateStyles:r1067248974\n",
      "mw-data:TemplateStyles:r1067248974\n",
      "mw-data:TemplateStyles:r1067248974\n",
      "mw-data:TemplateStyles:r1067248974\n",
      "mw-data:TemplateStyles:r1067248974\n",
      "mw-data:TemplateStyles:r1067248974\n",
      "mw-data:TemplateStyles:r1067248974\n",
      "mw-data:TemplateStyles:r1067248974\n",
      "mw-data:TemplateStyles:r1067248974\n",
      "mw-data:TemplateStyles:r1067248974\n",
      "mw-data:TemplateStyles:r1067248974\n",
      "mw-data:TemplateStyles:r1067248974\n",
      "mw-data:TemplateStyles:r1067248974\n",
      "mw-data:TemplateStyles:r1067248974\n",
      "mw-data:TemplateStyles:r1067248974\n",
      "mw-data:TemplateStyles:r1067248974\n",
      "mw-data:TemplateStyles:r1067248974\n",
      "mw-data:TemplateStyles:r1067248974\n",
      "mw-data:TemplateStyles:r1067248974\n",
      "mw-data:TemplateStyles:r1067248974\n",
      "mw-data:TemplateStyles:r1067248974\n",
      "mw-data:TemplateStyles:r1067248974\n",
      "mw-data:TemplateStyles:r1067248974\n",
      "mw-data:TemplateStyles:r1067248974\n",
      "mw-data:TemplateStyles:r1067248974\n",
      "mw-data:TemplateStyles:r1067248974\n",
      "mw-data:TemplateStyles:r1067248974\n",
      "mw-data:TemplateStyles:r1067248974\n",
      "mw-data:TemplateStyles:r1067248974\n",
      "mw-data:TemplateStyles:r1067248974\n",
      "mw-data:TemplateStyles:r1067248974\n",
      "mw-data:TemplateStyles:r1067248974\n",
      "mw-data:TemplateStyles:r1067248974\n",
      "mw-data:TemplateStyles:r1067248974\n",
      "mw-data:TemplateStyles:r1067248974\n",
      "mw-data:TemplateStyles:r1067248974\n",
      "mw-data:TemplateStyles:r1067248974\n",
      "mw-data:TemplateStyles:r1067248974\n",
      "mw-data:TemplateStyles:r1067248974\n",
      "mw-data:TemplateStyles:r1067248974\n",
      "mw-data:TemplateStyles:r1067248974\n",
      "mw-data:TemplateStyles:r1067248974\n",
      "mw-data:TemplateStyles:r1067248974\n",
      "mw-data:TemplateStyles:r1067248974\n",
      "mw-data:TemplateStyles:r1067248974\n",
      "mw-data:TemplateStyles:r1061467846\n",
      "mw-data:TemplateStyles:r1061467846\n",
      "mw-data:TemplateStyles:r1063604349\n",
      "mw-data:TemplateStyles:r1061467846\n",
      "mw-data:TemplateStyles:r1063604349\n",
      "mw-data:TemplateStyles:r1061467846\n",
      "mw-data:TemplateStyles:r1063604349\n",
      "mw-data:TemplateStyles:r1061467846\n",
      "mw-data:TemplateStyles:r1063604349\n",
      "mw-data:TemplateStyles:r1061467846\n",
      "mw-data:TemplateStyles:r1063604349\n",
      "mw-data:TemplateStyles:r1061467846\n",
      "mw-data:TemplateStyles:r1063604349\n",
      "mw-data:TemplateStyles:r1061467846\n",
      "mw-data:TemplateStyles:r1063604349\n",
      "mw-data:TemplateStyles:r1061467846\n"
     ]
    }
   ],
   "source": [
    "for link in sopa3.find_all('link'):\n",
    "    print(link['href'])\n",
    "    \n",
    "#Quique no entiendo porque me sale lo de mw-data:TemplateStyles:r1033289096\n",
    "# Ni porque me coge como que es la pagina de Walt Disney"
   ]
  },
  {
   "cell_type": "code",
   "execution_count": 31,
   "metadata": {},
   "outputs": [
    {
     "data": {
      "text/plain": [
       "'https://en.wikipedia.org/wiki/Python'"
      ]
     },
     "execution_count": 31,
     "metadata": {},
     "output_type": "execute_result"
    }
   ],
   "source": [
    "url3\n",
    "# NO TIENE SENTIDO QUIQUE ME ADAPTO A JUPYTER PERO JUPYTER NO SE ADAPTA A MI"
   ]
  },
  {
   "cell_type": "markdown",
   "metadata": {},
   "source": [
    "#### Number of Titles that have changed in the United States Code since its last release point "
   ]
  },
  {
   "cell_type": "code",
   "execution_count": null,
   "metadata": {},
   "outputs": [],
   "source": [
    "# This is the url you will scrape in this exercise\n",
    "url = 'http://uscode.house.gov/download/download.shtml'"
   ]
  },
  {
   "cell_type": "code",
   "execution_count": null,
   "metadata": {},
   "outputs": [],
   "source": [
    "#your code"
   ]
  },
  {
   "cell_type": "markdown",
   "metadata": {},
   "source": [
    "#### A Python list with the top ten FBI's Most Wanted names "
   ]
  },
  {
   "cell_type": "code",
   "execution_count": null,
   "metadata": {},
   "outputs": [],
   "source": [
    "# This is the url you will scrape in this exercise\n",
    "url = 'https://www.fbi.gov/wanted/topten'"
   ]
  },
  {
   "cell_type": "code",
   "execution_count": null,
   "metadata": {},
   "outputs": [],
   "source": [
    "#your code "
   ]
  },
  {
   "cell_type": "markdown",
   "metadata": {},
   "source": [
    "####  20 latest earthquakes info (date, time, latitude, longitude and region name) by the EMSC as a pandas dataframe"
   ]
  },
  {
   "cell_type": "code",
   "execution_count": null,
   "metadata": {},
   "outputs": [],
   "source": [
    "# This is the url you will scrape in this exercise\n",
    "url = 'https://www.emsc-csem.org/Earthquake/'"
   ]
  },
  {
   "cell_type": "code",
   "execution_count": null,
   "metadata": {},
   "outputs": [],
   "source": [
    "#your code"
   ]
  },
  {
   "cell_type": "markdown",
   "metadata": {},
   "source": [
    "#### Display the date, days, title, city, country of next 25 hackathon events as a Pandas dataframe table"
   ]
  },
  {
   "cell_type": "code",
   "execution_count": null,
   "metadata": {},
   "outputs": [],
   "source": [
    "# This is the url you will scrape in this exercise\n",
    "url ='https://hackevents.co/hackathons'"
   ]
  },
  {
   "cell_type": "code",
   "execution_count": null,
   "metadata": {},
   "outputs": [],
   "source": [
    "#your code"
   ]
  },
  {
   "cell_type": "markdown",
   "metadata": {},
   "source": [
    "#### Count number of tweets by a given Twitter account."
   ]
  },
  {
   "cell_type": "markdown",
   "metadata": {},
   "source": [
    "You will need to include a ***try/except block*** for account names not found. \n",
    "<br>***Hint:*** the program should count the number of tweets for any provided account"
   ]
  },
  {
   "cell_type": "code",
   "execution_count": null,
   "metadata": {},
   "outputs": [],
   "source": [
    "# This is the url you will scrape in this exercise \n",
    "# You will need to add the account credentials to this url\n",
    "url = 'https://twitter.com/'"
   ]
  },
  {
   "cell_type": "code",
   "execution_count": null,
   "metadata": {},
   "outputs": [],
   "source": [
    "#your code"
   ]
  },
  {
   "cell_type": "markdown",
   "metadata": {},
   "source": [
    "#### Number of followers of a given twitter account"
   ]
  },
  {
   "cell_type": "markdown",
   "metadata": {},
   "source": [
    "You will need to include a ***try/except block*** in case account/s name not found. \n",
    "<br>***Hint:*** the program should count the followers for any provided account"
   ]
  },
  {
   "cell_type": "code",
   "execution_count": null,
   "metadata": {},
   "outputs": [],
   "source": [
    "# This is the url you will scrape in this exercise \n",
    "# You will need to add the account credentials to this url\n",
    "url = 'https://twitter.com/'"
   ]
  },
  {
   "cell_type": "code",
   "execution_count": null,
   "metadata": {},
   "outputs": [],
   "source": [
    "#your code"
   ]
  },
  {
   "cell_type": "markdown",
   "metadata": {},
   "source": [
    "#### List all language names and number of related articles in the order they appear in wikipedia.org"
   ]
  },
  {
   "cell_type": "code",
   "execution_count": null,
   "metadata": {},
   "outputs": [],
   "source": [
    "# This is the url you will scrape in this exercise\n",
    "url = 'https://www.wikipedia.org/'"
   ]
  },
  {
   "cell_type": "code",
   "execution_count": null,
   "metadata": {},
   "outputs": [],
   "source": [
    "#your code"
   ]
  },
  {
   "cell_type": "markdown",
   "metadata": {},
   "source": [
    "#### A list with the different kind of datasets available in data.gov.uk "
   ]
  },
  {
   "cell_type": "code",
   "execution_count": null,
   "metadata": {},
   "outputs": [],
   "source": [
    "# This is the url you will scrape in this exercise\n",
    "url = 'https://data.gov.uk/'"
   ]
  },
  {
   "cell_type": "code",
   "execution_count": null,
   "metadata": {},
   "outputs": [],
   "source": [
    "#your code "
   ]
  },
  {
   "cell_type": "markdown",
   "metadata": {},
   "source": [
    "#### Top 10 languages by number of native speakers stored in a Pandas Dataframe"
   ]
  },
  {
   "cell_type": "code",
   "execution_count": null,
   "metadata": {},
   "outputs": [],
   "source": [
    "# This is the url you will scrape in this exercise\n",
    "url = 'https://en.wikipedia.org/wiki/List_of_languages_by_number_of_native_speakers'"
   ]
  },
  {
   "cell_type": "code",
   "execution_count": null,
   "metadata": {},
   "outputs": [],
   "source": [
    "#your code"
   ]
  },
  {
   "cell_type": "markdown",
   "metadata": {},
   "source": [
    "### BONUS QUESTIONS"
   ]
  },
  {
   "cell_type": "markdown",
   "metadata": {},
   "source": [
    "#### Scrape a certain number of tweets of a given Twitter account."
   ]
  },
  {
   "cell_type": "code",
   "execution_count": null,
   "metadata": {},
   "outputs": [],
   "source": [
    "# This is the url you will scrape in this exercise \n",
    "# You will need to add the account credentials to this url\n",
    "url = 'https://twitter.com/'"
   ]
  },
  {
   "cell_type": "code",
   "execution_count": null,
   "metadata": {},
   "outputs": [],
   "source": [
    "# your code"
   ]
  },
  {
   "cell_type": "markdown",
   "metadata": {},
   "source": [
    "#### IMDB's Top 250 data (movie name, Initial release, director name and stars) as a pandas dataframe"
   ]
  },
  {
   "cell_type": "code",
   "execution_count": null,
   "metadata": {},
   "outputs": [],
   "source": [
    "# This is the url you will scrape in this exercise \n",
    "url = 'https://www.imdb.com/chart/top'"
   ]
  },
  {
   "cell_type": "code",
   "execution_count": null,
   "metadata": {},
   "outputs": [],
   "source": [
    "# your code"
   ]
  },
  {
   "cell_type": "markdown",
   "metadata": {},
   "source": [
    "#### Movie name, year and a brief summary of the top 10 random movies (IMDB) as a pandas dataframe."
   ]
  },
  {
   "cell_type": "code",
   "execution_count": null,
   "metadata": {},
   "outputs": [],
   "source": [
    "#This is the url you will scrape in this exercise\n",
    "url = 'http://www.imdb.com/chart/top'"
   ]
  },
  {
   "cell_type": "code",
   "execution_count": null,
   "metadata": {},
   "outputs": [],
   "source": [
    "#your code"
   ]
  },
  {
   "cell_type": "markdown",
   "metadata": {},
   "source": [
    "#### Find the live weather report (temperature, wind speed, description and weather) of a given city."
   ]
  },
  {
   "cell_type": "code",
   "execution_count": null,
   "metadata": {},
   "outputs": [],
   "source": [
    "#https://openweathermap.org/current\n",
    "city = city=input('Enter the city:')\n",
    "url = 'http://api.openweathermap.org/data/2.5/weather?'+'q='+city+'&APPID=b35975e18dc93725acb092f7272cc6b8&units=metric'"
   ]
  },
  {
   "cell_type": "code",
   "execution_count": null,
   "metadata": {},
   "outputs": [],
   "source": [
    "# your code"
   ]
  },
  {
   "cell_type": "markdown",
   "metadata": {},
   "source": [
    "#### Book name,price and stock availability as a pandas dataframe."
   ]
  },
  {
   "cell_type": "code",
   "execution_count": null,
   "metadata": {},
   "outputs": [],
   "source": [
    "# This is the url you will scrape in this exercise. \n",
    "# It is a fictional bookstore created to be scraped. \n",
    "url = 'http://books.toscrape.com/'"
   ]
  },
  {
   "cell_type": "code",
   "execution_count": null,
   "metadata": {},
   "outputs": [],
   "source": [
    "#your code"
   ]
  }
 ],
 "metadata": {
  "kernelspec": {
   "display_name": "Python 3 (ipykernel)",
   "language": "python",
   "name": "python3"
  },
  "language_info": {
   "codemirror_mode": {
    "name": "ipython",
    "version": 3
   },
   "file_extension": ".py",
   "mimetype": "text/x-python",
   "name": "python",
   "nbconvert_exporter": "python",
   "pygments_lexer": "ipython3",
   "version": "3.8.13"
  }
 },
 "nbformat": 4,
 "nbformat_minor": 2
}
