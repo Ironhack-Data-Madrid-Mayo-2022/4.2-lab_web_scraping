{
 "cells": [
  {
   "cell_type": "markdown",
   "metadata": {},
   "source": [
    "# Web Scraping Lab\n",
    "\n",
    "You will find in this notebook some scrapy exercises to practise your scraping skills.\n",
    "\n",
    "**Tips:**\n",
    "\n",
    "- Check the response status code for each request to ensure you have obtained the intended contennt.\n",
    "- Print the response text in each request to understand the kind of info you are getting and its format.\n",
    "- Check for patterns in the response text to extract the data/info requested in each question.\n",
    "- Visit each url and take a look at its source through Chrome DevTools. You'll need to identify the html tags, special class names etc. used for the html content you are expected to extract."
   ]
  },
  {
   "cell_type": "markdown",
   "metadata": {},
   "source": [
    "- [Requests library](http://docs.python-requests.org/en/master/#the-user-guide) documentation \n",
    "- [Beautiful Soup Doc](https://www.crummy.com/software/BeautifulSoup/bs4/doc/)\n",
    "- [Urllib](https://docs.python.org/3/library/urllib.html#module-urllib)\n",
    "- [re lib](https://docs.python.org/3/library/re.html)\n",
    "- [lxml lib](https://lxml.de/)\n",
    "- [Scrapy](https://scrapy.org/)\n",
    "- [List of HTTP status codes](https://en.wikipedia.org/wiki/List_of_HTTP_status_codes)\n",
    "- [HTML basics](http://www.simplehtmlguide.com/cheatsheet.php)\n",
    "- [CSS basics](https://www.cssbasics.com/#page_start)"
   ]
  },
  {
   "cell_type": "markdown",
   "metadata": {},
   "source": [
    "#### Below are the libraries and modules you may need. `requests`,  `BeautifulSoup` and `pandas` are imported for you. If you prefer to use additional libraries feel free to uncomment them."
   ]
  },
  {
   "cell_type": "code",
   "execution_count": 1,
   "metadata": {},
   "outputs": [],
   "source": [
    "import requests as req\n",
    "from bs4 import BeautifulSoup as bs\n",
    "import pandas as pd\n",
    "# from pprint import pprint\n",
    "# from lxml import html\n",
    "# from lxml.html import fromstring\n",
    "# import urllib.request\n",
    "# from urllib.request import urlopen\n",
    "# import random\n",
    "# import re\n",
    "# import scrapy"
   ]
  },
  {
   "cell_type": "markdown",
   "metadata": {},
   "source": [
    "#### Download, parse (using BeautifulSoup), and print the content from the Trending Developers page from GitHub:"
   ]
  },
  {
   "cell_type": "code",
   "execution_count": 2,
   "metadata": {},
   "outputs": [],
   "source": [
    "# This is the url you will scrape in this exercise\n",
    "url = 'https://github.com/trending/developers'"
   ]
  },
  {
   "cell_type": "code",
   "execution_count": 3,
   "metadata": {},
   "outputs": [],
   "source": [
    "trending_developer=req.get(url).content"
   ]
  },
  {
   "cell_type": "code",
   "execution_count": 4,
   "metadata": {},
   "outputs": [
    {
     "data": {
      "text/plain": [
       "[<meta charset=\"utf-8\"/>,\n",
       " <link href=\"https://github.githubassets.com\" rel=\"dns-prefetch\"/>,\n",
       " <link href=\"https://avatars.githubusercontent.com\" rel=\"dns-prefetch\"/>,\n",
       " <link href=\"https://github-cloud.s3.amazonaws.com\" rel=\"dns-prefetch\"/>,\n",
       " <link href=\"https://user-images.githubusercontent.com/\" rel=\"dns-prefetch\"/>,\n",
       " <link crossorigin=\"\" href=\"https://github.githubassets.com\" rel=\"preconnect\"/>,\n",
       " <link href=\"https://avatars.githubusercontent.com\" rel=\"preconnect\"/>,\n",
       " <link crossorigin=\"anonymous\" href=\"https://github.githubassets.com/assets/light-92c7d381038e.css\" integrity=\"sha512-ksfTgQOOnE+FFXf+yNfVjKSlEckJAdufFIYGK7ZjRhWcZgzAGcmZqqArTgMLpu90FwthqcCX4ldDgKXbmVMeuQ==\" media=\"all\" rel=\"stylesheet\"><link crossorigin=\"anonymous\" href=\"https://github.githubassets.com/assets/dark-d4a90c367f0c.css\" integrity=\"sha512-1KkMNn8M/al/dtzBLupRwkIOgnA9MWkm8oxS+solP87jByEvY/g4BmoxLihRogKcX1obPnf4Yp7dI0ZTWO+ljg==\" media=\"all\" rel=\"stylesheet\"><link crossorigin=\"anonymous\" data-color-theme=\"dark_dimmed\" data-href=\"https://github.githubassets.com/assets/dark_dimmed-7196bb0d9aaf.css\" integrity=\"sha512-cZa7DZqvMBwD236uzEunO/G1dvw8/QftyT2UtLWKQFEy0z0eq0R5WPwqVME+3NSZG1YaLJAaIqtU+m0zWf/6SQ==\" media=\"all\" rel=\"stylesheet\"><link crossorigin=\"anonymous\" data-color-theme=\"dark_high_contrast\" data-href=\"https://github.githubassets.com/assets/dark_high_contrast-595a0aa89e32.css\" integrity=\"sha512-WVoKqJ4y1nLsdNH4RkRT5qrM9+n9RFe1RHSiTnQkBf5TSZkJEc9GpLpTIS7T15EQaUQBJ8BwmKvwFPVqfpTEIQ==\" media=\"all\" rel=\"stylesheet\"><link crossorigin=\"anonymous\" data-color-theme=\"dark_colorblind\" data-href=\"https://github.githubassets.com/assets/dark_colorblind-5e900c04c491.css\" integrity=\"sha512-XpAMBMSRZ6RTXgepS8LjKiOeNK3BilRbv8qEiA/M3m+Q4GoqxtHedOI5BAZRikCzfBL4KWYvVzYZSZ8Gp/UnUg==\" media=\"all\" rel=\"stylesheet\"><link crossorigin=\"anonymous\" data-color-theme=\"light_colorblind\" data-href=\"https://github.githubassets.com/assets/light_colorblind-dc71761d9e0b.css\" integrity=\"sha512-3HF2HZ4LgEIQm77yOzoeR20CX1n2cUQlcywscqF4s+5iplolajiHV7E5ranBwkX65jN9TNciHEVSYebQ+8xxEw==\" media=\"all\" rel=\"stylesheet\"><link crossorigin=\"anonymous\" data-color-theme=\"light_high_contrast\" data-href=\"https://github.githubassets.com/assets/light_high_contrast-f89f23dd3d24.css\" integrity=\"sha512-+J8j3T0kbK9/sL3zbkCfPtgYcRD4qQfRbT6xnfOrOTjvz4zhr0M7AXPuE642PpaxGhHs1t77cTtieW9hI2K6Gw==\" media=\"all\" rel=\"stylesheet\"/><link crossorigin=\"anonymous\" data-color-theme=\"light_tritanopia\" data-href=\"https://github.githubassets.com/assets/light_tritanopia-010780c79c07.css\" integrity=\"sha512-AQeAx5wHQAXNf0DmkvVlHYwA3f6BkxunWTI0GGaRN57GqD+H9tW8RKIKlopLS0qGaC54seFsPc601GDlqIuuHg==\" media=\"all\" rel=\"stylesheet\"/><link crossorigin=\"anonymous\" data-color-theme=\"dark_tritanopia\" data-href=\"https://github.githubassets.com/assets/dark_tritanopia-faee699a0004.css\" integrity=\"sha512-+u5pmgAE0T03d/yI6Ha0NWwz6Pk0W6S6WEfIt8veDVdK8NTjcMbZmQB9XUCkDlrBoAKkABva8HuGJ+SzEpV1Uw==\" media=\"all\" rel=\"stylesheet\"/>\n",
       " <link crossorigin=\"anonymous\" href=\"https://github.githubassets.com/assets/primer-10084108b209.css\" integrity=\"sha512-EAhBCLIJ/pXHG3Y6yQhs9s53SHV80sjJ+yCwlQtfv7LaVkD+VoEuZBZ5betQJFUNj/5qBSfZk5GFtazEDzWLAg==\" media=\"all\" rel=\"stylesheet\"/>\n",
       " <link crossorigin=\"anonymous\" href=\"https://github.githubassets.com/assets/global-181aeb293fed.css\" integrity=\"sha512-GBrrKT/tt9A5pFmKVLCNnourKA3+WLtZiMpFPZK2gud/Tqpe0Jf/w57QKf9ITlI2jiT3bTOvbhblwLX+z9X3XA==\" media=\"all\" rel=\"stylesheet\"/>\n",
       " <link crossorigin=\"anonymous\" href=\"https://github.githubassets.com/assets/github-4151d1bd4fa5.css\" integrity=\"sha512-QVHRvU+lsiBTT0dePas9QeGUp/AUz8nmg5MOU5vTdzbvu8eEamPp51Zk/H9qsm70vBgDWe3fXKUDoxAs3pOe0g==\" media=\"all\" rel=\"stylesheet\"/>\n",
       " <link crossorigin=\"anonymous\" href=\"https://github.githubassets.com/assets/site-d31ea144555c.css\" integrity=\"sha512-0x6hRFVcuRNWhPqCOFtXdE2J8WRLzi92vI37R/cnbEyw1JbgRkOIZv+hoYwk1Z+BnSLOwYorhPLm6jrWoV3c7Q==\" media=\"all\" rel=\"stylesheet\"/>\n",
       " <link crossorigin=\"anonymous\" href=\"https://github.githubassets.com/assets/explore-91bd47378abc.css\" integrity=\"sha512-kb1HN4q8/AYgCEDRBJjoppyNOFO0ZKNJCPB7KNEEVlR6e4OLAZ4K3B0+0Z7Nns+WyRmXQLhf2Ub12ZQ+wUQn+w==\" media=\"all\" rel=\"stylesheet\"/>\n",
       " <script crossorigin=\"anonymous\" defer=\"defer\" integrity=\"sha512-gYUql3JlOo86LjmuSgD5S2dkS7d2jATYaVyGkyxQTl6B5EHpSWHW5Ugc8FYxZwLCMLOvjEgi9eIu+scu9TvFMA==\" src=\"https://github.githubassets.com/assets/runtime-81852a977265.js\" type=\"application/javascript\"></script>\n",
       " <script crossorigin=\"anonymous\" defer=\"defer\" integrity=\"sha512-PM8ZLRUfpmVrBB5IBGPS7v8sTlrv6Q6qpwNgm+QuU3SZGtsOwREnkqfHqfcI1SsGrcObmcLMG0fWSRJvlLJsBQ==\" src=\"https://github.githubassets.com/assets/environment-3ccf192d151f.js\" type=\"application/javascript\"></script>\n",
       " <script crossorigin=\"anonymous\" defer=\"defer\" integrity=\"sha512-io+1MvgXPXTw8Kp4eOdNMJl8uGASuw8VfTY5VeIFETaAknimWi8GoxggMEeQ6mq0de4Dest4iIJ/9gUbCo0hgw==\" src=\"https://github.githubassets.com/assets/vendors-node_modules_selector-observer_dist_index_esm_js-8a8fb532f817.js\" type=\"application/javascript\"></script>\n",
       " <script crossorigin=\"anonymous\" defer=\"defer\" integrity=\"sha512-Es25N4GyPa8Yfp5wpahoe5b2fyPtkRMyR6mKIXyCJC0ocqQazeWvxhGZhx3StRxOfqDfHDR5SS35u/R3Wux6Cg==\" src=\"https://github.githubassets.com/assets/vendors-node_modules_delegated-events_dist_index_js-node_modules_github_details-dialog-elemen-63debe-12cdb93781b2.js\" type=\"application/javascript\"></script>\n",
       " <script crossorigin=\"anonymous\" defer=\"defer\" integrity=\"sha512-lmiecOIgf+hakg5oKMNM7grVhEDyPoIrT39Px448JJH5PSAaK21PH0Twgyz5O5oi8+dnlLr3Jt8bBCtAcpNdRw==\" src=\"https://github.githubassets.com/assets/vendors-node_modules_github_filter-input-element_dist_index_js-node_modules_github_remote-inp-c7e9ed-96689e70e220.js\" type=\"application/javascript\"></script>\n",
       " <script crossorigin=\"anonymous\" defer=\"defer\" integrity=\"sha512-y67eNkVaNK4RguUGcHOvIbHFlgf1Qje+LDdjVw2eFuuvBOqta2GePz/CwoLIR/PJhhRAj5RPGxCWoomnimSw6w==\" src=\"https://github.githubassets.com/assets/vendors-node_modules_github_catalyst_lib_index_js-node_modules_github_time-elements_dist_index_js-cbaede36455a.js\" type=\"application/javascript\"></script>\n",
       " <script crossorigin=\"anonymous\" defer=\"defer\" integrity=\"sha512-DE9GK/TS3Hf/dJfP1GMiyjvsGRnpR4A1eGH64s0Ot7Vy7Tj7/aD1d5EOMWHFWQXlXy/ZSwu5MHInG6RZN31bMA==\" src=\"https://github.githubassets.com/assets/vendors-node_modules_github_file-attachment-element_dist_index_js-node_modules_primer_view-co-52e104-0c4f462bf4d2.js\" type=\"application/javascript\"></script>\n",
       " <script crossorigin=\"anonymous\" defer=\"defer\" integrity=\"sha512-i0Ha1jdl+Ze1GOoj8XJ4FmsHvIvxukCOi0Om2NK2574NSfisYFHJTigepoBa0Ft+u1d2T9Lc3C60Pn9ma+gAng==\" src=\"https://github.githubassets.com/assets/github-elements-8b41dad63765.js\" type=\"application/javascript\"></script>\n",
       " <script crossorigin=\"anonymous\" defer=\"defer\" integrity=\"sha512-WuNKYWBvlhp4UyBN3XBD+FXQ2rLTQa11KWVz1oSnQwBim+Bd53Ue6NJZKkvzDOyak32JBUI7PSwqbiKNiiequQ==\" src=\"https://github.githubassets.com/assets/element-registry-5ae34a61606f.js\" type=\"application/javascript\"></script>\n",
       " <script crossorigin=\"anonymous\" defer=\"defer\" integrity=\"sha512-uo73yUZcm4EicwjSbfxFZcKfjWniOxhLBp+q1n7IFRfutFM6/lzbQMgD0Xrxp7QD1HzqdvrV8UclPhi3mEOyzQ==\" src=\"https://github.githubassets.com/assets/vendors-node_modules_lit-html_lit-html_js-ba8ef7c9465c.js\" type=\"application/javascript\"></script>\n",
       " <script crossorigin=\"anonymous\" defer=\"defer\" integrity=\"sha512-5XdknqL9iTuaAhbOnKJDHf+5bJReOYDwlz5p2mW+SAVfab4RN6AfIliqtPwheKld40DrhPs47We/mT5nlZq2Sg==\" src=\"https://github.githubassets.com/assets/vendors-node_modules_github_remote-form_dist_index_js-node_modules_github_catalyst_lib_index_-87b1b3-e577649ea2fd.js\" type=\"application/javascript\"></script>\n",
       " <script crossorigin=\"anonymous\" defer=\"defer\" integrity=\"sha512-0r1nf/rfPz54kyePp4f63bcPxkFo7wyaUZJD/SwIVDK3q0WzurAK9ydOm88tzKtPJm8xWI0Vo25NyCfecwxJ9g==\" src=\"https://github.githubassets.com/assets/vendors-node_modules_github_mini-throttle_dist_index_js-node_modules_github_hotkey_dist_index-9f48bd-d2bd677ffadf.js\" type=\"application/javascript\"></script>\n",
       " <script crossorigin=\"anonymous\" defer=\"defer\" integrity=\"sha512-VK56d0N1hPZ20mOzPoy84zlTGCjGbKKmVvfjoyDqSF+VxTD4f6X8QDs2RgG1R1cdBmsCiea+ZxP6ukV3tHlD+Q==\" src=\"https://github.githubassets.com/assets/vendors-node_modules_github_paste-markdown_dist_index_esm_js-node_modules_github_quote-select-df2537-54ae7a774375.js\" type=\"application/javascript\"></script>\n",
       " <script crossorigin=\"anonymous\" defer=\"defer\" integrity=\"sha512-n4Tyfi5c/uwygTjsnha2QyN3+RMC8XNjYdlbvspiE6fN9tdKgsapC36CztCZX31jUoPvHY3HPpR4MaU5JZhs5Q==\" src=\"https://github.githubassets.com/assets/app_assets_modules_github_behaviors_pjax_ts-9f84f27e2e5c.js\" type=\"application/javascript\"></script>\n",
       " <script crossorigin=\"anonymous\" defer=\"defer\" integrity=\"sha512-1VTsfTthjXvPtrjOvr3XUFjwRwpH5AloYdd7+mwF6+/CoUCyh9/ubBqMz7E7Mt87Pn2kihXHOBfRUWg1WZLkXw==\" src=\"https://github.githubassets.com/assets/app_assets_modules_github_behaviors_keyboard-shortcuts-helper_ts-app_assets_modules_github_be-af52ef-d554ec7d3b61.js\" type=\"application/javascript\"></script>\n",
       " <script crossorigin=\"anonymous\" defer=\"defer\" integrity=\"sha512-0NikpU+gxgHVGfcMbcap8D9A8ECCSTIJI4fiNTU5mtiNTVhvVfTvLcx319I83IH6maTwF7/m8kgxcFpZh2Paxw==\" src=\"https://github.githubassets.com/assets/app_assets_modules_github_behaviors_details_ts-app_assets_modules_github_behaviors_include-fr-a5a4c7-d0d8a4a54fa0.js\" type=\"application/javascript\"></script>\n",
       " <script crossorigin=\"anonymous\" defer=\"defer\" integrity=\"sha512-DjIAk2m3fnRtwGLuTVtNfvqAVx6ayA/NOkYx8IAw5r2msssvir2/bEEoK8pKGjCXW+UarNYn/gu68PAbdIukXA==\" src=\"https://github.githubassets.com/assets/behaviors-0e32009369b7.js\" type=\"application/javascript\"></script>\n",
       " <script crossorigin=\"anonymous\" defer=\"defer\" integrity=\"sha512-rLnbCtiKIpRtm1jgAz913tDImW3g8G+FLRMBIMwrkZ33pO8PMzWDG4m8Zl0uIIs10hCyFr6Dc8s6VDC200S9lg==\" src=\"https://github.githubassets.com/assets/vendors-node_modules_delegated-events_dist_index_js-node_modules_github_catalyst_lib_index_js-01c6c51-acb9db0ad88a.js\" type=\"application/javascript\"></script>\n",
       " <script crossorigin=\"anonymous\" defer=\"defer\" integrity=\"sha512-paDaHAe8uAMftTo7ooywENAI3NeRIHNk0IxXV2vJxs3L5/F7hiGDPCDCq2YWOgshQV/AyMjc4bb3TzU9o/+BWQ==\" src=\"https://github.githubassets.com/assets/notifications-global-a5a0da1c07bc.js\" type=\"application/javascript\"></script>\n",
       " <title>Trending  developers on GitHub today · GitHub</title>\n",
       " <meta content=\"C314:63CC:F078F4:FCB219:62B29A57\" data-pjax-transient=\"true\" name=\"request-id\"><meta content=\"9b2f7388ad5dbbdca9eb802697b5ada2439e61f2ce1052f8715779c5ad2f50c1\" data-pjax-transient=\"true\" name=\"html-safe-nonce\"/><meta content=\"eyJyZWZlcnJlciI6IiIsInJlcXVlc3RfaWQiOiJDMzE0OjYzQ0M6RjA3OEY0OkZDQjIxOTo2MkIyOUE1NyIsInZpc2l0b3JfaWQiOiI4NDU2ODM3NDE4MzI4NDMxMTkxIiwicmVnaW9uX2VkZ2UiOiJmcmEiLCJyZWdpb25fcmVuZGVyIjoiZnJhIn0=\" data-pjax-transient=\"true\" name=\"visitor-payload\"/><meta content=\"df094cec65b4c4df01bb303dbc45651a891a8a707374e341f43d212eff2b40d0\" data-pjax-transient=\"true\" name=\"visitor-hmac\"/>\n",
       " <meta content=\"\" data-pjax-transient=\"true\" name=\"github-keyboard-shortcuts\"/>\n",
       " <meta data-pjax-transient=\"\" name=\"selected-link\" value=\"trending_developers\"/>\n",
       " <meta content=\"c1kuD-K2HIVF635lypcsWPoD4kilo5-jA_wBFyT4uMY\" name=\"google-site-verification\"/>\n",
       " <meta content=\"KT5gs8h0wvaagLKAVWq8bbeNwnZZK1r1XQysX3xurLU\" name=\"google-site-verification\"/>\n",
       " <meta content=\"ZzhVyEFwb7w3e0-uOTltm8Jsck2F5StVihD0exw2fsA\" name=\"google-site-verification\"/>\n",
       " <meta content=\"GXs5KoUUkNCoaAZn7wPN-t01Pywp9M3sEjnt_3_ZWPc\" name=\"google-site-verification\"/>\n",
       " <meta content=\"https://collector.github.com/github/collect\" name=\"octolytics-url\">\n",
       " <meta content=\"\" name=\"user-login\"/>\n",
       " <meta content=\"width=device-width\" name=\"viewport\"/>\n",
       " <meta content=\"GitHub is where people build software. More than 83 million people use GitHub to discover, fork, and contribute to over 200 million projects.\" name=\"description\"/>\n",
       " <link href=\"/opensearch.xml\" rel=\"search\" title=\"GitHub\" type=\"application/opensearchdescription+xml\"/>\n",
       " <link href=\"https://github.com/fluidicon.png\" rel=\"fluid-icon\" title=\"GitHub\"/>\n",
       " <meta content=\"1401488693436528\" property=\"fb:app_id\"/>\n",
       " <meta content=\"app-id=1477376905\" name=\"apple-itunes-app\">\n",
       " <meta content=\"https://github.com\" property=\"og:url\"/>\n",
       " <meta content=\"GitHub\" property=\"og:site_name\"/>\n",
       " <meta content=\"Build software better, together\" property=\"og:title\"/>\n",
       " <meta content=\"GitHub is where people build software. More than 83 million people use GitHub to discover, fork, and contribute to over 200 million projects.\" property=\"og:description\"/>\n",
       " <meta content=\"https://github.githubassets.com/images/modules/open_graph/github-logo.png\" property=\"og:image\"/>\n",
       " <meta content=\"image/png\" property=\"og:image:type\"/>\n",
       " <meta content=\"1200\" property=\"og:image:width\"/>\n",
       " <meta content=\"1200\" property=\"og:image:height\"/>\n",
       " <meta content=\"https://github.githubassets.com/images/modules/open_graph/github-mark.png\" property=\"og:image\"/>\n",
       " <meta content=\"image/png\" property=\"og:image:type\"/>\n",
       " <meta content=\"1200\" property=\"og:image:width\"/>\n",
       " <meta content=\"620\" property=\"og:image:height\"/>\n",
       " <meta content=\"https://github.githubassets.com/images/modules/open_graph/github-octocat.png\" property=\"og:image\"/>\n",
       " <meta content=\"image/png\" property=\"og:image:type\"/>\n",
       " <meta content=\"1200\" property=\"og:image:width\"/>\n",
       " <meta content=\"620\" property=\"og:image:height\"/>\n",
       " <meta content=\"github\" property=\"twitter:site\"/>\n",
       " <meta content=\"13334762\" property=\"twitter:site:id\"/>\n",
       " <meta content=\"github\" property=\"twitter:creator\"/>\n",
       " <meta content=\"13334762\" property=\"twitter:creator:id\"/>\n",
       " <meta content=\"summary_large_image\" property=\"twitter:card\"/>\n",
       " <meta content=\"GitHub\" property=\"twitter:title\"/>\n",
       " <meta content=\"GitHub is where people build software. More than 83 million people use GitHub to discover, fork, and contribute to over 200 million projects.\" property=\"twitter:description\"/>\n",
       " <meta content=\"https://github.githubassets.com/images/modules/open_graph/github-logo.png\" property=\"twitter:image:src\"/>\n",
       " <meta content=\"1200\" property=\"twitter:image:width\"/>\n",
       " <meta content=\"1200\" property=\"twitter:image:height\"/>\n",
       " <link href=\"https://github.githubassets.com/\" rel=\"assets\"/>\n",
       " <meta content=\"github.com\" name=\"hostname\"/>\n",
       " <meta content=\"github.com\" name=\"expected-hostname\"/>\n",
       " <meta content=\"IMAGE_METRIC_TRACKING\" name=\"enabled-features\"/>\n",
       " <meta content=\"0e53093b5d9381c33ae17d40eadb26a68d0d16c854af9ed547bb25793e5daa3a\" data-turbo-track=\"reload\" http-equiv=\"x-pjax-version\"/>\n",
       " <meta content=\"485d6a5ccbb1eeae9c86b616b4870b531f6f458e8bd5c309c40280dc4f51defb\" data-turbo-track=\"reload\" http-equiv=\"x-pjax-csp-version\"/>\n",
       " <meta content=\"0399fe76ef43d6a576656b61f9f49f8de05c5937737321833433fdf4a72c48f1\" data-turbo-track=\"reload\" http-equiv=\"x-pjax-css-version\"/>\n",
       " <meta content=\"d9d0a70a90e1620c5ca5c1862b2737bd3ab59039c5e5ae67c72fea2824808f44\" data-turbo-track=\"reload\" http-equiv=\"x-pjax-js-version\"/>\n",
       " <meta content=\"no-preview\" name=\"turbo-cache-control\"/>\n",
       " <link data-pjax-transient=\"\" href=\"https://github.com/trending/developers\" rel=\"canonical\"/>\n",
       " <meta content=\"logged-out env-production page-responsive\" name=\"turbo-body-classes\"/>\n",
       " <meta content=\"https://api.github.com/_private/browser/stats\" name=\"browser-stats-url\"/>\n",
       " <meta content=\"https://api.github.com/_private/browser/errors\" name=\"browser-errors-url\"/>\n",
       " <meta content=\"https://api.github.com/_private/browser/optimizely_client/errors\" name=\"browser-optimizely-client-errors-url\"/>\n",
       " <link color=\"#000000\" href=\"https://github.githubassets.com/pinned-octocat.svg\" rel=\"mask-icon\"/>\n",
       " <link class=\"js-site-favicon\" href=\"https://github.githubassets.com/favicons/favicon.png\" rel=\"alternate icon\" type=\"image/png\"/>\n",
       " <link class=\"js-site-favicon\" href=\"https://github.githubassets.com/favicons/favicon.svg\" rel=\"icon\" type=\"image/svg+xml\"/>\n",
       " <meta content=\"#1e2327\" name=\"theme-color\"/>\n",
       " <meta content=\"light dark\" name=\"color-scheme\">\n",
       " <link crossorigin=\"use-credentials\" href=\"/manifest.json\" rel=\"manifest\"/>\n",
       " </meta></meta></meta></meta></link></link></link></link></link></link>,\n",
       " <link crossorigin=\"anonymous\" href=\"https://github.githubassets.com/assets/dark-d4a90c367f0c.css\" integrity=\"sha512-1KkMNn8M/al/dtzBLupRwkIOgnA9MWkm8oxS+solP87jByEvY/g4BmoxLihRogKcX1obPnf4Yp7dI0ZTWO+ljg==\" media=\"all\" rel=\"stylesheet\"><link crossorigin=\"anonymous\" data-color-theme=\"dark_dimmed\" data-href=\"https://github.githubassets.com/assets/dark_dimmed-7196bb0d9aaf.css\" integrity=\"sha512-cZa7DZqvMBwD236uzEunO/G1dvw8/QftyT2UtLWKQFEy0z0eq0R5WPwqVME+3NSZG1YaLJAaIqtU+m0zWf/6SQ==\" media=\"all\" rel=\"stylesheet\"><link crossorigin=\"anonymous\" data-color-theme=\"dark_high_contrast\" data-href=\"https://github.githubassets.com/assets/dark_high_contrast-595a0aa89e32.css\" integrity=\"sha512-WVoKqJ4y1nLsdNH4RkRT5qrM9+n9RFe1RHSiTnQkBf5TSZkJEc9GpLpTIS7T15EQaUQBJ8BwmKvwFPVqfpTEIQ==\" media=\"all\" rel=\"stylesheet\"><link crossorigin=\"anonymous\" data-color-theme=\"dark_colorblind\" data-href=\"https://github.githubassets.com/assets/dark_colorblind-5e900c04c491.css\" integrity=\"sha512-XpAMBMSRZ6RTXgepS8LjKiOeNK3BilRbv8qEiA/M3m+Q4GoqxtHedOI5BAZRikCzfBL4KWYvVzYZSZ8Gp/UnUg==\" media=\"all\" rel=\"stylesheet\"><link crossorigin=\"anonymous\" data-color-theme=\"light_colorblind\" data-href=\"https://github.githubassets.com/assets/light_colorblind-dc71761d9e0b.css\" integrity=\"sha512-3HF2HZ4LgEIQm77yOzoeR20CX1n2cUQlcywscqF4s+5iplolajiHV7E5ranBwkX65jN9TNciHEVSYebQ+8xxEw==\" media=\"all\" rel=\"stylesheet\"><link crossorigin=\"anonymous\" data-color-theme=\"light_high_contrast\" data-href=\"https://github.githubassets.com/assets/light_high_contrast-f89f23dd3d24.css\" integrity=\"sha512-+J8j3T0kbK9/sL3zbkCfPtgYcRD4qQfRbT6xnfOrOTjvz4zhr0M7AXPuE642PpaxGhHs1t77cTtieW9hI2K6Gw==\" media=\"all\" rel=\"stylesheet\"/><link crossorigin=\"anonymous\" data-color-theme=\"light_tritanopia\" data-href=\"https://github.githubassets.com/assets/light_tritanopia-010780c79c07.css\" integrity=\"sha512-AQeAx5wHQAXNf0DmkvVlHYwA3f6BkxunWTI0GGaRN57GqD+H9tW8RKIKlopLS0qGaC54seFsPc601GDlqIuuHg==\" media=\"all\" rel=\"stylesheet\"/><link crossorigin=\"anonymous\" data-color-theme=\"dark_tritanopia\" data-href=\"https://github.githubassets.com/assets/dark_tritanopia-faee699a0004.css\" integrity=\"sha512-+u5pmgAE0T03d/yI6Ha0NWwz6Pk0W6S6WEfIt8veDVdK8NTjcMbZmQB9XUCkDlrBoAKkABva8HuGJ+SzEpV1Uw==\" media=\"all\" rel=\"stylesheet\"/>\n",
       " <link crossorigin=\"anonymous\" href=\"https://github.githubassets.com/assets/primer-10084108b209.css\" integrity=\"sha512-EAhBCLIJ/pXHG3Y6yQhs9s53SHV80sjJ+yCwlQtfv7LaVkD+VoEuZBZ5betQJFUNj/5qBSfZk5GFtazEDzWLAg==\" media=\"all\" rel=\"stylesheet\"/>\n",
       " <link crossorigin=\"anonymous\" href=\"https://github.githubassets.com/assets/global-181aeb293fed.css\" integrity=\"sha512-GBrrKT/tt9A5pFmKVLCNnourKA3+WLtZiMpFPZK2gud/Tqpe0Jf/w57QKf9ITlI2jiT3bTOvbhblwLX+z9X3XA==\" media=\"all\" rel=\"stylesheet\"/>\n",
       " <link crossorigin=\"anonymous\" href=\"https://github.githubassets.com/assets/github-4151d1bd4fa5.css\" integrity=\"sha512-QVHRvU+lsiBTT0dePas9QeGUp/AUz8nmg5MOU5vTdzbvu8eEamPp51Zk/H9qsm70vBgDWe3fXKUDoxAs3pOe0g==\" media=\"all\" rel=\"stylesheet\"/>\n",
       " <link crossorigin=\"anonymous\" href=\"https://github.githubassets.com/assets/site-d31ea144555c.css\" integrity=\"sha512-0x6hRFVcuRNWhPqCOFtXdE2J8WRLzi92vI37R/cnbEyw1JbgRkOIZv+hoYwk1Z+BnSLOwYorhPLm6jrWoV3c7Q==\" media=\"all\" rel=\"stylesheet\"/>\n",
       " <link crossorigin=\"anonymous\" href=\"https://github.githubassets.com/assets/explore-91bd47378abc.css\" integrity=\"sha512-kb1HN4q8/AYgCEDRBJjoppyNOFO0ZKNJCPB7KNEEVlR6e4OLAZ4K3B0+0Z7Nns+WyRmXQLhf2Ub12ZQ+wUQn+w==\" media=\"all\" rel=\"stylesheet\"/>\n",
       " <script crossorigin=\"anonymous\" defer=\"defer\" integrity=\"sha512-gYUql3JlOo86LjmuSgD5S2dkS7d2jATYaVyGkyxQTl6B5EHpSWHW5Ugc8FYxZwLCMLOvjEgi9eIu+scu9TvFMA==\" src=\"https://github.githubassets.com/assets/runtime-81852a977265.js\" type=\"application/javascript\"></script>\n",
       " <script crossorigin=\"anonymous\" defer=\"defer\" integrity=\"sha512-PM8ZLRUfpmVrBB5IBGPS7v8sTlrv6Q6qpwNgm+QuU3SZGtsOwREnkqfHqfcI1SsGrcObmcLMG0fWSRJvlLJsBQ==\" src=\"https://github.githubassets.com/assets/environment-3ccf192d151f.js\" type=\"application/javascript\"></script>\n",
       " <script crossorigin=\"anonymous\" defer=\"defer\" integrity=\"sha512-io+1MvgXPXTw8Kp4eOdNMJl8uGASuw8VfTY5VeIFETaAknimWi8GoxggMEeQ6mq0de4Dest4iIJ/9gUbCo0hgw==\" src=\"https://github.githubassets.com/assets/vendors-node_modules_selector-observer_dist_index_esm_js-8a8fb532f817.js\" type=\"application/javascript\"></script>\n",
       " <script crossorigin=\"anonymous\" defer=\"defer\" integrity=\"sha512-Es25N4GyPa8Yfp5wpahoe5b2fyPtkRMyR6mKIXyCJC0ocqQazeWvxhGZhx3StRxOfqDfHDR5SS35u/R3Wux6Cg==\" src=\"https://github.githubassets.com/assets/vendors-node_modules_delegated-events_dist_index_js-node_modules_github_details-dialog-elemen-63debe-12cdb93781b2.js\" type=\"application/javascript\"></script>\n",
       " <script crossorigin=\"anonymous\" defer=\"defer\" integrity=\"sha512-lmiecOIgf+hakg5oKMNM7grVhEDyPoIrT39Px448JJH5PSAaK21PH0Twgyz5O5oi8+dnlLr3Jt8bBCtAcpNdRw==\" src=\"https://github.githubassets.com/assets/vendors-node_modules_github_filter-input-element_dist_index_js-node_modules_github_remote-inp-c7e9ed-96689e70e220.js\" type=\"application/javascript\"></script>\n",
       " <script crossorigin=\"anonymous\" defer=\"defer\" integrity=\"sha512-y67eNkVaNK4RguUGcHOvIbHFlgf1Qje+LDdjVw2eFuuvBOqta2GePz/CwoLIR/PJhhRAj5RPGxCWoomnimSw6w==\" src=\"https://github.githubassets.com/assets/vendors-node_modules_github_catalyst_lib_index_js-node_modules_github_time-elements_dist_index_js-cbaede36455a.js\" type=\"application/javascript\"></script>\n",
       " <script crossorigin=\"anonymous\" defer=\"defer\" integrity=\"sha512-DE9GK/TS3Hf/dJfP1GMiyjvsGRnpR4A1eGH64s0Ot7Vy7Tj7/aD1d5EOMWHFWQXlXy/ZSwu5MHInG6RZN31bMA==\" src=\"https://github.githubassets.com/assets/vendors-node_modules_github_file-attachment-element_dist_index_js-node_modules_primer_view-co-52e104-0c4f462bf4d2.js\" type=\"application/javascript\"></script>\n",
       " <script crossorigin=\"anonymous\" defer=\"defer\" integrity=\"sha512-i0Ha1jdl+Ze1GOoj8XJ4FmsHvIvxukCOi0Om2NK2574NSfisYFHJTigepoBa0Ft+u1d2T9Lc3C60Pn9ma+gAng==\" src=\"https://github.githubassets.com/assets/github-elements-8b41dad63765.js\" type=\"application/javascript\"></script>\n",
       " <script crossorigin=\"anonymous\" defer=\"defer\" integrity=\"sha512-WuNKYWBvlhp4UyBN3XBD+FXQ2rLTQa11KWVz1oSnQwBim+Bd53Ue6NJZKkvzDOyak32JBUI7PSwqbiKNiiequQ==\" src=\"https://github.githubassets.com/assets/element-registry-5ae34a61606f.js\" type=\"application/javascript\"></script>\n",
       " <script crossorigin=\"anonymous\" defer=\"defer\" integrity=\"sha512-uo73yUZcm4EicwjSbfxFZcKfjWniOxhLBp+q1n7IFRfutFM6/lzbQMgD0Xrxp7QD1HzqdvrV8UclPhi3mEOyzQ==\" src=\"https://github.githubassets.com/assets/vendors-node_modules_lit-html_lit-html_js-ba8ef7c9465c.js\" type=\"application/javascript\"></script>\n",
       " <script crossorigin=\"anonymous\" defer=\"defer\" integrity=\"sha512-5XdknqL9iTuaAhbOnKJDHf+5bJReOYDwlz5p2mW+SAVfab4RN6AfIliqtPwheKld40DrhPs47We/mT5nlZq2Sg==\" src=\"https://github.githubassets.com/assets/vendors-node_modules_github_remote-form_dist_index_js-node_modules_github_catalyst_lib_index_-87b1b3-e577649ea2fd.js\" type=\"application/javascript\"></script>\n",
       " <script crossorigin=\"anonymous\" defer=\"defer\" integrity=\"sha512-0r1nf/rfPz54kyePp4f63bcPxkFo7wyaUZJD/SwIVDK3q0WzurAK9ydOm88tzKtPJm8xWI0Vo25NyCfecwxJ9g==\" src=\"https://github.githubassets.com/assets/vendors-node_modules_github_mini-throttle_dist_index_js-node_modules_github_hotkey_dist_index-9f48bd-d2bd677ffadf.js\" type=\"application/javascript\"></script>\n",
       " <script crossorigin=\"anonymous\" defer=\"defer\" integrity=\"sha512-VK56d0N1hPZ20mOzPoy84zlTGCjGbKKmVvfjoyDqSF+VxTD4f6X8QDs2RgG1R1cdBmsCiea+ZxP6ukV3tHlD+Q==\" src=\"https://github.githubassets.com/assets/vendors-node_modules_github_paste-markdown_dist_index_esm_js-node_modules_github_quote-select-df2537-54ae7a774375.js\" type=\"application/javascript\"></script>\n",
       " <script crossorigin=\"anonymous\" defer=\"defer\" integrity=\"sha512-n4Tyfi5c/uwygTjsnha2QyN3+RMC8XNjYdlbvspiE6fN9tdKgsapC36CztCZX31jUoPvHY3HPpR4MaU5JZhs5Q==\" src=\"https://github.githubassets.com/assets/app_assets_modules_github_behaviors_pjax_ts-9f84f27e2e5c.js\" type=\"application/javascript\"></script>\n",
       " <script crossorigin=\"anonymous\" defer=\"defer\" integrity=\"sha512-1VTsfTthjXvPtrjOvr3XUFjwRwpH5AloYdd7+mwF6+/CoUCyh9/ubBqMz7E7Mt87Pn2kihXHOBfRUWg1WZLkXw==\" src=\"https://github.githubassets.com/assets/app_assets_modules_github_behaviors_keyboard-shortcuts-helper_ts-app_assets_modules_github_be-af52ef-d554ec7d3b61.js\" type=\"application/javascript\"></script>\n",
       " <script crossorigin=\"anonymous\" defer=\"defer\" integrity=\"sha512-0NikpU+gxgHVGfcMbcap8D9A8ECCSTIJI4fiNTU5mtiNTVhvVfTvLcx319I83IH6maTwF7/m8kgxcFpZh2Paxw==\" src=\"https://github.githubassets.com/assets/app_assets_modules_github_behaviors_details_ts-app_assets_modules_github_behaviors_include-fr-a5a4c7-d0d8a4a54fa0.js\" type=\"application/javascript\"></script>\n",
       " <script crossorigin=\"anonymous\" defer=\"defer\" integrity=\"sha512-DjIAk2m3fnRtwGLuTVtNfvqAVx6ayA/NOkYx8IAw5r2msssvir2/bEEoK8pKGjCXW+UarNYn/gu68PAbdIukXA==\" src=\"https://github.githubassets.com/assets/behaviors-0e32009369b7.js\" type=\"application/javascript\"></script>\n",
       " <script crossorigin=\"anonymous\" defer=\"defer\" integrity=\"sha512-rLnbCtiKIpRtm1jgAz913tDImW3g8G+FLRMBIMwrkZ33pO8PMzWDG4m8Zl0uIIs10hCyFr6Dc8s6VDC200S9lg==\" src=\"https://github.githubassets.com/assets/vendors-node_modules_delegated-events_dist_index_js-node_modules_github_catalyst_lib_index_js-01c6c51-acb9db0ad88a.js\" type=\"application/javascript\"></script>\n",
       " <script crossorigin=\"anonymous\" defer=\"defer\" integrity=\"sha512-paDaHAe8uAMftTo7ooywENAI3NeRIHNk0IxXV2vJxs3L5/F7hiGDPCDCq2YWOgshQV/AyMjc4bb3TzU9o/+BWQ==\" src=\"https://github.githubassets.com/assets/notifications-global-a5a0da1c07bc.js\" type=\"application/javascript\"></script>\n",
       " <title>Trending  developers on GitHub today · GitHub</title>\n",
       " <meta content=\"C314:63CC:F078F4:FCB219:62B29A57\" data-pjax-transient=\"true\" name=\"request-id\"><meta content=\"9b2f7388ad5dbbdca9eb802697b5ada2439e61f2ce1052f8715779c5ad2f50c1\" data-pjax-transient=\"true\" name=\"html-safe-nonce\"/><meta content=\"eyJyZWZlcnJlciI6IiIsInJlcXVlc3RfaWQiOiJDMzE0OjYzQ0M6RjA3OEY0OkZDQjIxOTo2MkIyOUE1NyIsInZpc2l0b3JfaWQiOiI4NDU2ODM3NDE4MzI4NDMxMTkxIiwicmVnaW9uX2VkZ2UiOiJmcmEiLCJyZWdpb25fcmVuZGVyIjoiZnJhIn0=\" data-pjax-transient=\"true\" name=\"visitor-payload\"/><meta content=\"df094cec65b4c4df01bb303dbc45651a891a8a707374e341f43d212eff2b40d0\" data-pjax-transient=\"true\" name=\"visitor-hmac\"/>\n",
       " <meta content=\"\" data-pjax-transient=\"true\" name=\"github-keyboard-shortcuts\"/>\n",
       " <meta data-pjax-transient=\"\" name=\"selected-link\" value=\"trending_developers\"/>\n",
       " <meta content=\"c1kuD-K2HIVF635lypcsWPoD4kilo5-jA_wBFyT4uMY\" name=\"google-site-verification\"/>\n",
       " <meta content=\"KT5gs8h0wvaagLKAVWq8bbeNwnZZK1r1XQysX3xurLU\" name=\"google-site-verification\"/>\n",
       " <meta content=\"ZzhVyEFwb7w3e0-uOTltm8Jsck2F5StVihD0exw2fsA\" name=\"google-site-verification\"/>\n",
       " <meta content=\"GXs5KoUUkNCoaAZn7wPN-t01Pywp9M3sEjnt_3_ZWPc\" name=\"google-site-verification\"/>\n",
       " <meta content=\"https://collector.github.com/github/collect\" name=\"octolytics-url\">\n",
       " <meta content=\"\" name=\"user-login\"/>\n",
       " <meta content=\"width=device-width\" name=\"viewport\"/>\n",
       " <meta content=\"GitHub is where people build software. More than 83 million people use GitHub to discover, fork, and contribute to over 200 million projects.\" name=\"description\"/>\n",
       " <link href=\"/opensearch.xml\" rel=\"search\" title=\"GitHub\" type=\"application/opensearchdescription+xml\"/>\n",
       " <link href=\"https://github.com/fluidicon.png\" rel=\"fluid-icon\" title=\"GitHub\"/>\n",
       " <meta content=\"1401488693436528\" property=\"fb:app_id\"/>\n",
       " <meta content=\"app-id=1477376905\" name=\"apple-itunes-app\">\n",
       " <meta content=\"https://github.com\" property=\"og:url\"/>\n",
       " <meta content=\"GitHub\" property=\"og:site_name\"/>\n",
       " <meta content=\"Build software better, together\" property=\"og:title\"/>\n",
       " <meta content=\"GitHub is where people build software. More than 83 million people use GitHub to discover, fork, and contribute to over 200 million projects.\" property=\"og:description\"/>\n",
       " <meta content=\"https://github.githubassets.com/images/modules/open_graph/github-logo.png\" property=\"og:image\"/>\n",
       " <meta content=\"image/png\" property=\"og:image:type\"/>\n",
       " <meta content=\"1200\" property=\"og:image:width\"/>\n",
       " <meta content=\"1200\" property=\"og:image:height\"/>\n",
       " <meta content=\"https://github.githubassets.com/images/modules/open_graph/github-mark.png\" property=\"og:image\"/>\n",
       " <meta content=\"image/png\" property=\"og:image:type\"/>\n",
       " <meta content=\"1200\" property=\"og:image:width\"/>\n",
       " <meta content=\"620\" property=\"og:image:height\"/>\n",
       " <meta content=\"https://github.githubassets.com/images/modules/open_graph/github-octocat.png\" property=\"og:image\"/>\n",
       " <meta content=\"image/png\" property=\"og:image:type\"/>\n",
       " <meta content=\"1200\" property=\"og:image:width\"/>\n",
       " <meta content=\"620\" property=\"og:image:height\"/>\n",
       " <meta content=\"github\" property=\"twitter:site\"/>\n",
       " <meta content=\"13334762\" property=\"twitter:site:id\"/>\n",
       " <meta content=\"github\" property=\"twitter:creator\"/>\n",
       " <meta content=\"13334762\" property=\"twitter:creator:id\"/>\n",
       " <meta content=\"summary_large_image\" property=\"twitter:card\"/>\n",
       " <meta content=\"GitHub\" property=\"twitter:title\"/>\n",
       " <meta content=\"GitHub is where people build software. More than 83 million people use GitHub to discover, fork, and contribute to over 200 million projects.\" property=\"twitter:description\"/>\n",
       " <meta content=\"https://github.githubassets.com/images/modules/open_graph/github-logo.png\" property=\"twitter:image:src\"/>\n",
       " <meta content=\"1200\" property=\"twitter:image:width\"/>\n",
       " <meta content=\"1200\" property=\"twitter:image:height\"/>\n",
       " <link href=\"https://github.githubassets.com/\" rel=\"assets\"/>\n",
       " <meta content=\"github.com\" name=\"hostname\"/>\n",
       " <meta content=\"github.com\" name=\"expected-hostname\"/>\n",
       " <meta content=\"IMAGE_METRIC_TRACKING\" name=\"enabled-features\"/>\n",
       " <meta content=\"0e53093b5d9381c33ae17d40eadb26a68d0d16c854af9ed547bb25793e5daa3a\" data-turbo-track=\"reload\" http-equiv=\"x-pjax-version\"/>\n",
       " <meta content=\"485d6a5ccbb1eeae9c86b616b4870b531f6f458e8bd5c309c40280dc4f51defb\" data-turbo-track=\"reload\" http-equiv=\"x-pjax-csp-version\"/>\n",
       " <meta content=\"0399fe76ef43d6a576656b61f9f49f8de05c5937737321833433fdf4a72c48f1\" data-turbo-track=\"reload\" http-equiv=\"x-pjax-css-version\"/>\n",
       " <meta content=\"d9d0a70a90e1620c5ca5c1862b2737bd3ab59039c5e5ae67c72fea2824808f44\" data-turbo-track=\"reload\" http-equiv=\"x-pjax-js-version\"/>\n",
       " <meta content=\"no-preview\" name=\"turbo-cache-control\"/>\n",
       " <link data-pjax-transient=\"\" href=\"https://github.com/trending/developers\" rel=\"canonical\"/>\n",
       " <meta content=\"logged-out env-production page-responsive\" name=\"turbo-body-classes\"/>\n",
       " <meta content=\"https://api.github.com/_private/browser/stats\" name=\"browser-stats-url\"/>\n",
       " <meta content=\"https://api.github.com/_private/browser/errors\" name=\"browser-errors-url\"/>\n",
       " <meta content=\"https://api.github.com/_private/browser/optimizely_client/errors\" name=\"browser-optimizely-client-errors-url\"/>\n",
       " <link color=\"#000000\" href=\"https://github.githubassets.com/pinned-octocat.svg\" rel=\"mask-icon\"/>\n",
       " <link class=\"js-site-favicon\" href=\"https://github.githubassets.com/favicons/favicon.png\" rel=\"alternate icon\" type=\"image/png\"/>\n",
       " <link class=\"js-site-favicon\" href=\"https://github.githubassets.com/favicons/favicon.svg\" rel=\"icon\" type=\"image/svg+xml\"/>\n",
       " <meta content=\"#1e2327\" name=\"theme-color\"/>\n",
       " <meta content=\"light dark\" name=\"color-scheme\">\n",
       " <link crossorigin=\"use-credentials\" href=\"/manifest.json\" rel=\"manifest\"/>\n",
       " </meta></meta></meta></meta></link></link></link></link></link>,\n",
       " <link crossorigin=\"anonymous\" data-color-theme=\"dark_dimmed\" data-href=\"https://github.githubassets.com/assets/dark_dimmed-7196bb0d9aaf.css\" integrity=\"sha512-cZa7DZqvMBwD236uzEunO/G1dvw8/QftyT2UtLWKQFEy0z0eq0R5WPwqVME+3NSZG1YaLJAaIqtU+m0zWf/6SQ==\" media=\"all\" rel=\"stylesheet\"><link crossorigin=\"anonymous\" data-color-theme=\"dark_high_contrast\" data-href=\"https://github.githubassets.com/assets/dark_high_contrast-595a0aa89e32.css\" integrity=\"sha512-WVoKqJ4y1nLsdNH4RkRT5qrM9+n9RFe1RHSiTnQkBf5TSZkJEc9GpLpTIS7T15EQaUQBJ8BwmKvwFPVqfpTEIQ==\" media=\"all\" rel=\"stylesheet\"><link crossorigin=\"anonymous\" data-color-theme=\"dark_colorblind\" data-href=\"https://github.githubassets.com/assets/dark_colorblind-5e900c04c491.css\" integrity=\"sha512-XpAMBMSRZ6RTXgepS8LjKiOeNK3BilRbv8qEiA/M3m+Q4GoqxtHedOI5BAZRikCzfBL4KWYvVzYZSZ8Gp/UnUg==\" media=\"all\" rel=\"stylesheet\"><link crossorigin=\"anonymous\" data-color-theme=\"light_colorblind\" data-href=\"https://github.githubassets.com/assets/light_colorblind-dc71761d9e0b.css\" integrity=\"sha512-3HF2HZ4LgEIQm77yOzoeR20CX1n2cUQlcywscqF4s+5iplolajiHV7E5ranBwkX65jN9TNciHEVSYebQ+8xxEw==\" media=\"all\" rel=\"stylesheet\"><link crossorigin=\"anonymous\" data-color-theme=\"light_high_contrast\" data-href=\"https://github.githubassets.com/assets/light_high_contrast-f89f23dd3d24.css\" integrity=\"sha512-+J8j3T0kbK9/sL3zbkCfPtgYcRD4qQfRbT6xnfOrOTjvz4zhr0M7AXPuE642PpaxGhHs1t77cTtieW9hI2K6Gw==\" media=\"all\" rel=\"stylesheet\"/><link crossorigin=\"anonymous\" data-color-theme=\"light_tritanopia\" data-href=\"https://github.githubassets.com/assets/light_tritanopia-010780c79c07.css\" integrity=\"sha512-AQeAx5wHQAXNf0DmkvVlHYwA3f6BkxunWTI0GGaRN57GqD+H9tW8RKIKlopLS0qGaC54seFsPc601GDlqIuuHg==\" media=\"all\" rel=\"stylesheet\"/><link crossorigin=\"anonymous\" data-color-theme=\"dark_tritanopia\" data-href=\"https://github.githubassets.com/assets/dark_tritanopia-faee699a0004.css\" integrity=\"sha512-+u5pmgAE0T03d/yI6Ha0NWwz6Pk0W6S6WEfIt8veDVdK8NTjcMbZmQB9XUCkDlrBoAKkABva8HuGJ+SzEpV1Uw==\" media=\"all\" rel=\"stylesheet\"/>\n",
       " <link crossorigin=\"anonymous\" href=\"https://github.githubassets.com/assets/primer-10084108b209.css\" integrity=\"sha512-EAhBCLIJ/pXHG3Y6yQhs9s53SHV80sjJ+yCwlQtfv7LaVkD+VoEuZBZ5betQJFUNj/5qBSfZk5GFtazEDzWLAg==\" media=\"all\" rel=\"stylesheet\"/>\n",
       " <link crossorigin=\"anonymous\" href=\"https://github.githubassets.com/assets/global-181aeb293fed.css\" integrity=\"sha512-GBrrKT/tt9A5pFmKVLCNnourKA3+WLtZiMpFPZK2gud/Tqpe0Jf/w57QKf9ITlI2jiT3bTOvbhblwLX+z9X3XA==\" media=\"all\" rel=\"stylesheet\"/>\n",
       " <link crossorigin=\"anonymous\" href=\"https://github.githubassets.com/assets/github-4151d1bd4fa5.css\" integrity=\"sha512-QVHRvU+lsiBTT0dePas9QeGUp/AUz8nmg5MOU5vTdzbvu8eEamPp51Zk/H9qsm70vBgDWe3fXKUDoxAs3pOe0g==\" media=\"all\" rel=\"stylesheet\"/>\n",
       " <link crossorigin=\"anonymous\" href=\"https://github.githubassets.com/assets/site-d31ea144555c.css\" integrity=\"sha512-0x6hRFVcuRNWhPqCOFtXdE2J8WRLzi92vI37R/cnbEyw1JbgRkOIZv+hoYwk1Z+BnSLOwYorhPLm6jrWoV3c7Q==\" media=\"all\" rel=\"stylesheet\"/>\n",
       " <link crossorigin=\"anonymous\" href=\"https://github.githubassets.com/assets/explore-91bd47378abc.css\" integrity=\"sha512-kb1HN4q8/AYgCEDRBJjoppyNOFO0ZKNJCPB7KNEEVlR6e4OLAZ4K3B0+0Z7Nns+WyRmXQLhf2Ub12ZQ+wUQn+w==\" media=\"all\" rel=\"stylesheet\"/>\n",
       " <script crossorigin=\"anonymous\" defer=\"defer\" integrity=\"sha512-gYUql3JlOo86LjmuSgD5S2dkS7d2jATYaVyGkyxQTl6B5EHpSWHW5Ugc8FYxZwLCMLOvjEgi9eIu+scu9TvFMA==\" src=\"https://github.githubassets.com/assets/runtime-81852a977265.js\" type=\"application/javascript\"></script>\n",
       " <script crossorigin=\"anonymous\" defer=\"defer\" integrity=\"sha512-PM8ZLRUfpmVrBB5IBGPS7v8sTlrv6Q6qpwNgm+QuU3SZGtsOwREnkqfHqfcI1SsGrcObmcLMG0fWSRJvlLJsBQ==\" src=\"https://github.githubassets.com/assets/environment-3ccf192d151f.js\" type=\"application/javascript\"></script>\n",
       " <script crossorigin=\"anonymous\" defer=\"defer\" integrity=\"sha512-io+1MvgXPXTw8Kp4eOdNMJl8uGASuw8VfTY5VeIFETaAknimWi8GoxggMEeQ6mq0de4Dest4iIJ/9gUbCo0hgw==\" src=\"https://github.githubassets.com/assets/vendors-node_modules_selector-observer_dist_index_esm_js-8a8fb532f817.js\" type=\"application/javascript\"></script>\n",
       " <script crossorigin=\"anonymous\" defer=\"defer\" integrity=\"sha512-Es25N4GyPa8Yfp5wpahoe5b2fyPtkRMyR6mKIXyCJC0ocqQazeWvxhGZhx3StRxOfqDfHDR5SS35u/R3Wux6Cg==\" src=\"https://github.githubassets.com/assets/vendors-node_modules_delegated-events_dist_index_js-node_modules_github_details-dialog-elemen-63debe-12cdb93781b2.js\" type=\"application/javascript\"></script>\n",
       " <script crossorigin=\"anonymous\" defer=\"defer\" integrity=\"sha512-lmiecOIgf+hakg5oKMNM7grVhEDyPoIrT39Px448JJH5PSAaK21PH0Twgyz5O5oi8+dnlLr3Jt8bBCtAcpNdRw==\" src=\"https://github.githubassets.com/assets/vendors-node_modules_github_filter-input-element_dist_index_js-node_modules_github_remote-inp-c7e9ed-96689e70e220.js\" type=\"application/javascript\"></script>\n",
       " <script crossorigin=\"anonymous\" defer=\"defer\" integrity=\"sha512-y67eNkVaNK4RguUGcHOvIbHFlgf1Qje+LDdjVw2eFuuvBOqta2GePz/CwoLIR/PJhhRAj5RPGxCWoomnimSw6w==\" src=\"https://github.githubassets.com/assets/vendors-node_modules_github_catalyst_lib_index_js-node_modules_github_time-elements_dist_index_js-cbaede36455a.js\" type=\"application/javascript\"></script>\n",
       " <script crossorigin=\"anonymous\" defer=\"defer\" integrity=\"sha512-DE9GK/TS3Hf/dJfP1GMiyjvsGRnpR4A1eGH64s0Ot7Vy7Tj7/aD1d5EOMWHFWQXlXy/ZSwu5MHInG6RZN31bMA==\" src=\"https://github.githubassets.com/assets/vendors-node_modules_github_file-attachment-element_dist_index_js-node_modules_primer_view-co-52e104-0c4f462bf4d2.js\" type=\"application/javascript\"></script>\n",
       " <script crossorigin=\"anonymous\" defer=\"defer\" integrity=\"sha512-i0Ha1jdl+Ze1GOoj8XJ4FmsHvIvxukCOi0Om2NK2574NSfisYFHJTigepoBa0Ft+u1d2T9Lc3C60Pn9ma+gAng==\" src=\"https://github.githubassets.com/assets/github-elements-8b41dad63765.js\" type=\"application/javascript\"></script>\n",
       " <script crossorigin=\"anonymous\" defer=\"defer\" integrity=\"sha512-WuNKYWBvlhp4UyBN3XBD+FXQ2rLTQa11KWVz1oSnQwBim+Bd53Ue6NJZKkvzDOyak32JBUI7PSwqbiKNiiequQ==\" src=\"https://github.githubassets.com/assets/element-registry-5ae34a61606f.js\" type=\"application/javascript\"></script>\n",
       " <script crossorigin=\"anonymous\" defer=\"defer\" integrity=\"sha512-uo73yUZcm4EicwjSbfxFZcKfjWniOxhLBp+q1n7IFRfutFM6/lzbQMgD0Xrxp7QD1HzqdvrV8UclPhi3mEOyzQ==\" src=\"https://github.githubassets.com/assets/vendors-node_modules_lit-html_lit-html_js-ba8ef7c9465c.js\" type=\"application/javascript\"></script>\n",
       " <script crossorigin=\"anonymous\" defer=\"defer\" integrity=\"sha512-5XdknqL9iTuaAhbOnKJDHf+5bJReOYDwlz5p2mW+SAVfab4RN6AfIliqtPwheKld40DrhPs47We/mT5nlZq2Sg==\" src=\"https://github.githubassets.com/assets/vendors-node_modules_github_remote-form_dist_index_js-node_modules_github_catalyst_lib_index_-87b1b3-e577649ea2fd.js\" type=\"application/javascript\"></script>\n",
       " <script crossorigin=\"anonymous\" defer=\"defer\" integrity=\"sha512-0r1nf/rfPz54kyePp4f63bcPxkFo7wyaUZJD/SwIVDK3q0WzurAK9ydOm88tzKtPJm8xWI0Vo25NyCfecwxJ9g==\" src=\"https://github.githubassets.com/assets/vendors-node_modules_github_mini-throttle_dist_index_js-node_modules_github_hotkey_dist_index-9f48bd-d2bd677ffadf.js\" type=\"application/javascript\"></script>\n",
       " <script crossorigin=\"anonymous\" defer=\"defer\" integrity=\"sha512-VK56d0N1hPZ20mOzPoy84zlTGCjGbKKmVvfjoyDqSF+VxTD4f6X8QDs2RgG1R1cdBmsCiea+ZxP6ukV3tHlD+Q==\" src=\"https://github.githubassets.com/assets/vendors-node_modules_github_paste-markdown_dist_index_esm_js-node_modules_github_quote-select-df2537-54ae7a774375.js\" type=\"application/javascript\"></script>\n",
       " <script crossorigin=\"anonymous\" defer=\"defer\" integrity=\"sha512-n4Tyfi5c/uwygTjsnha2QyN3+RMC8XNjYdlbvspiE6fN9tdKgsapC36CztCZX31jUoPvHY3HPpR4MaU5JZhs5Q==\" src=\"https://github.githubassets.com/assets/app_assets_modules_github_behaviors_pjax_ts-9f84f27e2e5c.js\" type=\"application/javascript\"></script>\n",
       " <script crossorigin=\"anonymous\" defer=\"defer\" integrity=\"sha512-1VTsfTthjXvPtrjOvr3XUFjwRwpH5AloYdd7+mwF6+/CoUCyh9/ubBqMz7E7Mt87Pn2kihXHOBfRUWg1WZLkXw==\" src=\"https://github.githubassets.com/assets/app_assets_modules_github_behaviors_keyboard-shortcuts-helper_ts-app_assets_modules_github_be-af52ef-d554ec7d3b61.js\" type=\"application/javascript\"></script>\n",
       " <script crossorigin=\"anonymous\" defer=\"defer\" integrity=\"sha512-0NikpU+gxgHVGfcMbcap8D9A8ECCSTIJI4fiNTU5mtiNTVhvVfTvLcx319I83IH6maTwF7/m8kgxcFpZh2Paxw==\" src=\"https://github.githubassets.com/assets/app_assets_modules_github_behaviors_details_ts-app_assets_modules_github_behaviors_include-fr-a5a4c7-d0d8a4a54fa0.js\" type=\"application/javascript\"></script>\n",
       " <script crossorigin=\"anonymous\" defer=\"defer\" integrity=\"sha512-DjIAk2m3fnRtwGLuTVtNfvqAVx6ayA/NOkYx8IAw5r2msssvir2/bEEoK8pKGjCXW+UarNYn/gu68PAbdIukXA==\" src=\"https://github.githubassets.com/assets/behaviors-0e32009369b7.js\" type=\"application/javascript\"></script>\n",
       " <script crossorigin=\"anonymous\" defer=\"defer\" integrity=\"sha512-rLnbCtiKIpRtm1jgAz913tDImW3g8G+FLRMBIMwrkZ33pO8PMzWDG4m8Zl0uIIs10hCyFr6Dc8s6VDC200S9lg==\" src=\"https://github.githubassets.com/assets/vendors-node_modules_delegated-events_dist_index_js-node_modules_github_catalyst_lib_index_js-01c6c51-acb9db0ad88a.js\" type=\"application/javascript\"></script>\n",
       " <script crossorigin=\"anonymous\" defer=\"defer\" integrity=\"sha512-paDaHAe8uAMftTo7ooywENAI3NeRIHNk0IxXV2vJxs3L5/F7hiGDPCDCq2YWOgshQV/AyMjc4bb3TzU9o/+BWQ==\" src=\"https://github.githubassets.com/assets/notifications-global-a5a0da1c07bc.js\" type=\"application/javascript\"></script>\n",
       " <title>Trending  developers on GitHub today · GitHub</title>\n",
       " <meta content=\"C314:63CC:F078F4:FCB219:62B29A57\" data-pjax-transient=\"true\" name=\"request-id\"><meta content=\"9b2f7388ad5dbbdca9eb802697b5ada2439e61f2ce1052f8715779c5ad2f50c1\" data-pjax-transient=\"true\" name=\"html-safe-nonce\"/><meta content=\"eyJyZWZlcnJlciI6IiIsInJlcXVlc3RfaWQiOiJDMzE0OjYzQ0M6RjA3OEY0OkZDQjIxOTo2MkIyOUE1NyIsInZpc2l0b3JfaWQiOiI4NDU2ODM3NDE4MzI4NDMxMTkxIiwicmVnaW9uX2VkZ2UiOiJmcmEiLCJyZWdpb25fcmVuZGVyIjoiZnJhIn0=\" data-pjax-transient=\"true\" name=\"visitor-payload\"/><meta content=\"df094cec65b4c4df01bb303dbc45651a891a8a707374e341f43d212eff2b40d0\" data-pjax-transient=\"true\" name=\"visitor-hmac\"/>\n",
       " <meta content=\"\" data-pjax-transient=\"true\" name=\"github-keyboard-shortcuts\"/>\n",
       " <meta data-pjax-transient=\"\" name=\"selected-link\" value=\"trending_developers\"/>\n",
       " <meta content=\"c1kuD-K2HIVF635lypcsWPoD4kilo5-jA_wBFyT4uMY\" name=\"google-site-verification\"/>\n",
       " <meta content=\"KT5gs8h0wvaagLKAVWq8bbeNwnZZK1r1XQysX3xurLU\" name=\"google-site-verification\"/>\n",
       " <meta content=\"ZzhVyEFwb7w3e0-uOTltm8Jsck2F5StVihD0exw2fsA\" name=\"google-site-verification\"/>\n",
       " <meta content=\"GXs5KoUUkNCoaAZn7wPN-t01Pywp9M3sEjnt_3_ZWPc\" name=\"google-site-verification\"/>\n",
       " <meta content=\"https://collector.github.com/github/collect\" name=\"octolytics-url\">\n",
       " <meta content=\"\" name=\"user-login\"/>\n",
       " <meta content=\"width=device-width\" name=\"viewport\"/>\n",
       " <meta content=\"GitHub is where people build software. More than 83 million people use GitHub to discover, fork, and contribute to over 200 million projects.\" name=\"description\"/>\n",
       " <link href=\"/opensearch.xml\" rel=\"search\" title=\"GitHub\" type=\"application/opensearchdescription+xml\"/>\n",
       " <link href=\"https://github.com/fluidicon.png\" rel=\"fluid-icon\" title=\"GitHub\"/>\n",
       " <meta content=\"1401488693436528\" property=\"fb:app_id\"/>\n",
       " <meta content=\"app-id=1477376905\" name=\"apple-itunes-app\">\n",
       " <meta content=\"https://github.com\" property=\"og:url\"/>\n",
       " <meta content=\"GitHub\" property=\"og:site_name\"/>\n",
       " <meta content=\"Build software better, together\" property=\"og:title\"/>\n",
       " <meta content=\"GitHub is where people build software. More than 83 million people use GitHub to discover, fork, and contribute to over 200 million projects.\" property=\"og:description\"/>\n",
       " <meta content=\"https://github.githubassets.com/images/modules/open_graph/github-logo.png\" property=\"og:image\"/>\n",
       " <meta content=\"image/png\" property=\"og:image:type\"/>\n",
       " <meta content=\"1200\" property=\"og:image:width\"/>\n",
       " <meta content=\"1200\" property=\"og:image:height\"/>\n",
       " <meta content=\"https://github.githubassets.com/images/modules/open_graph/github-mark.png\" property=\"og:image\"/>\n",
       " <meta content=\"image/png\" property=\"og:image:type\"/>\n",
       " <meta content=\"1200\" property=\"og:image:width\"/>\n",
       " <meta content=\"620\" property=\"og:image:height\"/>\n",
       " <meta content=\"https://github.githubassets.com/images/modules/open_graph/github-octocat.png\" property=\"og:image\"/>\n",
       " <meta content=\"image/png\" property=\"og:image:type\"/>\n",
       " <meta content=\"1200\" property=\"og:image:width\"/>\n",
       " <meta content=\"620\" property=\"og:image:height\"/>\n",
       " <meta content=\"github\" property=\"twitter:site\"/>\n",
       " <meta content=\"13334762\" property=\"twitter:site:id\"/>\n",
       " <meta content=\"github\" property=\"twitter:creator\"/>\n",
       " <meta content=\"13334762\" property=\"twitter:creator:id\"/>\n",
       " <meta content=\"summary_large_image\" property=\"twitter:card\"/>\n",
       " <meta content=\"GitHub\" property=\"twitter:title\"/>\n",
       " <meta content=\"GitHub is where people build software. More than 83 million people use GitHub to discover, fork, and contribute to over 200 million projects.\" property=\"twitter:description\"/>\n",
       " <meta content=\"https://github.githubassets.com/images/modules/open_graph/github-logo.png\" property=\"twitter:image:src\"/>\n",
       " <meta content=\"1200\" property=\"twitter:image:width\"/>\n",
       " <meta content=\"1200\" property=\"twitter:image:height\"/>\n",
       " <link href=\"https://github.githubassets.com/\" rel=\"assets\"/>\n",
       " <meta content=\"github.com\" name=\"hostname\"/>\n",
       " <meta content=\"github.com\" name=\"expected-hostname\"/>\n",
       " <meta content=\"IMAGE_METRIC_TRACKING\" name=\"enabled-features\"/>\n",
       " <meta content=\"0e53093b5d9381c33ae17d40eadb26a68d0d16c854af9ed547bb25793e5daa3a\" data-turbo-track=\"reload\" http-equiv=\"x-pjax-version\"/>\n",
       " <meta content=\"485d6a5ccbb1eeae9c86b616b4870b531f6f458e8bd5c309c40280dc4f51defb\" data-turbo-track=\"reload\" http-equiv=\"x-pjax-csp-version\"/>\n",
       " <meta content=\"0399fe76ef43d6a576656b61f9f49f8de05c5937737321833433fdf4a72c48f1\" data-turbo-track=\"reload\" http-equiv=\"x-pjax-css-version\"/>\n",
       " <meta content=\"d9d0a70a90e1620c5ca5c1862b2737bd3ab59039c5e5ae67c72fea2824808f44\" data-turbo-track=\"reload\" http-equiv=\"x-pjax-js-version\"/>\n",
       " <meta content=\"no-preview\" name=\"turbo-cache-control\"/>\n",
       " <link data-pjax-transient=\"\" href=\"https://github.com/trending/developers\" rel=\"canonical\"/>\n",
       " <meta content=\"logged-out env-production page-responsive\" name=\"turbo-body-classes\"/>\n",
       " <meta content=\"https://api.github.com/_private/browser/stats\" name=\"browser-stats-url\"/>\n",
       " <meta content=\"https://api.github.com/_private/browser/errors\" name=\"browser-errors-url\"/>\n",
       " <meta content=\"https://api.github.com/_private/browser/optimizely_client/errors\" name=\"browser-optimizely-client-errors-url\"/>\n",
       " <link color=\"#000000\" href=\"https://github.githubassets.com/pinned-octocat.svg\" rel=\"mask-icon\"/>\n",
       " <link class=\"js-site-favicon\" href=\"https://github.githubassets.com/favicons/favicon.png\" rel=\"alternate icon\" type=\"image/png\"/>\n",
       " <link class=\"js-site-favicon\" href=\"https://github.githubassets.com/favicons/favicon.svg\" rel=\"icon\" type=\"image/svg+xml\"/>\n",
       " <meta content=\"#1e2327\" name=\"theme-color\"/>\n",
       " <meta content=\"light dark\" name=\"color-scheme\">\n",
       " <link crossorigin=\"use-credentials\" href=\"/manifest.json\" rel=\"manifest\"/>\n",
       " </meta></meta></meta></meta></link></link></link></link>,\n",
       " <link crossorigin=\"anonymous\" data-color-theme=\"dark_high_contrast\" data-href=\"https://github.githubassets.com/assets/dark_high_contrast-595a0aa89e32.css\" integrity=\"sha512-WVoKqJ4y1nLsdNH4RkRT5qrM9+n9RFe1RHSiTnQkBf5TSZkJEc9GpLpTIS7T15EQaUQBJ8BwmKvwFPVqfpTEIQ==\" media=\"all\" rel=\"stylesheet\"><link crossorigin=\"anonymous\" data-color-theme=\"dark_colorblind\" data-href=\"https://github.githubassets.com/assets/dark_colorblind-5e900c04c491.css\" integrity=\"sha512-XpAMBMSRZ6RTXgepS8LjKiOeNK3BilRbv8qEiA/M3m+Q4GoqxtHedOI5BAZRikCzfBL4KWYvVzYZSZ8Gp/UnUg==\" media=\"all\" rel=\"stylesheet\"><link crossorigin=\"anonymous\" data-color-theme=\"light_colorblind\" data-href=\"https://github.githubassets.com/assets/light_colorblind-dc71761d9e0b.css\" integrity=\"sha512-3HF2HZ4LgEIQm77yOzoeR20CX1n2cUQlcywscqF4s+5iplolajiHV7E5ranBwkX65jN9TNciHEVSYebQ+8xxEw==\" media=\"all\" rel=\"stylesheet\"><link crossorigin=\"anonymous\" data-color-theme=\"light_high_contrast\" data-href=\"https://github.githubassets.com/assets/light_high_contrast-f89f23dd3d24.css\" integrity=\"sha512-+J8j3T0kbK9/sL3zbkCfPtgYcRD4qQfRbT6xnfOrOTjvz4zhr0M7AXPuE642PpaxGhHs1t77cTtieW9hI2K6Gw==\" media=\"all\" rel=\"stylesheet\"/><link crossorigin=\"anonymous\" data-color-theme=\"light_tritanopia\" data-href=\"https://github.githubassets.com/assets/light_tritanopia-010780c79c07.css\" integrity=\"sha512-AQeAx5wHQAXNf0DmkvVlHYwA3f6BkxunWTI0GGaRN57GqD+H9tW8RKIKlopLS0qGaC54seFsPc601GDlqIuuHg==\" media=\"all\" rel=\"stylesheet\"/><link crossorigin=\"anonymous\" data-color-theme=\"dark_tritanopia\" data-href=\"https://github.githubassets.com/assets/dark_tritanopia-faee699a0004.css\" integrity=\"sha512-+u5pmgAE0T03d/yI6Ha0NWwz6Pk0W6S6WEfIt8veDVdK8NTjcMbZmQB9XUCkDlrBoAKkABva8HuGJ+SzEpV1Uw==\" media=\"all\" rel=\"stylesheet\"/>\n",
       " <link crossorigin=\"anonymous\" href=\"https://github.githubassets.com/assets/primer-10084108b209.css\" integrity=\"sha512-EAhBCLIJ/pXHG3Y6yQhs9s53SHV80sjJ+yCwlQtfv7LaVkD+VoEuZBZ5betQJFUNj/5qBSfZk5GFtazEDzWLAg==\" media=\"all\" rel=\"stylesheet\"/>\n",
       " <link crossorigin=\"anonymous\" href=\"https://github.githubassets.com/assets/global-181aeb293fed.css\" integrity=\"sha512-GBrrKT/tt9A5pFmKVLCNnourKA3+WLtZiMpFPZK2gud/Tqpe0Jf/w57QKf9ITlI2jiT3bTOvbhblwLX+z9X3XA==\" media=\"all\" rel=\"stylesheet\"/>\n",
       " <link crossorigin=\"anonymous\" href=\"https://github.githubassets.com/assets/github-4151d1bd4fa5.css\" integrity=\"sha512-QVHRvU+lsiBTT0dePas9QeGUp/AUz8nmg5MOU5vTdzbvu8eEamPp51Zk/H9qsm70vBgDWe3fXKUDoxAs3pOe0g==\" media=\"all\" rel=\"stylesheet\"/>\n",
       " <link crossorigin=\"anonymous\" href=\"https://github.githubassets.com/assets/site-d31ea144555c.css\" integrity=\"sha512-0x6hRFVcuRNWhPqCOFtXdE2J8WRLzi92vI37R/cnbEyw1JbgRkOIZv+hoYwk1Z+BnSLOwYorhPLm6jrWoV3c7Q==\" media=\"all\" rel=\"stylesheet\"/>\n",
       " <link crossorigin=\"anonymous\" href=\"https://github.githubassets.com/assets/explore-91bd47378abc.css\" integrity=\"sha512-kb1HN4q8/AYgCEDRBJjoppyNOFO0ZKNJCPB7KNEEVlR6e4OLAZ4K3B0+0Z7Nns+WyRmXQLhf2Ub12ZQ+wUQn+w==\" media=\"all\" rel=\"stylesheet\"/>\n",
       " <script crossorigin=\"anonymous\" defer=\"defer\" integrity=\"sha512-gYUql3JlOo86LjmuSgD5S2dkS7d2jATYaVyGkyxQTl6B5EHpSWHW5Ugc8FYxZwLCMLOvjEgi9eIu+scu9TvFMA==\" src=\"https://github.githubassets.com/assets/runtime-81852a977265.js\" type=\"application/javascript\"></script>\n",
       " <script crossorigin=\"anonymous\" defer=\"defer\" integrity=\"sha512-PM8ZLRUfpmVrBB5IBGPS7v8sTlrv6Q6qpwNgm+QuU3SZGtsOwREnkqfHqfcI1SsGrcObmcLMG0fWSRJvlLJsBQ==\" src=\"https://github.githubassets.com/assets/environment-3ccf192d151f.js\" type=\"application/javascript\"></script>\n",
       " <script crossorigin=\"anonymous\" defer=\"defer\" integrity=\"sha512-io+1MvgXPXTw8Kp4eOdNMJl8uGASuw8VfTY5VeIFETaAknimWi8GoxggMEeQ6mq0de4Dest4iIJ/9gUbCo0hgw==\" src=\"https://github.githubassets.com/assets/vendors-node_modules_selector-observer_dist_index_esm_js-8a8fb532f817.js\" type=\"application/javascript\"></script>\n",
       " <script crossorigin=\"anonymous\" defer=\"defer\" integrity=\"sha512-Es25N4GyPa8Yfp5wpahoe5b2fyPtkRMyR6mKIXyCJC0ocqQazeWvxhGZhx3StRxOfqDfHDR5SS35u/R3Wux6Cg==\" src=\"https://github.githubassets.com/assets/vendors-node_modules_delegated-events_dist_index_js-node_modules_github_details-dialog-elemen-63debe-12cdb93781b2.js\" type=\"application/javascript\"></script>\n",
       " <script crossorigin=\"anonymous\" defer=\"defer\" integrity=\"sha512-lmiecOIgf+hakg5oKMNM7grVhEDyPoIrT39Px448JJH5PSAaK21PH0Twgyz5O5oi8+dnlLr3Jt8bBCtAcpNdRw==\" src=\"https://github.githubassets.com/assets/vendors-node_modules_github_filter-input-element_dist_index_js-node_modules_github_remote-inp-c7e9ed-96689e70e220.js\" type=\"application/javascript\"></script>\n",
       " <script crossorigin=\"anonymous\" defer=\"defer\" integrity=\"sha512-y67eNkVaNK4RguUGcHOvIbHFlgf1Qje+LDdjVw2eFuuvBOqta2GePz/CwoLIR/PJhhRAj5RPGxCWoomnimSw6w==\" src=\"https://github.githubassets.com/assets/vendors-node_modules_github_catalyst_lib_index_js-node_modules_github_time-elements_dist_index_js-cbaede36455a.js\" type=\"application/javascript\"></script>\n",
       " <script crossorigin=\"anonymous\" defer=\"defer\" integrity=\"sha512-DE9GK/TS3Hf/dJfP1GMiyjvsGRnpR4A1eGH64s0Ot7Vy7Tj7/aD1d5EOMWHFWQXlXy/ZSwu5MHInG6RZN31bMA==\" src=\"https://github.githubassets.com/assets/vendors-node_modules_github_file-attachment-element_dist_index_js-node_modules_primer_view-co-52e104-0c4f462bf4d2.js\" type=\"application/javascript\"></script>\n",
       " <script crossorigin=\"anonymous\" defer=\"defer\" integrity=\"sha512-i0Ha1jdl+Ze1GOoj8XJ4FmsHvIvxukCOi0Om2NK2574NSfisYFHJTigepoBa0Ft+u1d2T9Lc3C60Pn9ma+gAng==\" src=\"https://github.githubassets.com/assets/github-elements-8b41dad63765.js\" type=\"application/javascript\"></script>\n",
       " <script crossorigin=\"anonymous\" defer=\"defer\" integrity=\"sha512-WuNKYWBvlhp4UyBN3XBD+FXQ2rLTQa11KWVz1oSnQwBim+Bd53Ue6NJZKkvzDOyak32JBUI7PSwqbiKNiiequQ==\" src=\"https://github.githubassets.com/assets/element-registry-5ae34a61606f.js\" type=\"application/javascript\"></script>\n",
       " <script crossorigin=\"anonymous\" defer=\"defer\" integrity=\"sha512-uo73yUZcm4EicwjSbfxFZcKfjWniOxhLBp+q1n7IFRfutFM6/lzbQMgD0Xrxp7QD1HzqdvrV8UclPhi3mEOyzQ==\" src=\"https://github.githubassets.com/assets/vendors-node_modules_lit-html_lit-html_js-ba8ef7c9465c.js\" type=\"application/javascript\"></script>\n",
       " <script crossorigin=\"anonymous\" defer=\"defer\" integrity=\"sha512-5XdknqL9iTuaAhbOnKJDHf+5bJReOYDwlz5p2mW+SAVfab4RN6AfIliqtPwheKld40DrhPs47We/mT5nlZq2Sg==\" src=\"https://github.githubassets.com/assets/vendors-node_modules_github_remote-form_dist_index_js-node_modules_github_catalyst_lib_index_-87b1b3-e577649ea2fd.js\" type=\"application/javascript\"></script>\n",
       " <script crossorigin=\"anonymous\" defer=\"defer\" integrity=\"sha512-0r1nf/rfPz54kyePp4f63bcPxkFo7wyaUZJD/SwIVDK3q0WzurAK9ydOm88tzKtPJm8xWI0Vo25NyCfecwxJ9g==\" src=\"https://github.githubassets.com/assets/vendors-node_modules_github_mini-throttle_dist_index_js-node_modules_github_hotkey_dist_index-9f48bd-d2bd677ffadf.js\" type=\"application/javascript\"></script>\n",
       " <script crossorigin=\"anonymous\" defer=\"defer\" integrity=\"sha512-VK56d0N1hPZ20mOzPoy84zlTGCjGbKKmVvfjoyDqSF+VxTD4f6X8QDs2RgG1R1cdBmsCiea+ZxP6ukV3tHlD+Q==\" src=\"https://github.githubassets.com/assets/vendors-node_modules_github_paste-markdown_dist_index_esm_js-node_modules_github_quote-select-df2537-54ae7a774375.js\" type=\"application/javascript\"></script>\n",
       " <script crossorigin=\"anonymous\" defer=\"defer\" integrity=\"sha512-n4Tyfi5c/uwygTjsnha2QyN3+RMC8XNjYdlbvspiE6fN9tdKgsapC36CztCZX31jUoPvHY3HPpR4MaU5JZhs5Q==\" src=\"https://github.githubassets.com/assets/app_assets_modules_github_behaviors_pjax_ts-9f84f27e2e5c.js\" type=\"application/javascript\"></script>\n",
       " <script crossorigin=\"anonymous\" defer=\"defer\" integrity=\"sha512-1VTsfTthjXvPtrjOvr3XUFjwRwpH5AloYdd7+mwF6+/CoUCyh9/ubBqMz7E7Mt87Pn2kihXHOBfRUWg1WZLkXw==\" src=\"https://github.githubassets.com/assets/app_assets_modules_github_behaviors_keyboard-shortcuts-helper_ts-app_assets_modules_github_be-af52ef-d554ec7d3b61.js\" type=\"application/javascript\"></script>\n",
       " <script crossorigin=\"anonymous\" defer=\"defer\" integrity=\"sha512-0NikpU+gxgHVGfcMbcap8D9A8ECCSTIJI4fiNTU5mtiNTVhvVfTvLcx319I83IH6maTwF7/m8kgxcFpZh2Paxw==\" src=\"https://github.githubassets.com/assets/app_assets_modules_github_behaviors_details_ts-app_assets_modules_github_behaviors_include-fr-a5a4c7-d0d8a4a54fa0.js\" type=\"application/javascript\"></script>\n",
       " <script crossorigin=\"anonymous\" defer=\"defer\" integrity=\"sha512-DjIAk2m3fnRtwGLuTVtNfvqAVx6ayA/NOkYx8IAw5r2msssvir2/bEEoK8pKGjCXW+UarNYn/gu68PAbdIukXA==\" src=\"https://github.githubassets.com/assets/behaviors-0e32009369b7.js\" type=\"application/javascript\"></script>\n",
       " <script crossorigin=\"anonymous\" defer=\"defer\" integrity=\"sha512-rLnbCtiKIpRtm1jgAz913tDImW3g8G+FLRMBIMwrkZ33pO8PMzWDG4m8Zl0uIIs10hCyFr6Dc8s6VDC200S9lg==\" src=\"https://github.githubassets.com/assets/vendors-node_modules_delegated-events_dist_index_js-node_modules_github_catalyst_lib_index_js-01c6c51-acb9db0ad88a.js\" type=\"application/javascript\"></script>\n",
       " <script crossorigin=\"anonymous\" defer=\"defer\" integrity=\"sha512-paDaHAe8uAMftTo7ooywENAI3NeRIHNk0IxXV2vJxs3L5/F7hiGDPCDCq2YWOgshQV/AyMjc4bb3TzU9o/+BWQ==\" src=\"https://github.githubassets.com/assets/notifications-global-a5a0da1c07bc.js\" type=\"application/javascript\"></script>\n",
       " <title>Trending  developers on GitHub today · GitHub</title>\n",
       " <meta content=\"C314:63CC:F078F4:FCB219:62B29A57\" data-pjax-transient=\"true\" name=\"request-id\"><meta content=\"9b2f7388ad5dbbdca9eb802697b5ada2439e61f2ce1052f8715779c5ad2f50c1\" data-pjax-transient=\"true\" name=\"html-safe-nonce\"/><meta content=\"eyJyZWZlcnJlciI6IiIsInJlcXVlc3RfaWQiOiJDMzE0OjYzQ0M6RjA3OEY0OkZDQjIxOTo2MkIyOUE1NyIsInZpc2l0b3JfaWQiOiI4NDU2ODM3NDE4MzI4NDMxMTkxIiwicmVnaW9uX2VkZ2UiOiJmcmEiLCJyZWdpb25fcmVuZGVyIjoiZnJhIn0=\" data-pjax-transient=\"true\" name=\"visitor-payload\"/><meta content=\"df094cec65b4c4df01bb303dbc45651a891a8a707374e341f43d212eff2b40d0\" data-pjax-transient=\"true\" name=\"visitor-hmac\"/>\n",
       " <meta content=\"\" data-pjax-transient=\"true\" name=\"github-keyboard-shortcuts\"/>\n",
       " <meta data-pjax-transient=\"\" name=\"selected-link\" value=\"trending_developers\"/>\n",
       " <meta content=\"c1kuD-K2HIVF635lypcsWPoD4kilo5-jA_wBFyT4uMY\" name=\"google-site-verification\"/>\n",
       " <meta content=\"KT5gs8h0wvaagLKAVWq8bbeNwnZZK1r1XQysX3xurLU\" name=\"google-site-verification\"/>\n",
       " <meta content=\"ZzhVyEFwb7w3e0-uOTltm8Jsck2F5StVihD0exw2fsA\" name=\"google-site-verification\"/>\n",
       " <meta content=\"GXs5KoUUkNCoaAZn7wPN-t01Pywp9M3sEjnt_3_ZWPc\" name=\"google-site-verification\"/>\n",
       " <meta content=\"https://collector.github.com/github/collect\" name=\"octolytics-url\">\n",
       " <meta content=\"\" name=\"user-login\"/>\n",
       " <meta content=\"width=device-width\" name=\"viewport\"/>\n",
       " <meta content=\"GitHub is where people build software. More than 83 million people use GitHub to discover, fork, and contribute to over 200 million projects.\" name=\"description\"/>\n",
       " <link href=\"/opensearch.xml\" rel=\"search\" title=\"GitHub\" type=\"application/opensearchdescription+xml\"/>\n",
       " <link href=\"https://github.com/fluidicon.png\" rel=\"fluid-icon\" title=\"GitHub\"/>\n",
       " <meta content=\"1401488693436528\" property=\"fb:app_id\"/>\n",
       " <meta content=\"app-id=1477376905\" name=\"apple-itunes-app\">\n",
       " <meta content=\"https://github.com\" property=\"og:url\"/>\n",
       " <meta content=\"GitHub\" property=\"og:site_name\"/>\n",
       " <meta content=\"Build software better, together\" property=\"og:title\"/>\n",
       " <meta content=\"GitHub is where people build software. More than 83 million people use GitHub to discover, fork, and contribute to over 200 million projects.\" property=\"og:description\"/>\n",
       " <meta content=\"https://github.githubassets.com/images/modules/open_graph/github-logo.png\" property=\"og:image\"/>\n",
       " <meta content=\"image/png\" property=\"og:image:type\"/>\n",
       " <meta content=\"1200\" property=\"og:image:width\"/>\n",
       " <meta content=\"1200\" property=\"og:image:height\"/>\n",
       " <meta content=\"https://github.githubassets.com/images/modules/open_graph/github-mark.png\" property=\"og:image\"/>\n",
       " <meta content=\"image/png\" property=\"og:image:type\"/>\n",
       " <meta content=\"1200\" property=\"og:image:width\"/>\n",
       " <meta content=\"620\" property=\"og:image:height\"/>\n",
       " <meta content=\"https://github.githubassets.com/images/modules/open_graph/github-octocat.png\" property=\"og:image\"/>\n",
       " <meta content=\"image/png\" property=\"og:image:type\"/>\n",
       " <meta content=\"1200\" property=\"og:image:width\"/>\n",
       " <meta content=\"620\" property=\"og:image:height\"/>\n",
       " <meta content=\"github\" property=\"twitter:site\"/>\n",
       " <meta content=\"13334762\" property=\"twitter:site:id\"/>\n",
       " <meta content=\"github\" property=\"twitter:creator\"/>\n",
       " <meta content=\"13334762\" property=\"twitter:creator:id\"/>\n",
       " <meta content=\"summary_large_image\" property=\"twitter:card\"/>\n",
       " <meta content=\"GitHub\" property=\"twitter:title\"/>\n",
       " <meta content=\"GitHub is where people build software. More than 83 million people use GitHub to discover, fork, and contribute to over 200 million projects.\" property=\"twitter:description\"/>\n",
       " <meta content=\"https://github.githubassets.com/images/modules/open_graph/github-logo.png\" property=\"twitter:image:src\"/>\n",
       " <meta content=\"1200\" property=\"twitter:image:width\"/>\n",
       " <meta content=\"1200\" property=\"twitter:image:height\"/>\n",
       " <link href=\"https://github.githubassets.com/\" rel=\"assets\"/>\n",
       " <meta content=\"github.com\" name=\"hostname\"/>\n",
       " <meta content=\"github.com\" name=\"expected-hostname\"/>\n",
       " <meta content=\"IMAGE_METRIC_TRACKING\" name=\"enabled-features\"/>\n",
       " <meta content=\"0e53093b5d9381c33ae17d40eadb26a68d0d16c854af9ed547bb25793e5daa3a\" data-turbo-track=\"reload\" http-equiv=\"x-pjax-version\"/>\n",
       " <meta content=\"485d6a5ccbb1eeae9c86b616b4870b531f6f458e8bd5c309c40280dc4f51defb\" data-turbo-track=\"reload\" http-equiv=\"x-pjax-csp-version\"/>\n",
       " <meta content=\"0399fe76ef43d6a576656b61f9f49f8de05c5937737321833433fdf4a72c48f1\" data-turbo-track=\"reload\" http-equiv=\"x-pjax-css-version\"/>\n",
       " <meta content=\"d9d0a70a90e1620c5ca5c1862b2737bd3ab59039c5e5ae67c72fea2824808f44\" data-turbo-track=\"reload\" http-equiv=\"x-pjax-js-version\"/>\n",
       " <meta content=\"no-preview\" name=\"turbo-cache-control\"/>\n",
       " <link data-pjax-transient=\"\" href=\"https://github.com/trending/developers\" rel=\"canonical\"/>\n",
       " <meta content=\"logged-out env-production page-responsive\" name=\"turbo-body-classes\"/>\n",
       " <meta content=\"https://api.github.com/_private/browser/stats\" name=\"browser-stats-url\"/>\n",
       " <meta content=\"https://api.github.com/_private/browser/errors\" name=\"browser-errors-url\"/>\n",
       " <meta content=\"https://api.github.com/_private/browser/optimizely_client/errors\" name=\"browser-optimizely-client-errors-url\"/>\n",
       " <link color=\"#000000\" href=\"https://github.githubassets.com/pinned-octocat.svg\" rel=\"mask-icon\"/>\n",
       " <link class=\"js-site-favicon\" href=\"https://github.githubassets.com/favicons/favicon.png\" rel=\"alternate icon\" type=\"image/png\"/>\n",
       " <link class=\"js-site-favicon\" href=\"https://github.githubassets.com/favicons/favicon.svg\" rel=\"icon\" type=\"image/svg+xml\"/>\n",
       " <meta content=\"#1e2327\" name=\"theme-color\"/>\n",
       " <meta content=\"light dark\" name=\"color-scheme\">\n",
       " <link crossorigin=\"use-credentials\" href=\"/manifest.json\" rel=\"manifest\"/>\n",
       " </meta></meta></meta></meta></link></link></link>,\n",
       " <link crossorigin=\"anonymous\" data-color-theme=\"dark_colorblind\" data-href=\"https://github.githubassets.com/assets/dark_colorblind-5e900c04c491.css\" integrity=\"sha512-XpAMBMSRZ6RTXgepS8LjKiOeNK3BilRbv8qEiA/M3m+Q4GoqxtHedOI5BAZRikCzfBL4KWYvVzYZSZ8Gp/UnUg==\" media=\"all\" rel=\"stylesheet\"><link crossorigin=\"anonymous\" data-color-theme=\"light_colorblind\" data-href=\"https://github.githubassets.com/assets/light_colorblind-dc71761d9e0b.css\" integrity=\"sha512-3HF2HZ4LgEIQm77yOzoeR20CX1n2cUQlcywscqF4s+5iplolajiHV7E5ranBwkX65jN9TNciHEVSYebQ+8xxEw==\" media=\"all\" rel=\"stylesheet\"><link crossorigin=\"anonymous\" data-color-theme=\"light_high_contrast\" data-href=\"https://github.githubassets.com/assets/light_high_contrast-f89f23dd3d24.css\" integrity=\"sha512-+J8j3T0kbK9/sL3zbkCfPtgYcRD4qQfRbT6xnfOrOTjvz4zhr0M7AXPuE642PpaxGhHs1t77cTtieW9hI2K6Gw==\" media=\"all\" rel=\"stylesheet\"/><link crossorigin=\"anonymous\" data-color-theme=\"light_tritanopia\" data-href=\"https://github.githubassets.com/assets/light_tritanopia-010780c79c07.css\" integrity=\"sha512-AQeAx5wHQAXNf0DmkvVlHYwA3f6BkxunWTI0GGaRN57GqD+H9tW8RKIKlopLS0qGaC54seFsPc601GDlqIuuHg==\" media=\"all\" rel=\"stylesheet\"/><link crossorigin=\"anonymous\" data-color-theme=\"dark_tritanopia\" data-href=\"https://github.githubassets.com/assets/dark_tritanopia-faee699a0004.css\" integrity=\"sha512-+u5pmgAE0T03d/yI6Ha0NWwz6Pk0W6S6WEfIt8veDVdK8NTjcMbZmQB9XUCkDlrBoAKkABva8HuGJ+SzEpV1Uw==\" media=\"all\" rel=\"stylesheet\"/>\n",
       " <link crossorigin=\"anonymous\" href=\"https://github.githubassets.com/assets/primer-10084108b209.css\" integrity=\"sha512-EAhBCLIJ/pXHG3Y6yQhs9s53SHV80sjJ+yCwlQtfv7LaVkD+VoEuZBZ5betQJFUNj/5qBSfZk5GFtazEDzWLAg==\" media=\"all\" rel=\"stylesheet\"/>\n",
       " <link crossorigin=\"anonymous\" href=\"https://github.githubassets.com/assets/global-181aeb293fed.css\" integrity=\"sha512-GBrrKT/tt9A5pFmKVLCNnourKA3+WLtZiMpFPZK2gud/Tqpe0Jf/w57QKf9ITlI2jiT3bTOvbhblwLX+z9X3XA==\" media=\"all\" rel=\"stylesheet\"/>\n",
       " <link crossorigin=\"anonymous\" href=\"https://github.githubassets.com/assets/github-4151d1bd4fa5.css\" integrity=\"sha512-QVHRvU+lsiBTT0dePas9QeGUp/AUz8nmg5MOU5vTdzbvu8eEamPp51Zk/H9qsm70vBgDWe3fXKUDoxAs3pOe0g==\" media=\"all\" rel=\"stylesheet\"/>\n",
       " <link crossorigin=\"anonymous\" href=\"https://github.githubassets.com/assets/site-d31ea144555c.css\" integrity=\"sha512-0x6hRFVcuRNWhPqCOFtXdE2J8WRLzi92vI37R/cnbEyw1JbgRkOIZv+hoYwk1Z+BnSLOwYorhPLm6jrWoV3c7Q==\" media=\"all\" rel=\"stylesheet\"/>\n",
       " <link crossorigin=\"anonymous\" href=\"https://github.githubassets.com/assets/explore-91bd47378abc.css\" integrity=\"sha512-kb1HN4q8/AYgCEDRBJjoppyNOFO0ZKNJCPB7KNEEVlR6e4OLAZ4K3B0+0Z7Nns+WyRmXQLhf2Ub12ZQ+wUQn+w==\" media=\"all\" rel=\"stylesheet\"/>\n",
       " <script crossorigin=\"anonymous\" defer=\"defer\" integrity=\"sha512-gYUql3JlOo86LjmuSgD5S2dkS7d2jATYaVyGkyxQTl6B5EHpSWHW5Ugc8FYxZwLCMLOvjEgi9eIu+scu9TvFMA==\" src=\"https://github.githubassets.com/assets/runtime-81852a977265.js\" type=\"application/javascript\"></script>\n",
       " <script crossorigin=\"anonymous\" defer=\"defer\" integrity=\"sha512-PM8ZLRUfpmVrBB5IBGPS7v8sTlrv6Q6qpwNgm+QuU3SZGtsOwREnkqfHqfcI1SsGrcObmcLMG0fWSRJvlLJsBQ==\" src=\"https://github.githubassets.com/assets/environment-3ccf192d151f.js\" type=\"application/javascript\"></script>\n",
       " <script crossorigin=\"anonymous\" defer=\"defer\" integrity=\"sha512-io+1MvgXPXTw8Kp4eOdNMJl8uGASuw8VfTY5VeIFETaAknimWi8GoxggMEeQ6mq0de4Dest4iIJ/9gUbCo0hgw==\" src=\"https://github.githubassets.com/assets/vendors-node_modules_selector-observer_dist_index_esm_js-8a8fb532f817.js\" type=\"application/javascript\"></script>\n",
       " <script crossorigin=\"anonymous\" defer=\"defer\" integrity=\"sha512-Es25N4GyPa8Yfp5wpahoe5b2fyPtkRMyR6mKIXyCJC0ocqQazeWvxhGZhx3StRxOfqDfHDR5SS35u/R3Wux6Cg==\" src=\"https://github.githubassets.com/assets/vendors-node_modules_delegated-events_dist_index_js-node_modules_github_details-dialog-elemen-63debe-12cdb93781b2.js\" type=\"application/javascript\"></script>\n",
       " <script crossorigin=\"anonymous\" defer=\"defer\" integrity=\"sha512-lmiecOIgf+hakg5oKMNM7grVhEDyPoIrT39Px448JJH5PSAaK21PH0Twgyz5O5oi8+dnlLr3Jt8bBCtAcpNdRw==\" src=\"https://github.githubassets.com/assets/vendors-node_modules_github_filter-input-element_dist_index_js-node_modules_github_remote-inp-c7e9ed-96689e70e220.js\" type=\"application/javascript\"></script>\n",
       " <script crossorigin=\"anonymous\" defer=\"defer\" integrity=\"sha512-y67eNkVaNK4RguUGcHOvIbHFlgf1Qje+LDdjVw2eFuuvBOqta2GePz/CwoLIR/PJhhRAj5RPGxCWoomnimSw6w==\" src=\"https://github.githubassets.com/assets/vendors-node_modules_github_catalyst_lib_index_js-node_modules_github_time-elements_dist_index_js-cbaede36455a.js\" type=\"application/javascript\"></script>\n",
       " <script crossorigin=\"anonymous\" defer=\"defer\" integrity=\"sha512-DE9GK/TS3Hf/dJfP1GMiyjvsGRnpR4A1eGH64s0Ot7Vy7Tj7/aD1d5EOMWHFWQXlXy/ZSwu5MHInG6RZN31bMA==\" src=\"https://github.githubassets.com/assets/vendors-node_modules_github_file-attachment-element_dist_index_js-node_modules_primer_view-co-52e104-0c4f462bf4d2.js\" type=\"application/javascript\"></script>\n",
       " <script crossorigin=\"anonymous\" defer=\"defer\" integrity=\"sha512-i0Ha1jdl+Ze1GOoj8XJ4FmsHvIvxukCOi0Om2NK2574NSfisYFHJTigepoBa0Ft+u1d2T9Lc3C60Pn9ma+gAng==\" src=\"https://github.githubassets.com/assets/github-elements-8b41dad63765.js\" type=\"application/javascript\"></script>\n",
       " <script crossorigin=\"anonymous\" defer=\"defer\" integrity=\"sha512-WuNKYWBvlhp4UyBN3XBD+FXQ2rLTQa11KWVz1oSnQwBim+Bd53Ue6NJZKkvzDOyak32JBUI7PSwqbiKNiiequQ==\" src=\"https://github.githubassets.com/assets/element-registry-5ae34a61606f.js\" type=\"application/javascript\"></script>\n",
       " <script crossorigin=\"anonymous\" defer=\"defer\" integrity=\"sha512-uo73yUZcm4EicwjSbfxFZcKfjWniOxhLBp+q1n7IFRfutFM6/lzbQMgD0Xrxp7QD1HzqdvrV8UclPhi3mEOyzQ==\" src=\"https://github.githubassets.com/assets/vendors-node_modules_lit-html_lit-html_js-ba8ef7c9465c.js\" type=\"application/javascript\"></script>\n",
       " <script crossorigin=\"anonymous\" defer=\"defer\" integrity=\"sha512-5XdknqL9iTuaAhbOnKJDHf+5bJReOYDwlz5p2mW+SAVfab4RN6AfIliqtPwheKld40DrhPs47We/mT5nlZq2Sg==\" src=\"https://github.githubassets.com/assets/vendors-node_modules_github_remote-form_dist_index_js-node_modules_github_catalyst_lib_index_-87b1b3-e577649ea2fd.js\" type=\"application/javascript\"></script>\n",
       " <script crossorigin=\"anonymous\" defer=\"defer\" integrity=\"sha512-0r1nf/rfPz54kyePp4f63bcPxkFo7wyaUZJD/SwIVDK3q0WzurAK9ydOm88tzKtPJm8xWI0Vo25NyCfecwxJ9g==\" src=\"https://github.githubassets.com/assets/vendors-node_modules_github_mini-throttle_dist_index_js-node_modules_github_hotkey_dist_index-9f48bd-d2bd677ffadf.js\" type=\"application/javascript\"></script>\n",
       " <script crossorigin=\"anonymous\" defer=\"defer\" integrity=\"sha512-VK56d0N1hPZ20mOzPoy84zlTGCjGbKKmVvfjoyDqSF+VxTD4f6X8QDs2RgG1R1cdBmsCiea+ZxP6ukV3tHlD+Q==\" src=\"https://github.githubassets.com/assets/vendors-node_modules_github_paste-markdown_dist_index_esm_js-node_modules_github_quote-select-df2537-54ae7a774375.js\" type=\"application/javascript\"></script>\n",
       " <script crossorigin=\"anonymous\" defer=\"defer\" integrity=\"sha512-n4Tyfi5c/uwygTjsnha2QyN3+RMC8XNjYdlbvspiE6fN9tdKgsapC36CztCZX31jUoPvHY3HPpR4MaU5JZhs5Q==\" src=\"https://github.githubassets.com/assets/app_assets_modules_github_behaviors_pjax_ts-9f84f27e2e5c.js\" type=\"application/javascript\"></script>\n",
       " <script crossorigin=\"anonymous\" defer=\"defer\" integrity=\"sha512-1VTsfTthjXvPtrjOvr3XUFjwRwpH5AloYdd7+mwF6+/CoUCyh9/ubBqMz7E7Mt87Pn2kihXHOBfRUWg1WZLkXw==\" src=\"https://github.githubassets.com/assets/app_assets_modules_github_behaviors_keyboard-shortcuts-helper_ts-app_assets_modules_github_be-af52ef-d554ec7d3b61.js\" type=\"application/javascript\"></script>\n",
       " <script crossorigin=\"anonymous\" defer=\"defer\" integrity=\"sha512-0NikpU+gxgHVGfcMbcap8D9A8ECCSTIJI4fiNTU5mtiNTVhvVfTvLcx319I83IH6maTwF7/m8kgxcFpZh2Paxw==\" src=\"https://github.githubassets.com/assets/app_assets_modules_github_behaviors_details_ts-app_assets_modules_github_behaviors_include-fr-a5a4c7-d0d8a4a54fa0.js\" type=\"application/javascript\"></script>\n",
       " <script crossorigin=\"anonymous\" defer=\"defer\" integrity=\"sha512-DjIAk2m3fnRtwGLuTVtNfvqAVx6ayA/NOkYx8IAw5r2msssvir2/bEEoK8pKGjCXW+UarNYn/gu68PAbdIukXA==\" src=\"https://github.githubassets.com/assets/behaviors-0e32009369b7.js\" type=\"application/javascript\"></script>\n",
       " <script crossorigin=\"anonymous\" defer=\"defer\" integrity=\"sha512-rLnbCtiKIpRtm1jgAz913tDImW3g8G+FLRMBIMwrkZ33pO8PMzWDG4m8Zl0uIIs10hCyFr6Dc8s6VDC200S9lg==\" src=\"https://github.githubassets.com/assets/vendors-node_modules_delegated-events_dist_index_js-node_modules_github_catalyst_lib_index_js-01c6c51-acb9db0ad88a.js\" type=\"application/javascript\"></script>\n",
       " <script crossorigin=\"anonymous\" defer=\"defer\" integrity=\"sha512-paDaHAe8uAMftTo7ooywENAI3NeRIHNk0IxXV2vJxs3L5/F7hiGDPCDCq2YWOgshQV/AyMjc4bb3TzU9o/+BWQ==\" src=\"https://github.githubassets.com/assets/notifications-global-a5a0da1c07bc.js\" type=\"application/javascript\"></script>\n",
       " <title>Trending  developers on GitHub today · GitHub</title>\n",
       " <meta content=\"C314:63CC:F078F4:FCB219:62B29A57\" data-pjax-transient=\"true\" name=\"request-id\"><meta content=\"9b2f7388ad5dbbdca9eb802697b5ada2439e61f2ce1052f8715779c5ad2f50c1\" data-pjax-transient=\"true\" name=\"html-safe-nonce\"/><meta content=\"eyJyZWZlcnJlciI6IiIsInJlcXVlc3RfaWQiOiJDMzE0OjYzQ0M6RjA3OEY0OkZDQjIxOTo2MkIyOUE1NyIsInZpc2l0b3JfaWQiOiI4NDU2ODM3NDE4MzI4NDMxMTkxIiwicmVnaW9uX2VkZ2UiOiJmcmEiLCJyZWdpb25fcmVuZGVyIjoiZnJhIn0=\" data-pjax-transient=\"true\" name=\"visitor-payload\"/><meta content=\"df094cec65b4c4df01bb303dbc45651a891a8a707374e341f43d212eff2b40d0\" data-pjax-transient=\"true\" name=\"visitor-hmac\"/>\n",
       " <meta content=\"\" data-pjax-transient=\"true\" name=\"github-keyboard-shortcuts\"/>\n",
       " <meta data-pjax-transient=\"\" name=\"selected-link\" value=\"trending_developers\"/>\n",
       " <meta content=\"c1kuD-K2HIVF635lypcsWPoD4kilo5-jA_wBFyT4uMY\" name=\"google-site-verification\"/>\n",
       " <meta content=\"KT5gs8h0wvaagLKAVWq8bbeNwnZZK1r1XQysX3xurLU\" name=\"google-site-verification\"/>\n",
       " <meta content=\"ZzhVyEFwb7w3e0-uOTltm8Jsck2F5StVihD0exw2fsA\" name=\"google-site-verification\"/>\n",
       " <meta content=\"GXs5KoUUkNCoaAZn7wPN-t01Pywp9M3sEjnt_3_ZWPc\" name=\"google-site-verification\"/>\n",
       " <meta content=\"https://collector.github.com/github/collect\" name=\"octolytics-url\">\n",
       " <meta content=\"\" name=\"user-login\"/>\n",
       " <meta content=\"width=device-width\" name=\"viewport\"/>\n",
       " <meta content=\"GitHub is where people build software. More than 83 million people use GitHub to discover, fork, and contribute to over 200 million projects.\" name=\"description\"/>\n",
       " <link href=\"/opensearch.xml\" rel=\"search\" title=\"GitHub\" type=\"application/opensearchdescription+xml\"/>\n",
       " <link href=\"https://github.com/fluidicon.png\" rel=\"fluid-icon\" title=\"GitHub\"/>\n",
       " <meta content=\"1401488693436528\" property=\"fb:app_id\"/>\n",
       " <meta content=\"app-id=1477376905\" name=\"apple-itunes-app\">\n",
       " <meta content=\"https://github.com\" property=\"og:url\"/>\n",
       " <meta content=\"GitHub\" property=\"og:site_name\"/>\n",
       " <meta content=\"Build software better, together\" property=\"og:title\"/>\n",
       " <meta content=\"GitHub is where people build software. More than 83 million people use GitHub to discover, fork, and contribute to over 200 million projects.\" property=\"og:description\"/>\n",
       " <meta content=\"https://github.githubassets.com/images/modules/open_graph/github-logo.png\" property=\"og:image\"/>\n",
       " <meta content=\"image/png\" property=\"og:image:type\"/>\n",
       " <meta content=\"1200\" property=\"og:image:width\"/>\n",
       " <meta content=\"1200\" property=\"og:image:height\"/>\n",
       " <meta content=\"https://github.githubassets.com/images/modules/open_graph/github-mark.png\" property=\"og:image\"/>\n",
       " <meta content=\"image/png\" property=\"og:image:type\"/>\n",
       " <meta content=\"1200\" property=\"og:image:width\"/>\n",
       " <meta content=\"620\" property=\"og:image:height\"/>\n",
       " <meta content=\"https://github.githubassets.com/images/modules/open_graph/github-octocat.png\" property=\"og:image\"/>\n",
       " <meta content=\"image/png\" property=\"og:image:type\"/>\n",
       " <meta content=\"1200\" property=\"og:image:width\"/>\n",
       " <meta content=\"620\" property=\"og:image:height\"/>\n",
       " <meta content=\"github\" property=\"twitter:site\"/>\n",
       " <meta content=\"13334762\" property=\"twitter:site:id\"/>\n",
       " <meta content=\"github\" property=\"twitter:creator\"/>\n",
       " <meta content=\"13334762\" property=\"twitter:creator:id\"/>\n",
       " <meta content=\"summary_large_image\" property=\"twitter:card\"/>\n",
       " <meta content=\"GitHub\" property=\"twitter:title\"/>\n",
       " <meta content=\"GitHub is where people build software. More than 83 million people use GitHub to discover, fork, and contribute to over 200 million projects.\" property=\"twitter:description\"/>\n",
       " <meta content=\"https://github.githubassets.com/images/modules/open_graph/github-logo.png\" property=\"twitter:image:src\"/>\n",
       " <meta content=\"1200\" property=\"twitter:image:width\"/>\n",
       " <meta content=\"1200\" property=\"twitter:image:height\"/>\n",
       " <link href=\"https://github.githubassets.com/\" rel=\"assets\"/>\n",
       " <meta content=\"github.com\" name=\"hostname\"/>\n",
       " <meta content=\"github.com\" name=\"expected-hostname\"/>\n",
       " <meta content=\"IMAGE_METRIC_TRACKING\" name=\"enabled-features\"/>\n",
       " <meta content=\"0e53093b5d9381c33ae17d40eadb26a68d0d16c854af9ed547bb25793e5daa3a\" data-turbo-track=\"reload\" http-equiv=\"x-pjax-version\"/>\n",
       " <meta content=\"485d6a5ccbb1eeae9c86b616b4870b531f6f458e8bd5c309c40280dc4f51defb\" data-turbo-track=\"reload\" http-equiv=\"x-pjax-csp-version\"/>\n",
       " <meta content=\"0399fe76ef43d6a576656b61f9f49f8de05c5937737321833433fdf4a72c48f1\" data-turbo-track=\"reload\" http-equiv=\"x-pjax-css-version\"/>\n",
       " <meta content=\"d9d0a70a90e1620c5ca5c1862b2737bd3ab59039c5e5ae67c72fea2824808f44\" data-turbo-track=\"reload\" http-equiv=\"x-pjax-js-version\"/>\n",
       " <meta content=\"no-preview\" name=\"turbo-cache-control\"/>\n",
       " <link data-pjax-transient=\"\" href=\"https://github.com/trending/developers\" rel=\"canonical\"/>\n",
       " <meta content=\"logged-out env-production page-responsive\" name=\"turbo-body-classes\"/>\n",
       " <meta content=\"https://api.github.com/_private/browser/stats\" name=\"browser-stats-url\"/>\n",
       " <meta content=\"https://api.github.com/_private/browser/errors\" name=\"browser-errors-url\"/>\n",
       " <meta content=\"https://api.github.com/_private/browser/optimizely_client/errors\" name=\"browser-optimizely-client-errors-url\"/>\n",
       " <link color=\"#000000\" href=\"https://github.githubassets.com/pinned-octocat.svg\" rel=\"mask-icon\"/>\n",
       " <link class=\"js-site-favicon\" href=\"https://github.githubassets.com/favicons/favicon.png\" rel=\"alternate icon\" type=\"image/png\"/>\n",
       " <link class=\"js-site-favicon\" href=\"https://github.githubassets.com/favicons/favicon.svg\" rel=\"icon\" type=\"image/svg+xml\"/>\n",
       " <meta content=\"#1e2327\" name=\"theme-color\"/>\n",
       " <meta content=\"light dark\" name=\"color-scheme\">\n",
       " <link crossorigin=\"use-credentials\" href=\"/manifest.json\" rel=\"manifest\"/>\n",
       " </meta></meta></meta></meta></link></link>,\n",
       " <link crossorigin=\"anonymous\" data-color-theme=\"light_colorblind\" data-href=\"https://github.githubassets.com/assets/light_colorblind-dc71761d9e0b.css\" integrity=\"sha512-3HF2HZ4LgEIQm77yOzoeR20CX1n2cUQlcywscqF4s+5iplolajiHV7E5ranBwkX65jN9TNciHEVSYebQ+8xxEw==\" media=\"all\" rel=\"stylesheet\"><link crossorigin=\"anonymous\" data-color-theme=\"light_high_contrast\" data-href=\"https://github.githubassets.com/assets/light_high_contrast-f89f23dd3d24.css\" integrity=\"sha512-+J8j3T0kbK9/sL3zbkCfPtgYcRD4qQfRbT6xnfOrOTjvz4zhr0M7AXPuE642PpaxGhHs1t77cTtieW9hI2K6Gw==\" media=\"all\" rel=\"stylesheet\"/><link crossorigin=\"anonymous\" data-color-theme=\"light_tritanopia\" data-href=\"https://github.githubassets.com/assets/light_tritanopia-010780c79c07.css\" integrity=\"sha512-AQeAx5wHQAXNf0DmkvVlHYwA3f6BkxunWTI0GGaRN57GqD+H9tW8RKIKlopLS0qGaC54seFsPc601GDlqIuuHg==\" media=\"all\" rel=\"stylesheet\"/><link crossorigin=\"anonymous\" data-color-theme=\"dark_tritanopia\" data-href=\"https://github.githubassets.com/assets/dark_tritanopia-faee699a0004.css\" integrity=\"sha512-+u5pmgAE0T03d/yI6Ha0NWwz6Pk0W6S6WEfIt8veDVdK8NTjcMbZmQB9XUCkDlrBoAKkABva8HuGJ+SzEpV1Uw==\" media=\"all\" rel=\"stylesheet\"/>\n",
       " <link crossorigin=\"anonymous\" href=\"https://github.githubassets.com/assets/primer-10084108b209.css\" integrity=\"sha512-EAhBCLIJ/pXHG3Y6yQhs9s53SHV80sjJ+yCwlQtfv7LaVkD+VoEuZBZ5betQJFUNj/5qBSfZk5GFtazEDzWLAg==\" media=\"all\" rel=\"stylesheet\"/>\n",
       " <link crossorigin=\"anonymous\" href=\"https://github.githubassets.com/assets/global-181aeb293fed.css\" integrity=\"sha512-GBrrKT/tt9A5pFmKVLCNnourKA3+WLtZiMpFPZK2gud/Tqpe0Jf/w57QKf9ITlI2jiT3bTOvbhblwLX+z9X3XA==\" media=\"all\" rel=\"stylesheet\"/>\n",
       " <link crossorigin=\"anonymous\" href=\"https://github.githubassets.com/assets/github-4151d1bd4fa5.css\" integrity=\"sha512-QVHRvU+lsiBTT0dePas9QeGUp/AUz8nmg5MOU5vTdzbvu8eEamPp51Zk/H9qsm70vBgDWe3fXKUDoxAs3pOe0g==\" media=\"all\" rel=\"stylesheet\"/>\n",
       " <link crossorigin=\"anonymous\" href=\"https://github.githubassets.com/assets/site-d31ea144555c.css\" integrity=\"sha512-0x6hRFVcuRNWhPqCOFtXdE2J8WRLzi92vI37R/cnbEyw1JbgRkOIZv+hoYwk1Z+BnSLOwYorhPLm6jrWoV3c7Q==\" media=\"all\" rel=\"stylesheet\"/>\n",
       " <link crossorigin=\"anonymous\" href=\"https://github.githubassets.com/assets/explore-91bd47378abc.css\" integrity=\"sha512-kb1HN4q8/AYgCEDRBJjoppyNOFO0ZKNJCPB7KNEEVlR6e4OLAZ4K3B0+0Z7Nns+WyRmXQLhf2Ub12ZQ+wUQn+w==\" media=\"all\" rel=\"stylesheet\"/>\n",
       " <script crossorigin=\"anonymous\" defer=\"defer\" integrity=\"sha512-gYUql3JlOo86LjmuSgD5S2dkS7d2jATYaVyGkyxQTl6B5EHpSWHW5Ugc8FYxZwLCMLOvjEgi9eIu+scu9TvFMA==\" src=\"https://github.githubassets.com/assets/runtime-81852a977265.js\" type=\"application/javascript\"></script>\n",
       " <script crossorigin=\"anonymous\" defer=\"defer\" integrity=\"sha512-PM8ZLRUfpmVrBB5IBGPS7v8sTlrv6Q6qpwNgm+QuU3SZGtsOwREnkqfHqfcI1SsGrcObmcLMG0fWSRJvlLJsBQ==\" src=\"https://github.githubassets.com/assets/environment-3ccf192d151f.js\" type=\"application/javascript\"></script>\n",
       " <script crossorigin=\"anonymous\" defer=\"defer\" integrity=\"sha512-io+1MvgXPXTw8Kp4eOdNMJl8uGASuw8VfTY5VeIFETaAknimWi8GoxggMEeQ6mq0de4Dest4iIJ/9gUbCo0hgw==\" src=\"https://github.githubassets.com/assets/vendors-node_modules_selector-observer_dist_index_esm_js-8a8fb532f817.js\" type=\"application/javascript\"></script>\n",
       " <script crossorigin=\"anonymous\" defer=\"defer\" integrity=\"sha512-Es25N4GyPa8Yfp5wpahoe5b2fyPtkRMyR6mKIXyCJC0ocqQazeWvxhGZhx3StRxOfqDfHDR5SS35u/R3Wux6Cg==\" src=\"https://github.githubassets.com/assets/vendors-node_modules_delegated-events_dist_index_js-node_modules_github_details-dialog-elemen-63debe-12cdb93781b2.js\" type=\"application/javascript\"></script>\n",
       " <script crossorigin=\"anonymous\" defer=\"defer\" integrity=\"sha512-lmiecOIgf+hakg5oKMNM7grVhEDyPoIrT39Px448JJH5PSAaK21PH0Twgyz5O5oi8+dnlLr3Jt8bBCtAcpNdRw==\" src=\"https://github.githubassets.com/assets/vendors-node_modules_github_filter-input-element_dist_index_js-node_modules_github_remote-inp-c7e9ed-96689e70e220.js\" type=\"application/javascript\"></script>\n",
       " <script crossorigin=\"anonymous\" defer=\"defer\" integrity=\"sha512-y67eNkVaNK4RguUGcHOvIbHFlgf1Qje+LDdjVw2eFuuvBOqta2GePz/CwoLIR/PJhhRAj5RPGxCWoomnimSw6w==\" src=\"https://github.githubassets.com/assets/vendors-node_modules_github_catalyst_lib_index_js-node_modules_github_time-elements_dist_index_js-cbaede36455a.js\" type=\"application/javascript\"></script>\n",
       " <script crossorigin=\"anonymous\" defer=\"defer\" integrity=\"sha512-DE9GK/TS3Hf/dJfP1GMiyjvsGRnpR4A1eGH64s0Ot7Vy7Tj7/aD1d5EOMWHFWQXlXy/ZSwu5MHInG6RZN31bMA==\" src=\"https://github.githubassets.com/assets/vendors-node_modules_github_file-attachment-element_dist_index_js-node_modules_primer_view-co-52e104-0c4f462bf4d2.js\" type=\"application/javascript\"></script>\n",
       " <script crossorigin=\"anonymous\" defer=\"defer\" integrity=\"sha512-i0Ha1jdl+Ze1GOoj8XJ4FmsHvIvxukCOi0Om2NK2574NSfisYFHJTigepoBa0Ft+u1d2T9Lc3C60Pn9ma+gAng==\" src=\"https://github.githubassets.com/assets/github-elements-8b41dad63765.js\" type=\"application/javascript\"></script>\n",
       " <script crossorigin=\"anonymous\" defer=\"defer\" integrity=\"sha512-WuNKYWBvlhp4UyBN3XBD+FXQ2rLTQa11KWVz1oSnQwBim+Bd53Ue6NJZKkvzDOyak32JBUI7PSwqbiKNiiequQ==\" src=\"https://github.githubassets.com/assets/element-registry-5ae34a61606f.js\" type=\"application/javascript\"></script>\n",
       " <script crossorigin=\"anonymous\" defer=\"defer\" integrity=\"sha512-uo73yUZcm4EicwjSbfxFZcKfjWniOxhLBp+q1n7IFRfutFM6/lzbQMgD0Xrxp7QD1HzqdvrV8UclPhi3mEOyzQ==\" src=\"https://github.githubassets.com/assets/vendors-node_modules_lit-html_lit-html_js-ba8ef7c9465c.js\" type=\"application/javascript\"></script>\n",
       " <script crossorigin=\"anonymous\" defer=\"defer\" integrity=\"sha512-5XdknqL9iTuaAhbOnKJDHf+5bJReOYDwlz5p2mW+SAVfab4RN6AfIliqtPwheKld40DrhPs47We/mT5nlZq2Sg==\" src=\"https://github.githubassets.com/assets/vendors-node_modules_github_remote-form_dist_index_js-node_modules_github_catalyst_lib_index_-87b1b3-e577649ea2fd.js\" type=\"application/javascript\"></script>\n",
       " <script crossorigin=\"anonymous\" defer=\"defer\" integrity=\"sha512-0r1nf/rfPz54kyePp4f63bcPxkFo7wyaUZJD/SwIVDK3q0WzurAK9ydOm88tzKtPJm8xWI0Vo25NyCfecwxJ9g==\" src=\"https://github.githubassets.com/assets/vendors-node_modules_github_mini-throttle_dist_index_js-node_modules_github_hotkey_dist_index-9f48bd-d2bd677ffadf.js\" type=\"application/javascript\"></script>\n",
       " <script crossorigin=\"anonymous\" defer=\"defer\" integrity=\"sha512-VK56d0N1hPZ20mOzPoy84zlTGCjGbKKmVvfjoyDqSF+VxTD4f6X8QDs2RgG1R1cdBmsCiea+ZxP6ukV3tHlD+Q==\" src=\"https://github.githubassets.com/assets/vendors-node_modules_github_paste-markdown_dist_index_esm_js-node_modules_github_quote-select-df2537-54ae7a774375.js\" type=\"application/javascript\"></script>\n",
       " <script crossorigin=\"anonymous\" defer=\"defer\" integrity=\"sha512-n4Tyfi5c/uwygTjsnha2QyN3+RMC8XNjYdlbvspiE6fN9tdKgsapC36CztCZX31jUoPvHY3HPpR4MaU5JZhs5Q==\" src=\"https://github.githubassets.com/assets/app_assets_modules_github_behaviors_pjax_ts-9f84f27e2e5c.js\" type=\"application/javascript\"></script>\n",
       " <script crossorigin=\"anonymous\" defer=\"defer\" integrity=\"sha512-1VTsfTthjXvPtrjOvr3XUFjwRwpH5AloYdd7+mwF6+/CoUCyh9/ubBqMz7E7Mt87Pn2kihXHOBfRUWg1WZLkXw==\" src=\"https://github.githubassets.com/assets/app_assets_modules_github_behaviors_keyboard-shortcuts-helper_ts-app_assets_modules_github_be-af52ef-d554ec7d3b61.js\" type=\"application/javascript\"></script>\n",
       " <script crossorigin=\"anonymous\" defer=\"defer\" integrity=\"sha512-0NikpU+gxgHVGfcMbcap8D9A8ECCSTIJI4fiNTU5mtiNTVhvVfTvLcx319I83IH6maTwF7/m8kgxcFpZh2Paxw==\" src=\"https://github.githubassets.com/assets/app_assets_modules_github_behaviors_details_ts-app_assets_modules_github_behaviors_include-fr-a5a4c7-d0d8a4a54fa0.js\" type=\"application/javascript\"></script>\n",
       " <script crossorigin=\"anonymous\" defer=\"defer\" integrity=\"sha512-DjIAk2m3fnRtwGLuTVtNfvqAVx6ayA/NOkYx8IAw5r2msssvir2/bEEoK8pKGjCXW+UarNYn/gu68PAbdIukXA==\" src=\"https://github.githubassets.com/assets/behaviors-0e32009369b7.js\" type=\"application/javascript\"></script>\n",
       " <script crossorigin=\"anonymous\" defer=\"defer\" integrity=\"sha512-rLnbCtiKIpRtm1jgAz913tDImW3g8G+FLRMBIMwrkZ33pO8PMzWDG4m8Zl0uIIs10hCyFr6Dc8s6VDC200S9lg==\" src=\"https://github.githubassets.com/assets/vendors-node_modules_delegated-events_dist_index_js-node_modules_github_catalyst_lib_index_js-01c6c51-acb9db0ad88a.js\" type=\"application/javascript\"></script>\n",
       " <script crossorigin=\"anonymous\" defer=\"defer\" integrity=\"sha512-paDaHAe8uAMftTo7ooywENAI3NeRIHNk0IxXV2vJxs3L5/F7hiGDPCDCq2YWOgshQV/AyMjc4bb3TzU9o/+BWQ==\" src=\"https://github.githubassets.com/assets/notifications-global-a5a0da1c07bc.js\" type=\"application/javascript\"></script>\n",
       " <title>Trending  developers on GitHub today · GitHub</title>\n",
       " <meta content=\"C314:63CC:F078F4:FCB219:62B29A57\" data-pjax-transient=\"true\" name=\"request-id\"><meta content=\"9b2f7388ad5dbbdca9eb802697b5ada2439e61f2ce1052f8715779c5ad2f50c1\" data-pjax-transient=\"true\" name=\"html-safe-nonce\"/><meta content=\"eyJyZWZlcnJlciI6IiIsInJlcXVlc3RfaWQiOiJDMzE0OjYzQ0M6RjA3OEY0OkZDQjIxOTo2MkIyOUE1NyIsInZpc2l0b3JfaWQiOiI4NDU2ODM3NDE4MzI4NDMxMTkxIiwicmVnaW9uX2VkZ2UiOiJmcmEiLCJyZWdpb25fcmVuZGVyIjoiZnJhIn0=\" data-pjax-transient=\"true\" name=\"visitor-payload\"/><meta content=\"df094cec65b4c4df01bb303dbc45651a891a8a707374e341f43d212eff2b40d0\" data-pjax-transient=\"true\" name=\"visitor-hmac\"/>\n",
       " <meta content=\"\" data-pjax-transient=\"true\" name=\"github-keyboard-shortcuts\"/>\n",
       " <meta data-pjax-transient=\"\" name=\"selected-link\" value=\"trending_developers\"/>\n",
       " <meta content=\"c1kuD-K2HIVF635lypcsWPoD4kilo5-jA_wBFyT4uMY\" name=\"google-site-verification\"/>\n",
       " <meta content=\"KT5gs8h0wvaagLKAVWq8bbeNwnZZK1r1XQysX3xurLU\" name=\"google-site-verification\"/>\n",
       " <meta content=\"ZzhVyEFwb7w3e0-uOTltm8Jsck2F5StVihD0exw2fsA\" name=\"google-site-verification\"/>\n",
       " <meta content=\"GXs5KoUUkNCoaAZn7wPN-t01Pywp9M3sEjnt_3_ZWPc\" name=\"google-site-verification\"/>\n",
       " <meta content=\"https://collector.github.com/github/collect\" name=\"octolytics-url\">\n",
       " <meta content=\"\" name=\"user-login\"/>\n",
       " <meta content=\"width=device-width\" name=\"viewport\"/>\n",
       " <meta content=\"GitHub is where people build software. More than 83 million people use GitHub to discover, fork, and contribute to over 200 million projects.\" name=\"description\"/>\n",
       " <link href=\"/opensearch.xml\" rel=\"search\" title=\"GitHub\" type=\"application/opensearchdescription+xml\"/>\n",
       " <link href=\"https://github.com/fluidicon.png\" rel=\"fluid-icon\" title=\"GitHub\"/>\n",
       " <meta content=\"1401488693436528\" property=\"fb:app_id\"/>\n",
       " <meta content=\"app-id=1477376905\" name=\"apple-itunes-app\">\n",
       " <meta content=\"https://github.com\" property=\"og:url\"/>\n",
       " <meta content=\"GitHub\" property=\"og:site_name\"/>\n",
       " <meta content=\"Build software better, together\" property=\"og:title\"/>\n",
       " <meta content=\"GitHub is where people build software. More than 83 million people use GitHub to discover, fork, and contribute to over 200 million projects.\" property=\"og:description\"/>\n",
       " <meta content=\"https://github.githubassets.com/images/modules/open_graph/github-logo.png\" property=\"og:image\"/>\n",
       " <meta content=\"image/png\" property=\"og:image:type\"/>\n",
       " <meta content=\"1200\" property=\"og:image:width\"/>\n",
       " <meta content=\"1200\" property=\"og:image:height\"/>\n",
       " <meta content=\"https://github.githubassets.com/images/modules/open_graph/github-mark.png\" property=\"og:image\"/>\n",
       " <meta content=\"image/png\" property=\"og:image:type\"/>\n",
       " <meta content=\"1200\" property=\"og:image:width\"/>\n",
       " <meta content=\"620\" property=\"og:image:height\"/>\n",
       " <meta content=\"https://github.githubassets.com/images/modules/open_graph/github-octocat.png\" property=\"og:image\"/>\n",
       " <meta content=\"image/png\" property=\"og:image:type\"/>\n",
       " <meta content=\"1200\" property=\"og:image:width\"/>\n",
       " <meta content=\"620\" property=\"og:image:height\"/>\n",
       " <meta content=\"github\" property=\"twitter:site\"/>\n",
       " <meta content=\"13334762\" property=\"twitter:site:id\"/>\n",
       " <meta content=\"github\" property=\"twitter:creator\"/>\n",
       " <meta content=\"13334762\" property=\"twitter:creator:id\"/>\n",
       " <meta content=\"summary_large_image\" property=\"twitter:card\"/>\n",
       " <meta content=\"GitHub\" property=\"twitter:title\"/>\n",
       " <meta content=\"GitHub is where people build software. More than 83 million people use GitHub to discover, fork, and contribute to over 200 million projects.\" property=\"twitter:description\"/>\n",
       " <meta content=\"https://github.githubassets.com/images/modules/open_graph/github-logo.png\" property=\"twitter:image:src\"/>\n",
       " <meta content=\"1200\" property=\"twitter:image:width\"/>\n",
       " <meta content=\"1200\" property=\"twitter:image:height\"/>\n",
       " <link href=\"https://github.githubassets.com/\" rel=\"assets\"/>\n",
       " <meta content=\"github.com\" name=\"hostname\"/>\n",
       " <meta content=\"github.com\" name=\"expected-hostname\"/>\n",
       " <meta content=\"IMAGE_METRIC_TRACKING\" name=\"enabled-features\"/>\n",
       " <meta content=\"0e53093b5d9381c33ae17d40eadb26a68d0d16c854af9ed547bb25793e5daa3a\" data-turbo-track=\"reload\" http-equiv=\"x-pjax-version\"/>\n",
       " <meta content=\"485d6a5ccbb1eeae9c86b616b4870b531f6f458e8bd5c309c40280dc4f51defb\" data-turbo-track=\"reload\" http-equiv=\"x-pjax-csp-version\"/>\n",
       " <meta content=\"0399fe76ef43d6a576656b61f9f49f8de05c5937737321833433fdf4a72c48f1\" data-turbo-track=\"reload\" http-equiv=\"x-pjax-css-version\"/>\n",
       " <meta content=\"d9d0a70a90e1620c5ca5c1862b2737bd3ab59039c5e5ae67c72fea2824808f44\" data-turbo-track=\"reload\" http-equiv=\"x-pjax-js-version\"/>\n",
       " <meta content=\"no-preview\" name=\"turbo-cache-control\"/>\n",
       " <link data-pjax-transient=\"\" href=\"https://github.com/trending/developers\" rel=\"canonical\"/>\n",
       " <meta content=\"logged-out env-production page-responsive\" name=\"turbo-body-classes\"/>\n",
       " <meta content=\"https://api.github.com/_private/browser/stats\" name=\"browser-stats-url\"/>\n",
       " <meta content=\"https://api.github.com/_private/browser/errors\" name=\"browser-errors-url\"/>\n",
       " <meta content=\"https://api.github.com/_private/browser/optimizely_client/errors\" name=\"browser-optimizely-client-errors-url\"/>\n",
       " <link color=\"#000000\" href=\"https://github.githubassets.com/pinned-octocat.svg\" rel=\"mask-icon\"/>\n",
       " <link class=\"js-site-favicon\" href=\"https://github.githubassets.com/favicons/favicon.png\" rel=\"alternate icon\" type=\"image/png\"/>\n",
       " <link class=\"js-site-favicon\" href=\"https://github.githubassets.com/favicons/favicon.svg\" rel=\"icon\" type=\"image/svg+xml\"/>\n",
       " <meta content=\"#1e2327\" name=\"theme-color\"/>\n",
       " <meta content=\"light dark\" name=\"color-scheme\">\n",
       " <link crossorigin=\"use-credentials\" href=\"/manifest.json\" rel=\"manifest\"/>\n",
       " </meta></meta></meta></meta></link>,\n",
       " <link crossorigin=\"anonymous\" data-color-theme=\"light_high_contrast\" data-href=\"https://github.githubassets.com/assets/light_high_contrast-f89f23dd3d24.css\" integrity=\"sha512-+J8j3T0kbK9/sL3zbkCfPtgYcRD4qQfRbT6xnfOrOTjvz4zhr0M7AXPuE642PpaxGhHs1t77cTtieW9hI2K6Gw==\" media=\"all\" rel=\"stylesheet\"/>,\n",
       " <link crossorigin=\"anonymous\" data-color-theme=\"light_tritanopia\" data-href=\"https://github.githubassets.com/assets/light_tritanopia-010780c79c07.css\" integrity=\"sha512-AQeAx5wHQAXNf0DmkvVlHYwA3f6BkxunWTI0GGaRN57GqD+H9tW8RKIKlopLS0qGaC54seFsPc601GDlqIuuHg==\" media=\"all\" rel=\"stylesheet\"/>,\n",
       " <link crossorigin=\"anonymous\" data-color-theme=\"dark_tritanopia\" data-href=\"https://github.githubassets.com/assets/dark_tritanopia-faee699a0004.css\" integrity=\"sha512-+u5pmgAE0T03d/yI6Ha0NWwz6Pk0W6S6WEfIt8veDVdK8NTjcMbZmQB9XUCkDlrBoAKkABva8HuGJ+SzEpV1Uw==\" media=\"all\" rel=\"stylesheet\"/>,\n",
       " <link crossorigin=\"anonymous\" href=\"https://github.githubassets.com/assets/primer-10084108b209.css\" integrity=\"sha512-EAhBCLIJ/pXHG3Y6yQhs9s53SHV80sjJ+yCwlQtfv7LaVkD+VoEuZBZ5betQJFUNj/5qBSfZk5GFtazEDzWLAg==\" media=\"all\" rel=\"stylesheet\"/>,\n",
       " <link crossorigin=\"anonymous\" href=\"https://github.githubassets.com/assets/global-181aeb293fed.css\" integrity=\"sha512-GBrrKT/tt9A5pFmKVLCNnourKA3+WLtZiMpFPZK2gud/Tqpe0Jf/w57QKf9ITlI2jiT3bTOvbhblwLX+z9X3XA==\" media=\"all\" rel=\"stylesheet\"/>,\n",
       " <link crossorigin=\"anonymous\" href=\"https://github.githubassets.com/assets/github-4151d1bd4fa5.css\" integrity=\"sha512-QVHRvU+lsiBTT0dePas9QeGUp/AUz8nmg5MOU5vTdzbvu8eEamPp51Zk/H9qsm70vBgDWe3fXKUDoxAs3pOe0g==\" media=\"all\" rel=\"stylesheet\"/>,\n",
       " <link crossorigin=\"anonymous\" href=\"https://github.githubassets.com/assets/site-d31ea144555c.css\" integrity=\"sha512-0x6hRFVcuRNWhPqCOFtXdE2J8WRLzi92vI37R/cnbEyw1JbgRkOIZv+hoYwk1Z+BnSLOwYorhPLm6jrWoV3c7Q==\" media=\"all\" rel=\"stylesheet\"/>,\n",
       " <link crossorigin=\"anonymous\" href=\"https://github.githubassets.com/assets/explore-91bd47378abc.css\" integrity=\"sha512-kb1HN4q8/AYgCEDRBJjoppyNOFO0ZKNJCPB7KNEEVlR6e4OLAZ4K3B0+0Z7Nns+WyRmXQLhf2Ub12ZQ+wUQn+w==\" media=\"all\" rel=\"stylesheet\"/>,\n",
       " <script crossorigin=\"anonymous\" defer=\"defer\" integrity=\"sha512-gYUql3JlOo86LjmuSgD5S2dkS7d2jATYaVyGkyxQTl6B5EHpSWHW5Ugc8FYxZwLCMLOvjEgi9eIu+scu9TvFMA==\" src=\"https://github.githubassets.com/assets/runtime-81852a977265.js\" type=\"application/javascript\"></script>,\n",
       " <script crossorigin=\"anonymous\" defer=\"defer\" integrity=\"sha512-PM8ZLRUfpmVrBB5IBGPS7v8sTlrv6Q6qpwNgm+QuU3SZGtsOwREnkqfHqfcI1SsGrcObmcLMG0fWSRJvlLJsBQ==\" src=\"https://github.githubassets.com/assets/environment-3ccf192d151f.js\" type=\"application/javascript\"></script>,\n",
       " <script crossorigin=\"anonymous\" defer=\"defer\" integrity=\"sha512-io+1MvgXPXTw8Kp4eOdNMJl8uGASuw8VfTY5VeIFETaAknimWi8GoxggMEeQ6mq0de4Dest4iIJ/9gUbCo0hgw==\" src=\"https://github.githubassets.com/assets/vendors-node_modules_selector-observer_dist_index_esm_js-8a8fb532f817.js\" type=\"application/javascript\"></script>,\n",
       " <script crossorigin=\"anonymous\" defer=\"defer\" integrity=\"sha512-Es25N4GyPa8Yfp5wpahoe5b2fyPtkRMyR6mKIXyCJC0ocqQazeWvxhGZhx3StRxOfqDfHDR5SS35u/R3Wux6Cg==\" src=\"https://github.githubassets.com/assets/vendors-node_modules_delegated-events_dist_index_js-node_modules_github_details-dialog-elemen-63debe-12cdb93781b2.js\" type=\"application/javascript\"></script>,\n",
       " <script crossorigin=\"anonymous\" defer=\"defer\" integrity=\"sha512-lmiecOIgf+hakg5oKMNM7grVhEDyPoIrT39Px448JJH5PSAaK21PH0Twgyz5O5oi8+dnlLr3Jt8bBCtAcpNdRw==\" src=\"https://github.githubassets.com/assets/vendors-node_modules_github_filter-input-element_dist_index_js-node_modules_github_remote-inp-c7e9ed-96689e70e220.js\" type=\"application/javascript\"></script>,\n",
       " <script crossorigin=\"anonymous\" defer=\"defer\" integrity=\"sha512-y67eNkVaNK4RguUGcHOvIbHFlgf1Qje+LDdjVw2eFuuvBOqta2GePz/CwoLIR/PJhhRAj5RPGxCWoomnimSw6w==\" src=\"https://github.githubassets.com/assets/vendors-node_modules_github_catalyst_lib_index_js-node_modules_github_time-elements_dist_index_js-cbaede36455a.js\" type=\"application/javascript\"></script>,\n",
       " <script crossorigin=\"anonymous\" defer=\"defer\" integrity=\"sha512-DE9GK/TS3Hf/dJfP1GMiyjvsGRnpR4A1eGH64s0Ot7Vy7Tj7/aD1d5EOMWHFWQXlXy/ZSwu5MHInG6RZN31bMA==\" src=\"https://github.githubassets.com/assets/vendors-node_modules_github_file-attachment-element_dist_index_js-node_modules_primer_view-co-52e104-0c4f462bf4d2.js\" type=\"application/javascript\"></script>,\n",
       " <script crossorigin=\"anonymous\" defer=\"defer\" integrity=\"sha512-i0Ha1jdl+Ze1GOoj8XJ4FmsHvIvxukCOi0Om2NK2574NSfisYFHJTigepoBa0Ft+u1d2T9Lc3C60Pn9ma+gAng==\" src=\"https://github.githubassets.com/assets/github-elements-8b41dad63765.js\" type=\"application/javascript\"></script>,\n",
       " <script crossorigin=\"anonymous\" defer=\"defer\" integrity=\"sha512-WuNKYWBvlhp4UyBN3XBD+FXQ2rLTQa11KWVz1oSnQwBim+Bd53Ue6NJZKkvzDOyak32JBUI7PSwqbiKNiiequQ==\" src=\"https://github.githubassets.com/assets/element-registry-5ae34a61606f.js\" type=\"application/javascript\"></script>,\n",
       " <script crossorigin=\"anonymous\" defer=\"defer\" integrity=\"sha512-uo73yUZcm4EicwjSbfxFZcKfjWniOxhLBp+q1n7IFRfutFM6/lzbQMgD0Xrxp7QD1HzqdvrV8UclPhi3mEOyzQ==\" src=\"https://github.githubassets.com/assets/vendors-node_modules_lit-html_lit-html_js-ba8ef7c9465c.js\" type=\"application/javascript\"></script>,\n",
       " <script crossorigin=\"anonymous\" defer=\"defer\" integrity=\"sha512-5XdknqL9iTuaAhbOnKJDHf+5bJReOYDwlz5p2mW+SAVfab4RN6AfIliqtPwheKld40DrhPs47We/mT5nlZq2Sg==\" src=\"https://github.githubassets.com/assets/vendors-node_modules_github_remote-form_dist_index_js-node_modules_github_catalyst_lib_index_-87b1b3-e577649ea2fd.js\" type=\"application/javascript\"></script>,\n",
       " <script crossorigin=\"anonymous\" defer=\"defer\" integrity=\"sha512-0r1nf/rfPz54kyePp4f63bcPxkFo7wyaUZJD/SwIVDK3q0WzurAK9ydOm88tzKtPJm8xWI0Vo25NyCfecwxJ9g==\" src=\"https://github.githubassets.com/assets/vendors-node_modules_github_mini-throttle_dist_index_js-node_modules_github_hotkey_dist_index-9f48bd-d2bd677ffadf.js\" type=\"application/javascript\"></script>,\n",
       " <script crossorigin=\"anonymous\" defer=\"defer\" integrity=\"sha512-VK56d0N1hPZ20mOzPoy84zlTGCjGbKKmVvfjoyDqSF+VxTD4f6X8QDs2RgG1R1cdBmsCiea+ZxP6ukV3tHlD+Q==\" src=\"https://github.githubassets.com/assets/vendors-node_modules_github_paste-markdown_dist_index_esm_js-node_modules_github_quote-select-df2537-54ae7a774375.js\" type=\"application/javascript\"></script>,\n",
       " <script crossorigin=\"anonymous\" defer=\"defer\" integrity=\"sha512-n4Tyfi5c/uwygTjsnha2QyN3+RMC8XNjYdlbvspiE6fN9tdKgsapC36CztCZX31jUoPvHY3HPpR4MaU5JZhs5Q==\" src=\"https://github.githubassets.com/assets/app_assets_modules_github_behaviors_pjax_ts-9f84f27e2e5c.js\" type=\"application/javascript\"></script>,\n",
       " <script crossorigin=\"anonymous\" defer=\"defer\" integrity=\"sha512-1VTsfTthjXvPtrjOvr3XUFjwRwpH5AloYdd7+mwF6+/CoUCyh9/ubBqMz7E7Mt87Pn2kihXHOBfRUWg1WZLkXw==\" src=\"https://github.githubassets.com/assets/app_assets_modules_github_behaviors_keyboard-shortcuts-helper_ts-app_assets_modules_github_be-af52ef-d554ec7d3b61.js\" type=\"application/javascript\"></script>,\n",
       " <script crossorigin=\"anonymous\" defer=\"defer\" integrity=\"sha512-0NikpU+gxgHVGfcMbcap8D9A8ECCSTIJI4fiNTU5mtiNTVhvVfTvLcx319I83IH6maTwF7/m8kgxcFpZh2Paxw==\" src=\"https://github.githubassets.com/assets/app_assets_modules_github_behaviors_details_ts-app_assets_modules_github_behaviors_include-fr-a5a4c7-d0d8a4a54fa0.js\" type=\"application/javascript\"></script>,\n",
       " <script crossorigin=\"anonymous\" defer=\"defer\" integrity=\"sha512-DjIAk2m3fnRtwGLuTVtNfvqAVx6ayA/NOkYx8IAw5r2msssvir2/bEEoK8pKGjCXW+UarNYn/gu68PAbdIukXA==\" src=\"https://github.githubassets.com/assets/behaviors-0e32009369b7.js\" type=\"application/javascript\"></script>,\n",
       " <script crossorigin=\"anonymous\" defer=\"defer\" integrity=\"sha512-rLnbCtiKIpRtm1jgAz913tDImW3g8G+FLRMBIMwrkZ33pO8PMzWDG4m8Zl0uIIs10hCyFr6Dc8s6VDC200S9lg==\" src=\"https://github.githubassets.com/assets/vendors-node_modules_delegated-events_dist_index_js-node_modules_github_catalyst_lib_index_js-01c6c51-acb9db0ad88a.js\" type=\"application/javascript\"></script>,\n",
       " <script crossorigin=\"anonymous\" defer=\"defer\" integrity=\"sha512-paDaHAe8uAMftTo7ooywENAI3NeRIHNk0IxXV2vJxs3L5/F7hiGDPCDCq2YWOgshQV/AyMjc4bb3TzU9o/+BWQ==\" src=\"https://github.githubassets.com/assets/notifications-global-a5a0da1c07bc.js\" type=\"application/javascript\"></script>,\n",
       " <title>Trending  developers on GitHub today · GitHub</title>,\n",
       " <meta content=\"C314:63CC:F078F4:FCB219:62B29A57\" data-pjax-transient=\"true\" name=\"request-id\"><meta content=\"9b2f7388ad5dbbdca9eb802697b5ada2439e61f2ce1052f8715779c5ad2f50c1\" data-pjax-transient=\"true\" name=\"html-safe-nonce\"/><meta content=\"eyJyZWZlcnJlciI6IiIsInJlcXVlc3RfaWQiOiJDMzE0OjYzQ0M6RjA3OEY0OkZDQjIxOTo2MkIyOUE1NyIsInZpc2l0b3JfaWQiOiI4NDU2ODM3NDE4MzI4NDMxMTkxIiwicmVnaW9uX2VkZ2UiOiJmcmEiLCJyZWdpb25fcmVuZGVyIjoiZnJhIn0=\" data-pjax-transient=\"true\" name=\"visitor-payload\"/><meta content=\"df094cec65b4c4df01bb303dbc45651a891a8a707374e341f43d212eff2b40d0\" data-pjax-transient=\"true\" name=\"visitor-hmac\"/>\n",
       " <meta content=\"\" data-pjax-transient=\"true\" name=\"github-keyboard-shortcuts\"/>\n",
       " <meta data-pjax-transient=\"\" name=\"selected-link\" value=\"trending_developers\"/>\n",
       " <meta content=\"c1kuD-K2HIVF635lypcsWPoD4kilo5-jA_wBFyT4uMY\" name=\"google-site-verification\"/>\n",
       " <meta content=\"KT5gs8h0wvaagLKAVWq8bbeNwnZZK1r1XQysX3xurLU\" name=\"google-site-verification\"/>\n",
       " <meta content=\"ZzhVyEFwb7w3e0-uOTltm8Jsck2F5StVihD0exw2fsA\" name=\"google-site-verification\"/>\n",
       " <meta content=\"GXs5KoUUkNCoaAZn7wPN-t01Pywp9M3sEjnt_3_ZWPc\" name=\"google-site-verification\"/>\n",
       " <meta content=\"https://collector.github.com/github/collect\" name=\"octolytics-url\">\n",
       " <meta content=\"\" name=\"user-login\"/>\n",
       " <meta content=\"width=device-width\" name=\"viewport\"/>\n",
       " <meta content=\"GitHub is where people build software. More than 83 million people use GitHub to discover, fork, and contribute to over 200 million projects.\" name=\"description\"/>\n",
       " <link href=\"/opensearch.xml\" rel=\"search\" title=\"GitHub\" type=\"application/opensearchdescription+xml\"/>\n",
       " <link href=\"https://github.com/fluidicon.png\" rel=\"fluid-icon\" title=\"GitHub\"/>\n",
       " <meta content=\"1401488693436528\" property=\"fb:app_id\"/>\n",
       " <meta content=\"app-id=1477376905\" name=\"apple-itunes-app\">\n",
       " <meta content=\"https://github.com\" property=\"og:url\"/>\n",
       " <meta content=\"GitHub\" property=\"og:site_name\"/>\n",
       " <meta content=\"Build software better, together\" property=\"og:title\"/>\n",
       " <meta content=\"GitHub is where people build software. More than 83 million people use GitHub to discover, fork, and contribute to over 200 million projects.\" property=\"og:description\"/>\n",
       " <meta content=\"https://github.githubassets.com/images/modules/open_graph/github-logo.png\" property=\"og:image\"/>\n",
       " <meta content=\"image/png\" property=\"og:image:type\"/>\n",
       " <meta content=\"1200\" property=\"og:image:width\"/>\n",
       " <meta content=\"1200\" property=\"og:image:height\"/>\n",
       " <meta content=\"https://github.githubassets.com/images/modules/open_graph/github-mark.png\" property=\"og:image\"/>\n",
       " <meta content=\"image/png\" property=\"og:image:type\"/>\n",
       " <meta content=\"1200\" property=\"og:image:width\"/>\n",
       " <meta content=\"620\" property=\"og:image:height\"/>\n",
       " <meta content=\"https://github.githubassets.com/images/modules/open_graph/github-octocat.png\" property=\"og:image\"/>\n",
       " <meta content=\"image/png\" property=\"og:image:type\"/>\n",
       " <meta content=\"1200\" property=\"og:image:width\"/>\n",
       " <meta content=\"620\" property=\"og:image:height\"/>\n",
       " <meta content=\"github\" property=\"twitter:site\"/>\n",
       " <meta content=\"13334762\" property=\"twitter:site:id\"/>\n",
       " <meta content=\"github\" property=\"twitter:creator\"/>\n",
       " <meta content=\"13334762\" property=\"twitter:creator:id\"/>\n",
       " <meta content=\"summary_large_image\" property=\"twitter:card\"/>\n",
       " <meta content=\"GitHub\" property=\"twitter:title\"/>\n",
       " <meta content=\"GitHub is where people build software. More than 83 million people use GitHub to discover, fork, and contribute to over 200 million projects.\" property=\"twitter:description\"/>\n",
       " <meta content=\"https://github.githubassets.com/images/modules/open_graph/github-logo.png\" property=\"twitter:image:src\"/>\n",
       " <meta content=\"1200\" property=\"twitter:image:width\"/>\n",
       " <meta content=\"1200\" property=\"twitter:image:height\"/>\n",
       " <link href=\"https://github.githubassets.com/\" rel=\"assets\"/>\n",
       " <meta content=\"github.com\" name=\"hostname\"/>\n",
       " <meta content=\"github.com\" name=\"expected-hostname\"/>\n",
       " <meta content=\"IMAGE_METRIC_TRACKING\" name=\"enabled-features\"/>\n",
       " <meta content=\"0e53093b5d9381c33ae17d40eadb26a68d0d16c854af9ed547bb25793e5daa3a\" data-turbo-track=\"reload\" http-equiv=\"x-pjax-version\"/>\n",
       " <meta content=\"485d6a5ccbb1eeae9c86b616b4870b531f6f458e8bd5c309c40280dc4f51defb\" data-turbo-track=\"reload\" http-equiv=\"x-pjax-csp-version\"/>\n",
       " <meta content=\"0399fe76ef43d6a576656b61f9f49f8de05c5937737321833433fdf4a72c48f1\" data-turbo-track=\"reload\" http-equiv=\"x-pjax-css-version\"/>\n",
       " <meta content=\"d9d0a70a90e1620c5ca5c1862b2737bd3ab59039c5e5ae67c72fea2824808f44\" data-turbo-track=\"reload\" http-equiv=\"x-pjax-js-version\"/>\n",
       " <meta content=\"no-preview\" name=\"turbo-cache-control\"/>\n",
       " <link data-pjax-transient=\"\" href=\"https://github.com/trending/developers\" rel=\"canonical\"/>\n",
       " <meta content=\"logged-out env-production page-responsive\" name=\"turbo-body-classes\"/>\n",
       " <meta content=\"https://api.github.com/_private/browser/stats\" name=\"browser-stats-url\"/>\n",
       " <meta content=\"https://api.github.com/_private/browser/errors\" name=\"browser-errors-url\"/>\n",
       " <meta content=\"https://api.github.com/_private/browser/optimizely_client/errors\" name=\"browser-optimizely-client-errors-url\"/>\n",
       " <link color=\"#000000\" href=\"https://github.githubassets.com/pinned-octocat.svg\" rel=\"mask-icon\"/>\n",
       " <link class=\"js-site-favicon\" href=\"https://github.githubassets.com/favicons/favicon.png\" rel=\"alternate icon\" type=\"image/png\"/>\n",
       " <link class=\"js-site-favicon\" href=\"https://github.githubassets.com/favicons/favicon.svg\" rel=\"icon\" type=\"image/svg+xml\"/>\n",
       " <meta content=\"#1e2327\" name=\"theme-color\"/>\n",
       " <meta content=\"light dark\" name=\"color-scheme\">\n",
       " <link crossorigin=\"use-credentials\" href=\"/manifest.json\" rel=\"manifest\"/>\n",
       " </meta></meta></meta></meta>,\n",
       " <meta content=\"9b2f7388ad5dbbdca9eb802697b5ada2439e61f2ce1052f8715779c5ad2f50c1\" data-pjax-transient=\"true\" name=\"html-safe-nonce\"/>,\n",
       " <meta content=\"eyJyZWZlcnJlciI6IiIsInJlcXVlc3RfaWQiOiJDMzE0OjYzQ0M6RjA3OEY0OkZDQjIxOTo2MkIyOUE1NyIsInZpc2l0b3JfaWQiOiI4NDU2ODM3NDE4MzI4NDMxMTkxIiwicmVnaW9uX2VkZ2UiOiJmcmEiLCJyZWdpb25fcmVuZGVyIjoiZnJhIn0=\" data-pjax-transient=\"true\" name=\"visitor-payload\"/>,\n",
       " <meta content=\"df094cec65b4c4df01bb303dbc45651a891a8a707374e341f43d212eff2b40d0\" data-pjax-transient=\"true\" name=\"visitor-hmac\"/>,\n",
       " <meta content=\"\" data-pjax-transient=\"true\" name=\"github-keyboard-shortcuts\"/>,\n",
       " <meta data-pjax-transient=\"\" name=\"selected-link\" value=\"trending_developers\"/>,\n",
       " <meta content=\"c1kuD-K2HIVF635lypcsWPoD4kilo5-jA_wBFyT4uMY\" name=\"google-site-verification\"/>,\n",
       " <meta content=\"KT5gs8h0wvaagLKAVWq8bbeNwnZZK1r1XQysX3xurLU\" name=\"google-site-verification\"/>,\n",
       " <meta content=\"ZzhVyEFwb7w3e0-uOTltm8Jsck2F5StVihD0exw2fsA\" name=\"google-site-verification\"/>,\n",
       " <meta content=\"GXs5KoUUkNCoaAZn7wPN-t01Pywp9M3sEjnt_3_ZWPc\" name=\"google-site-verification\"/>,\n",
       " <meta content=\"https://collector.github.com/github/collect\" name=\"octolytics-url\">\n",
       " <meta content=\"\" name=\"user-login\"/>\n",
       " <meta content=\"width=device-width\" name=\"viewport\"/>\n",
       " <meta content=\"GitHub is where people build software. More than 83 million people use GitHub to discover, fork, and contribute to over 200 million projects.\" name=\"description\"/>\n",
       " <link href=\"/opensearch.xml\" rel=\"search\" title=\"GitHub\" type=\"application/opensearchdescription+xml\"/>\n",
       " <link href=\"https://github.com/fluidicon.png\" rel=\"fluid-icon\" title=\"GitHub\"/>\n",
       " <meta content=\"1401488693436528\" property=\"fb:app_id\"/>\n",
       " <meta content=\"app-id=1477376905\" name=\"apple-itunes-app\">\n",
       " <meta content=\"https://github.com\" property=\"og:url\"/>\n",
       " <meta content=\"GitHub\" property=\"og:site_name\"/>\n",
       " <meta content=\"Build software better, together\" property=\"og:title\"/>\n",
       " <meta content=\"GitHub is where people build software. More than 83 million people use GitHub to discover, fork, and contribute to over 200 million projects.\" property=\"og:description\"/>\n",
       " <meta content=\"https://github.githubassets.com/images/modules/open_graph/github-logo.png\" property=\"og:image\"/>\n",
       " <meta content=\"image/png\" property=\"og:image:type\"/>\n",
       " <meta content=\"1200\" property=\"og:image:width\"/>\n",
       " <meta content=\"1200\" property=\"og:image:height\"/>\n",
       " <meta content=\"https://github.githubassets.com/images/modules/open_graph/github-mark.png\" property=\"og:image\"/>\n",
       " <meta content=\"image/png\" property=\"og:image:type\"/>\n",
       " <meta content=\"1200\" property=\"og:image:width\"/>\n",
       " <meta content=\"620\" property=\"og:image:height\"/>\n",
       " <meta content=\"https://github.githubassets.com/images/modules/open_graph/github-octocat.png\" property=\"og:image\"/>\n",
       " <meta content=\"image/png\" property=\"og:image:type\"/>\n",
       " <meta content=\"1200\" property=\"og:image:width\"/>\n",
       " <meta content=\"620\" property=\"og:image:height\"/>\n",
       " <meta content=\"github\" property=\"twitter:site\"/>\n",
       " <meta content=\"13334762\" property=\"twitter:site:id\"/>\n",
       " <meta content=\"github\" property=\"twitter:creator\"/>\n",
       " <meta content=\"13334762\" property=\"twitter:creator:id\"/>\n",
       " <meta content=\"summary_large_image\" property=\"twitter:card\"/>\n",
       " <meta content=\"GitHub\" property=\"twitter:title\"/>\n",
       " <meta content=\"GitHub is where people build software. More than 83 million people use GitHub to discover, fork, and contribute to over 200 million projects.\" property=\"twitter:description\"/>\n",
       " <meta content=\"https://github.githubassets.com/images/modules/open_graph/github-logo.png\" property=\"twitter:image:src\"/>\n",
       " <meta content=\"1200\" property=\"twitter:image:width\"/>\n",
       " <meta content=\"1200\" property=\"twitter:image:height\"/>\n",
       " <link href=\"https://github.githubassets.com/\" rel=\"assets\"/>\n",
       " <meta content=\"github.com\" name=\"hostname\"/>\n",
       " <meta content=\"github.com\" name=\"expected-hostname\"/>\n",
       " <meta content=\"IMAGE_METRIC_TRACKING\" name=\"enabled-features\"/>\n",
       " <meta content=\"0e53093b5d9381c33ae17d40eadb26a68d0d16c854af9ed547bb25793e5daa3a\" data-turbo-track=\"reload\" http-equiv=\"x-pjax-version\"/>\n",
       " <meta content=\"485d6a5ccbb1eeae9c86b616b4870b531f6f458e8bd5c309c40280dc4f51defb\" data-turbo-track=\"reload\" http-equiv=\"x-pjax-csp-version\"/>\n",
       " <meta content=\"0399fe76ef43d6a576656b61f9f49f8de05c5937737321833433fdf4a72c48f1\" data-turbo-track=\"reload\" http-equiv=\"x-pjax-css-version\"/>\n",
       " <meta content=\"d9d0a70a90e1620c5ca5c1862b2737bd3ab59039c5e5ae67c72fea2824808f44\" data-turbo-track=\"reload\" http-equiv=\"x-pjax-js-version\"/>\n",
       " <meta content=\"no-preview\" name=\"turbo-cache-control\"/>\n",
       " <link data-pjax-transient=\"\" href=\"https://github.com/trending/developers\" rel=\"canonical\"/>\n",
       " <meta content=\"logged-out env-production page-responsive\" name=\"turbo-body-classes\"/>\n",
       " <meta content=\"https://api.github.com/_private/browser/stats\" name=\"browser-stats-url\"/>\n",
       " <meta content=\"https://api.github.com/_private/browser/errors\" name=\"browser-errors-url\"/>\n",
       " <meta content=\"https://api.github.com/_private/browser/optimizely_client/errors\" name=\"browser-optimizely-client-errors-url\"/>\n",
       " <link color=\"#000000\" href=\"https://github.githubassets.com/pinned-octocat.svg\" rel=\"mask-icon\"/>\n",
       " <link class=\"js-site-favicon\" href=\"https://github.githubassets.com/favicons/favicon.png\" rel=\"alternate icon\" type=\"image/png\"/>\n",
       " <link class=\"js-site-favicon\" href=\"https://github.githubassets.com/favicons/favicon.svg\" rel=\"icon\" type=\"image/svg+xml\"/>\n",
       " <meta content=\"#1e2327\" name=\"theme-color\"/>\n",
       " <meta content=\"light dark\" name=\"color-scheme\">\n",
       " <link crossorigin=\"use-credentials\" href=\"/manifest.json\" rel=\"manifest\"/>\n",
       " </meta></meta></meta>,\n",
       " <meta content=\"\" name=\"user-login\"/>,\n",
       " <meta content=\"width=device-width\" name=\"viewport\"/>,\n",
       " <meta content=\"GitHub is where people build software. More than 83 million people use GitHub to discover, fork, and contribute to over 200 million projects.\" name=\"description\"/>,\n",
       " <link href=\"/opensearch.xml\" rel=\"search\" title=\"GitHub\" type=\"application/opensearchdescription+xml\"/>,\n",
       " <link href=\"https://github.com/fluidicon.png\" rel=\"fluid-icon\" title=\"GitHub\"/>,\n",
       " <meta content=\"1401488693436528\" property=\"fb:app_id\"/>,\n",
       " <meta content=\"app-id=1477376905\" name=\"apple-itunes-app\">\n",
       " <meta content=\"https://github.com\" property=\"og:url\"/>\n",
       " <meta content=\"GitHub\" property=\"og:site_name\"/>\n",
       " <meta content=\"Build software better, together\" property=\"og:title\"/>\n",
       " <meta content=\"GitHub is where people build software. More than 83 million people use GitHub to discover, fork, and contribute to over 200 million projects.\" property=\"og:description\"/>\n",
       " <meta content=\"https://github.githubassets.com/images/modules/open_graph/github-logo.png\" property=\"og:image\"/>\n",
       " <meta content=\"image/png\" property=\"og:image:type\"/>\n",
       " <meta content=\"1200\" property=\"og:image:width\"/>\n",
       " <meta content=\"1200\" property=\"og:image:height\"/>\n",
       " <meta content=\"https://github.githubassets.com/images/modules/open_graph/github-mark.png\" property=\"og:image\"/>\n",
       " <meta content=\"image/png\" property=\"og:image:type\"/>\n",
       " <meta content=\"1200\" property=\"og:image:width\"/>\n",
       " <meta content=\"620\" property=\"og:image:height\"/>\n",
       " <meta content=\"https://github.githubassets.com/images/modules/open_graph/github-octocat.png\" property=\"og:image\"/>\n",
       " <meta content=\"image/png\" property=\"og:image:type\"/>\n",
       " <meta content=\"1200\" property=\"og:image:width\"/>\n",
       " <meta content=\"620\" property=\"og:image:height\"/>\n",
       " <meta content=\"github\" property=\"twitter:site\"/>\n",
       " <meta content=\"13334762\" property=\"twitter:site:id\"/>\n",
       " <meta content=\"github\" property=\"twitter:creator\"/>\n",
       " <meta content=\"13334762\" property=\"twitter:creator:id\"/>\n",
       " <meta content=\"summary_large_image\" property=\"twitter:card\"/>\n",
       " <meta content=\"GitHub\" property=\"twitter:title\"/>\n",
       " <meta content=\"GitHub is where people build software. More than 83 million people use GitHub to discover, fork, and contribute to over 200 million projects.\" property=\"twitter:description\"/>\n",
       " <meta content=\"https://github.githubassets.com/images/modules/open_graph/github-logo.png\" property=\"twitter:image:src\"/>\n",
       " <meta content=\"1200\" property=\"twitter:image:width\"/>\n",
       " <meta content=\"1200\" property=\"twitter:image:height\"/>\n",
       " <link href=\"https://github.githubassets.com/\" rel=\"assets\"/>\n",
       " <meta content=\"github.com\" name=\"hostname\"/>\n",
       " <meta content=\"github.com\" name=\"expected-hostname\"/>\n",
       " <meta content=\"IMAGE_METRIC_TRACKING\" name=\"enabled-features\"/>\n",
       " <meta content=\"0e53093b5d9381c33ae17d40eadb26a68d0d16c854af9ed547bb25793e5daa3a\" data-turbo-track=\"reload\" http-equiv=\"x-pjax-version\"/>\n",
       " <meta content=\"485d6a5ccbb1eeae9c86b616b4870b531f6f458e8bd5c309c40280dc4f51defb\" data-turbo-track=\"reload\" http-equiv=\"x-pjax-csp-version\"/>\n",
       " <meta content=\"0399fe76ef43d6a576656b61f9f49f8de05c5937737321833433fdf4a72c48f1\" data-turbo-track=\"reload\" http-equiv=\"x-pjax-css-version\"/>\n",
       " <meta content=\"d9d0a70a90e1620c5ca5c1862b2737bd3ab59039c5e5ae67c72fea2824808f44\" data-turbo-track=\"reload\" http-equiv=\"x-pjax-js-version\"/>\n",
       " <meta content=\"no-preview\" name=\"turbo-cache-control\"/>\n",
       " <link data-pjax-transient=\"\" href=\"https://github.com/trending/developers\" rel=\"canonical\"/>\n",
       " <meta content=\"logged-out env-production page-responsive\" name=\"turbo-body-classes\"/>\n",
       " <meta content=\"https://api.github.com/_private/browser/stats\" name=\"browser-stats-url\"/>\n",
       " <meta content=\"https://api.github.com/_private/browser/errors\" name=\"browser-errors-url\"/>\n",
       " <meta content=\"https://api.github.com/_private/browser/optimizely_client/errors\" name=\"browser-optimizely-client-errors-url\"/>\n",
       " <link color=\"#000000\" href=\"https://github.githubassets.com/pinned-octocat.svg\" rel=\"mask-icon\"/>\n",
       " <link class=\"js-site-favicon\" href=\"https://github.githubassets.com/favicons/favicon.png\" rel=\"alternate icon\" type=\"image/png\"/>\n",
       " <link class=\"js-site-favicon\" href=\"https://github.githubassets.com/favicons/favicon.svg\" rel=\"icon\" type=\"image/svg+xml\"/>\n",
       " <meta content=\"#1e2327\" name=\"theme-color\"/>\n",
       " <meta content=\"light dark\" name=\"color-scheme\">\n",
       " <link crossorigin=\"use-credentials\" href=\"/manifest.json\" rel=\"manifest\"/>\n",
       " </meta></meta>,\n",
       " <meta content=\"https://github.com\" property=\"og:url\"/>,\n",
       " <meta content=\"GitHub\" property=\"og:site_name\"/>,\n",
       " <meta content=\"Build software better, together\" property=\"og:title\"/>,\n",
       " <meta content=\"GitHub is where people build software. More than 83 million people use GitHub to discover, fork, and contribute to over 200 million projects.\" property=\"og:description\"/>,\n",
       " <meta content=\"https://github.githubassets.com/images/modules/open_graph/github-logo.png\" property=\"og:image\"/>,\n",
       " <meta content=\"image/png\" property=\"og:image:type\"/>,\n",
       " <meta content=\"1200\" property=\"og:image:width\"/>,\n",
       " <meta content=\"1200\" property=\"og:image:height\"/>,\n",
       " <meta content=\"https://github.githubassets.com/images/modules/open_graph/github-mark.png\" property=\"og:image\"/>,\n",
       " <meta content=\"image/png\" property=\"og:image:type\"/>,\n",
       " <meta content=\"1200\" property=\"og:image:width\"/>,\n",
       " <meta content=\"620\" property=\"og:image:height\"/>,\n",
       " <meta content=\"https://github.githubassets.com/images/modules/open_graph/github-octocat.png\" property=\"og:image\"/>,\n",
       " <meta content=\"image/png\" property=\"og:image:type\"/>,\n",
       " <meta content=\"1200\" property=\"og:image:width\"/>,\n",
       " <meta content=\"620\" property=\"og:image:height\"/>,\n",
       " <meta content=\"github\" property=\"twitter:site\"/>,\n",
       " <meta content=\"13334762\" property=\"twitter:site:id\"/>,\n",
       " <meta content=\"github\" property=\"twitter:creator\"/>,\n",
       " <meta content=\"13334762\" property=\"twitter:creator:id\"/>,\n",
       " <meta content=\"summary_large_image\" property=\"twitter:card\"/>,\n",
       " <meta content=\"GitHub\" property=\"twitter:title\"/>,\n",
       " <meta content=\"GitHub is where people build software. More than 83 million people use GitHub to discover, fork, and contribute to over 200 million projects.\" property=\"twitter:description\"/>,\n",
       " <meta content=\"https://github.githubassets.com/images/modules/open_graph/github-logo.png\" property=\"twitter:image:src\"/>,\n",
       " <meta content=\"1200\" property=\"twitter:image:width\"/>,\n",
       " <meta content=\"1200\" property=\"twitter:image:height\"/>,\n",
       " <link href=\"https://github.githubassets.com/\" rel=\"assets\"/>,\n",
       " <meta content=\"github.com\" name=\"hostname\"/>,\n",
       " <meta content=\"github.com\" name=\"expected-hostname\"/>,\n",
       " <meta content=\"IMAGE_METRIC_TRACKING\" name=\"enabled-features\"/>,\n",
       " <meta content=\"0e53093b5d9381c33ae17d40eadb26a68d0d16c854af9ed547bb25793e5daa3a\" data-turbo-track=\"reload\" http-equiv=\"x-pjax-version\"/>,\n",
       " <meta content=\"485d6a5ccbb1eeae9c86b616b4870b531f6f458e8bd5c309c40280dc4f51defb\" data-turbo-track=\"reload\" http-equiv=\"x-pjax-csp-version\"/>,\n",
       " <meta content=\"0399fe76ef43d6a576656b61f9f49f8de05c5937737321833433fdf4a72c48f1\" data-turbo-track=\"reload\" http-equiv=\"x-pjax-css-version\"/>,\n",
       " <meta content=\"d9d0a70a90e1620c5ca5c1862b2737bd3ab59039c5e5ae67c72fea2824808f44\" data-turbo-track=\"reload\" http-equiv=\"x-pjax-js-version\"/>,\n",
       " <meta content=\"no-preview\" name=\"turbo-cache-control\"/>,\n",
       " <link data-pjax-transient=\"\" href=\"https://github.com/trending/developers\" rel=\"canonical\"/>,\n",
       " <meta content=\"logged-out env-production page-responsive\" name=\"turbo-body-classes\"/>,\n",
       " <meta content=\"https://api.github.com/_private/browser/stats\" name=\"browser-stats-url\"/>,\n",
       " <meta content=\"https://api.github.com/_private/browser/errors\" name=\"browser-errors-url\"/>,\n",
       " <meta content=\"https://api.github.com/_private/browser/optimizely_client/errors\" name=\"browser-optimizely-client-errors-url\"/>,\n",
       " <link color=\"#000000\" href=\"https://github.githubassets.com/pinned-octocat.svg\" rel=\"mask-icon\"/>,\n",
       " <link class=\"js-site-favicon\" href=\"https://github.githubassets.com/favicons/favicon.png\" rel=\"alternate icon\" type=\"image/png\"/>,\n",
       " <link class=\"js-site-favicon\" href=\"https://github.githubassets.com/favicons/favicon.svg\" rel=\"icon\" type=\"image/svg+xml\"/>,\n",
       " <meta content=\"#1e2327\" name=\"theme-color\"/>,\n",
       " <meta content=\"light dark\" name=\"color-scheme\">\n",
       " <link crossorigin=\"use-credentials\" href=\"/manifest.json\" rel=\"manifest\"/>\n",
       " </meta>,\n",
       " <link crossorigin=\"use-credentials\" href=\"/manifest.json\" rel=\"manifest\"/>]"
      ]
     },
     "execution_count": 4,
     "metadata": {},
     "output_type": "execute_result"
    }
   ],
   "source": [
    "soup=bs(trending_developer, 'html.parser')\n",
    "\n",
    "soup.head()"
   ]
  },
  {
   "cell_type": "markdown",
   "metadata": {},
   "source": [
    "#### Display the names of the trending developers retrieved in the previous step.\n",
    "\n",
    "Your output should be a Python list of developer names. Each name should not contain any html tag.\n",
    "\n",
    "**Instructions:**\n",
    "\n",
    "1. Find out the html tag and class names used for the developer names. You can achieve this using Chrome DevTools.\n",
    "\n",
    "1. Use BeautifulSoup to extract all the html elements that contain the developer names.\n",
    "\n",
    "1. Use string manipulation techniques to replace whitespaces and linebreaks (i.e. `\\n`) in the *text* of each html element. Use a list to store the clean names.\n",
    "\n",
    "1. Print the list of names.\n",
    "\n",
    "Your output should look like below:\n",
    "\n",
    "```\n",
    "['trimstray (@trimstray)',\n",
    " 'joewalnes (JoeWalnes)',\n",
    " 'charlax (Charles-AxelDein)',\n",
    " 'ForrestKnight (ForrestKnight)',\n",
    " 'revery-ui (revery-ui)',\n",
    " 'alibaba (Alibaba)',\n",
    " 'Microsoft (Microsoft)',\n",
    " 'github (GitHub)',\n",
    " 'facebook (Facebook)',\n",
    " 'boazsegev (Bo)',\n",
    " 'google (Google)',\n",
    " 'cloudfetch',\n",
    " 'sindresorhus (SindreSorhus)',\n",
    " 'tensorflow',\n",
    " 'apache (TheApacheSoftwareFoundation)',\n",
    " 'DevonCrawford (DevonCrawford)',\n",
    " 'ARMmbed (ArmMbed)',\n",
    " 'vuejs (vuejs)',\n",
    " 'fastai (fast.ai)',\n",
    " 'QiShaoXuan (Qi)',\n",
    " 'joelparkerhenderson (JoelParkerHenderson)',\n",
    " 'torvalds (LinusTorvalds)',\n",
    " 'CyC2018',\n",
    " 'komeiji-satori (神楽坂覚々)',\n",
    " 'script-8']\n",
    " ```"
   ]
  },
  {
   "cell_type": "code",
   "execution_count": 5,
   "metadata": {},
   "outputs": [
    {
     "data": {
      "text/plain": [
       "['Stephen Celis', 'stephencelis']"
      ]
     },
     "execution_count": 5,
     "metadata": {},
     "output_type": "execute_result"
    }
   ],
   "source": [
    "tabla= soup.find('div', {'class' :'col-md-6'})\n",
    "tabla1= [tabla.find_all('h1', {'class':'h3 lh-condensed'})[0].text.strip(),tabla.find_all('p', {'class':'f4 text-normal mb-1'})[0].text.strip()]\n",
    "tabla1"
   ]
  },
  {
   "cell_type": "code",
   "execution_count": 9,
   "metadata": {},
   "outputs": [
    {
     "data": {
      "text/plain": [
       "['Stephen Celis',\n",
       " 'Matthias Fey',\n",
       " 'Earle F. Philhower, III',\n",
       " 'Diego Muracciole',\n",
       " 'Ryan Bates',\n",
       " 'Jaco',\n",
       " 'Jonny Borges',\n",
       " 'David Sherret',\n",
       " 'mborgerson',\n",
       " 'Manuel Kaufmann',\n",
       " 'Mark Baker',\n",
       " 'Teppei Fukuda',\n",
       " 'Casey Rodarmor',\n",
       " 'Milad akarie',\n",
       " 'Hung Viet Nguyen',\n",
       " 'Matt Carroll',\n",
       " 'Artur Arseniev',\n",
       " 'Alexander Veysov',\n",
       " 'Hari Sekhon',\n",
       " 'MinJae Kwon',\n",
       " 'ChristopherHX',\n",
       " 'Zhenëk',\n",
       " 'Andrew Gallant',\n",
       " 'Florian Rival',\n",
       " 'daquexian']"
      ]
     },
     "execution_count": 9,
     "metadata": {},
     "output_type": "execute_result"
    }
   ],
   "source": [
    "list1 = []\n",
    "list2 = []\n",
    "\n",
    "for table in soup.find_all('div', class_='col-md-6'):\n",
    "    for x in table.find_all('h1',{'class':'h3 lh-condensed'}):\n",
    "        list1.append(x.text.strip())\n",
    "        \n",
    "list1"
   ]
  },
  {
   "cell_type": "code",
   "execution_count": 10,
   "metadata": {},
   "outputs": [
    {
     "data": {
      "text/plain": [
       "['stephencelis',\n",
       " 'rusty1s',\n",
       " 'earlephilhower',\n",
       " 'diegomura',\n",
       " 'ryanb',\n",
       " 'jacogr',\n",
       " 'jonataslaw',\n",
       " 'dsherret',\n",
       " 'humitos',\n",
       " 'MarkBaker',\n",
       " 'knqyf263',\n",
       " 'casey',\n",
       " 'Milad-Akarie',\n",
       " 'nvh95',\n",
       " 'matthew-carroll',\n",
       " 'artf',\n",
       " 'snakers4',\n",
       " 'HariSekhon',\n",
       " 'mingrammer',\n",
       " 'Ebazhanov',\n",
       " 'BurntSushi',\n",
       " '4ian',\n",
       " 'daquexian']"
      ]
     },
     "execution_count": 10,
     "metadata": {},
     "output_type": "execute_result"
    }
   ],
   "source": [
    "for table in soup.find_all('div', class_='col-md-6'):\n",
    "    for x in table.find_all('p',{'class':'f4 text-normal mb-1'}):\n",
    "        list2.append(x.text.strip())\n",
    "        \n",
    "list2"
   ]
  },
  {
   "cell_type": "code",
   "execution_count": 11,
   "metadata": {},
   "outputs": [
    {
     "data": {
      "text/plain": [
       "[['Stephen Celis', 'stephencelis'],\n",
       " ['Matthias Fey', 'rusty1s'],\n",
       " ['Earle F. Philhower, III', 'earlephilhower'],\n",
       " ['Diego Muracciole', 'diegomura'],\n",
       " ['Ryan Bates', 'ryanb'],\n",
       " ['Jaco', 'jacogr'],\n",
       " ['Jonny Borges', 'jonataslaw'],\n",
       " ['David Sherret', 'dsherret'],\n",
       " ['mborgerson', 'humitos'],\n",
       " ['Manuel Kaufmann', 'MarkBaker'],\n",
       " ['Mark Baker', 'knqyf263'],\n",
       " ['Teppei Fukuda', 'casey'],\n",
       " ['Casey Rodarmor', 'Milad-Akarie'],\n",
       " ['Milad akarie', 'nvh95'],\n",
       " ['Hung Viet Nguyen', 'matthew-carroll'],\n",
       " ['Matt Carroll', 'artf'],\n",
       " ['Artur Arseniev', 'snakers4'],\n",
       " ['Alexander Veysov', 'HariSekhon'],\n",
       " ['Hari Sekhon', 'mingrammer'],\n",
       " ['MinJae Kwon', 'Ebazhanov'],\n",
       " ['ChristopherHX', 'BurntSushi'],\n",
       " ['Zhenëk', '4ian'],\n",
       " ['Andrew Gallant', 'daquexian']]"
      ]
     },
     "execution_count": 11,
     "metadata": {},
     "output_type": "execute_result"
    }
   ],
   "source": [
    "concat=[list(x) for x in zip(list1,list2)]\n",
    "concat"
   ]
  },
  {
   "cell_type": "markdown",
   "metadata": {},
   "source": [
    "#### Display the trending Python repositories in GitHub\n",
    "\n",
    "The steps to solve this problem is similar to the previous one except that you need to find out the repository names instead of developer names."
   ]
  },
  {
   "cell_type": "code",
   "execution_count": 14,
   "metadata": {},
   "outputs": [],
   "source": [
    "# This is the url you will scrape in this exercise\n",
    "url1 = 'https://github.com/trending/python?since=daily'"
   ]
  },
  {
   "cell_type": "code",
   "execution_count": 15,
   "metadata": {},
   "outputs": [],
   "source": [
    "names= req.get(url1).content   \n",
    "\n",
    "soup2= bs(names, 'html.parser') "
   ]
  },
  {
   "cell_type": "code",
   "execution_count": 16,
   "metadata": {},
   "outputs": [
    {
     "data": {
      "text/plain": [
       "<article class=\"Box-row\">\n",
       "<div class=\"float-right d-flex\">\n",
       "<div class=\"BtnGroup d-flex\" data-view-component=\"true\">\n",
       "<a aria-label=\"You must be signed in to star a repository\" class=\"tooltipped tooltipped-s btn-sm btn BtnGroup-item\" data-hydro-click='{\"event_type\":\"authentication.click\",\"payload\":{\"location_in_page\":\"star button\",\"repository_id\":483289068,\"auth_type\":\"LOG_IN\",\"originating_url\":\"https://github.com/trending/python?since=daily\",\"user_id\":null}}' data-hydro-click-hmac=\"800c40ca738e6b5dd638d53ef6cbd61c137b82c6a151f866529fa37da0c28032\" data-view-component=\"true\" href=\"/login?return_to=%2Fkraanzu%2Fdooit\" rel=\"nofollow\"> <svg aria-hidden=\"true\" class=\"octicon octicon-star v-align-text-bottom d-none d-md-inline-block mr-2\" data-view-component=\"true\" height=\"16\" version=\"1.1\" viewbox=\"0 0 16 16\" width=\"16\">\n",
       "<path d=\"M8 .25a.75.75 0 01.673.418l1.882 3.815 4.21.612a.75.75 0 01.416 1.279l-3.046 2.97.719 4.192a.75.75 0 01-1.088.791L8 12.347l-3.766 1.98a.75.75 0 01-1.088-.79l.72-4.194L.818 6.374a.75.75 0 01.416-1.28l4.21-.611L7.327.668A.75.75 0 018 .25zm0 2.445L6.615 5.5a.75.75 0 01-.564.41l-3.097.45 2.24 2.184a.75.75 0 01.216.664l-.528 3.084 2.769-1.456a.75.75 0 01.698 0l2.77 1.456-.53-3.084a.75.75 0 01.216-.664l2.24-2.183-3.096-.45a.75.75 0 01-.564-.41L8 2.694v.001z\" fill-rule=\"evenodd\"></path>\n",
       "</svg><svg aria-hidden=\"true\" class=\"octicon octicon-star mr-0 v-align-text-bottom d-inline-block d-md-none\" data-view-component=\"true\" height=\"16\" version=\"1.1\" viewbox=\"0 0 16 16\" width=\"16\">\n",
       "<path d=\"M8 .25a.75.75 0 01.673.418l1.882 3.815 4.21.612a.75.75 0 01.416 1.279l-3.046 2.97.719 4.192a.75.75 0 01-1.088.791L8 12.347l-3.766 1.98a.75.75 0 01-1.088-.79l.72-4.194L.818 6.374a.75.75 0 01.416-1.28l4.21-.611L7.327.668A.75.75 0 018 .25zm0 2.445L6.615 5.5a.75.75 0 01-.564.41l-3.097.45 2.24 2.184a.75.75 0 01.216.664l-.528 3.084 2.769-1.456a.75.75 0 01.698 0l2.77 1.456-.53-3.084a.75.75 0 01.216-.664l2.24-2.183-3.096-.45a.75.75 0 01-.564-.41L8 2.694v.001z\" fill-rule=\"evenodd\"></path>\n",
       "</svg>\n",
       "<span class=\"d-none d-md-inline\" data-view-component=\"true\">\n",
       "          Star\n",
       "</span>\n",
       "</a> <button aria-label=\"You must be signed in to add this repository to a list\" class=\"btn-sm btn BtnGroup-item px-2\" data-view-component=\"true\" disabled=\"disabled\" type=\"button\"> <svg aria-hidden=\"true\" class=\"octicon octicon-triangle-down\" data-view-component=\"true\" height=\"16\" version=\"1.1\" viewbox=\"0 0 16 16\" width=\"16\">\n",
       "<path d=\"M4.427 7.427l3.396 3.396a.25.25 0 00.354 0l3.396-3.396A.25.25 0 0011.396 7H4.604a.25.25 0 00-.177.427z\"></path>\n",
       "</svg>\n",
       "</button></div>\n",
       "</div>\n",
       "<h1 class=\"h3 lh-condensed\">\n",
       "<a data-hydro-click='{\"event_type\":\"explore.click\",\"payload\":{\"click_context\":\"TRENDING_REPOSITORIES_PAGE\",\"click_target\":\"REPOSITORY\",\"click_visual_representation\":\"REPOSITORY_NAME_HEADING\",\"actor_id\":null,\"record_id\":483289068,\"originating_url\":\"https://github.com/trending/python?since=daily\",\"user_id\":null}}' data-hydro-click-hmac=\"ee4a00b54d824cd12c369c6cd3de3400c7470ec8732c93ed27a01241291a02db\" data-view-component=\"true\" href=\"/kraanzu/dooit\">\n",
       "<svg aria-hidden=\"true\" class=\"octicon octicon-repo mr-1 color-fg-muted\" data-view-component=\"true\" height=\"16\" version=\"1.1\" viewbox=\"0 0 16 16\" width=\"16\">\n",
       "<path d=\"M2 2.5A2.5 2.5 0 014.5 0h8.75a.75.75 0 01.75.75v12.5a.75.75 0 01-.75.75h-2.5a.75.75 0 110-1.5h1.75v-2h-8a1 1 0 00-.714 1.7.75.75 0 01-1.072 1.05A2.495 2.495 0 012 11.5v-9zm10.5-1V9h-8c-.356 0-.694.074-1 .208V2.5a1 1 0 011-1h8zM5 12.25v3.25a.25.25 0 00.4.2l1.45-1.087a.25.25 0 01.3 0L8.6 15.7a.25.25 0 00.4-.2v-3.25a.25.25 0 00-.25-.25h-3.5a.25.25 0 00-.25.25z\" fill-rule=\"evenodd\"></path>\n",
       "</svg>\n",
       "<span class=\"text-normal\" data-view-component=\"true\">\n",
       "        kraanzu /\n",
       "</span>\n",
       "      dooit\n",
       "</a> </h1>\n",
       "<p class=\"col-9 color-fg-muted my-1 pr-4\">\n",
       "      A TUI todo manager\n",
       "    </p>\n",
       "<div class=\"f6 color-fg-muted mt-2\">\n",
       "<span class=\"d-inline-block ml-0 mr-3\">\n",
       "<span class=\"repo-language-color\" style=\"background-color: #3572A5\"></span>\n",
       "<span itemprop=\"programmingLanguage\">Python</span>\n",
       "</span>\n",
       "<a class=\"Link--muted d-inline-block mr-3\" data-view-component=\"true\" href=\"/kraanzu/dooit/stargazers\">\n",
       "<svg aria-label=\"star\" class=\"octicon octicon-star\" data-view-component=\"true\" height=\"16\" role=\"img\" version=\"1.1\" viewbox=\"0 0 16 16\" width=\"16\">\n",
       "<path d=\"M8 .25a.75.75 0 01.673.418l1.882 3.815 4.21.612a.75.75 0 01.416 1.279l-3.046 2.97.719 4.192a.75.75 0 01-1.088.791L8 12.347l-3.766 1.98a.75.75 0 01-1.088-.79l.72-4.194L.818 6.374a.75.75 0 01.416-1.28l4.21-.611L7.327.668A.75.75 0 018 .25zm0 2.445L6.615 5.5a.75.75 0 01-.564.41l-3.097.45 2.24 2.184a.75.75 0 01.216.664l-.528 3.084 2.769-1.456a.75.75 0 01.698 0l2.77 1.456-.53-3.084a.75.75 0 01.216-.664l2.24-2.183-3.096-.45a.75.75 0 01-.564-.41L8 2.694v.001z\" fill-rule=\"evenodd\"></path>\n",
       "</svg>\n",
       "        678\n",
       "</a>\n",
       "<a class=\"Link--muted d-inline-block mr-3\" data-view-component=\"true\" href=\"/kraanzu/dooit/network/members.dooit\">\n",
       "<svg aria-label=\"fork\" class=\"octicon octicon-repo-forked\" data-view-component=\"true\" height=\"16\" role=\"img\" version=\"1.1\" viewbox=\"0 0 16 16\" width=\"16\">\n",
       "<path d=\"M5 3.25a.75.75 0 11-1.5 0 .75.75 0 011.5 0zm0 2.122a2.25 2.25 0 10-1.5 0v.878A2.25 2.25 0 005.75 8.5h1.5v2.128a2.251 2.251 0 101.5 0V8.5h1.5a2.25 2.25 0 002.25-2.25v-.878a2.25 2.25 0 10-1.5 0v.878a.75.75 0 01-.75.75h-4.5A.75.75 0 015 6.25v-.878zm3.75 7.378a.75.75 0 11-1.5 0 .75.75 0 011.5 0zm3-8.75a.75.75 0 100-1.5.75.75 0 000 1.5z\" fill-rule=\"evenodd\"></path>\n",
       "</svg>\n",
       "        31\n",
       "</a>\n",
       "<span class=\"d-inline-block mr-3\" data-view-component=\"true\">\n",
       "        Built by\n",
       "\n",
       "          <a class=\"d-inline-block\" data-hovercard-type=\"user\" data-hovercard-url=\"/users/kraanzu/hovercard\" data-hydro-click='{\"event_type\":\"explore.click\",\"payload\":{\"click_context\":\"TRENDING_REPOSITORIES_PAGE\",\"click_target\":\"CONTRIBUTING_DEVELOPER\",\"click_visual_representation\":\"DEVELOPER_AVATAR\",\"actor_id\":null,\"record_id\":null,\"originating_url\":\"https://github.com/trending\",\"user_id\":107940403}}' data-hydro-click-hmac=\"e25ebdbc77add8def1fbb3074e2f6829c3d16070e9eedae240a2d869ec543890\" data-octo-click=\"hovercard-link-click\" data-octo-dimensions=\"link_type:self\" href=\"/kraanzu\"><img alt=\"@kraanzu\" class=\"avatar mb-1 avatar-user\" height=\"20\" src=\"https://avatars.githubusercontent.com/u/97718086?s=40&amp;v=4\" width=\"20\"/></a>\n",
       "<a class=\"d-inline-block\" data-hovercard-type=\"user\" data-hovercard-url=\"/users/CobSammich/hovercard\" data-hydro-click='{\"event_type\":\"explore.click\",\"payload\":{\"click_context\":\"TRENDING_REPOSITORIES_PAGE\",\"click_target\":\"CONTRIBUTING_DEVELOPER\",\"click_visual_representation\":\"DEVELOPER_AVATAR\",\"actor_id\":null,\"record_id\":null,\"originating_url\":\"https://github.com/trending\",\"user_id\":107940403}}' data-hydro-click-hmac=\"e25ebdbc77add8def1fbb3074e2f6829c3d16070e9eedae240a2d869ec543890\" data-octo-click=\"hovercard-link-click\" data-octo-dimensions=\"link_type:self\" href=\"/CobSammich\"><img alt=\"@CobSammich\" class=\"avatar mb-1 avatar-user\" height=\"20\" src=\"https://avatars.githubusercontent.com/u/73327265?s=40&amp;v=4\" width=\"20\"/></a>\n",
       "<a class=\"d-inline-block\" data-hovercard-type=\"user\" data-hovercard-url=\"/users/XPhyro/hovercard\" data-hydro-click='{\"event_type\":\"explore.click\",\"payload\":{\"click_context\":\"TRENDING_REPOSITORIES_PAGE\",\"click_target\":\"CONTRIBUTING_DEVELOPER\",\"click_visual_representation\":\"DEVELOPER_AVATAR\",\"actor_id\":null,\"record_id\":null,\"originating_url\":\"https://github.com/trending\",\"user_id\":107940403}}' data-hydro-click-hmac=\"e25ebdbc77add8def1fbb3074e2f6829c3d16070e9eedae240a2d869ec543890\" data-octo-click=\"hovercard-link-click\" data-octo-dimensions=\"link_type:self\" href=\"/XPhyro\"><img alt=\"@XPhyro\" class=\"avatar mb-1 avatar-user\" height=\"20\" src=\"https://avatars.githubusercontent.com/u/10392678?s=40&amp;v=4\" width=\"20\"/></a>\n",
       "<a class=\"d-inline-block\" data-hovercard-type=\"user\" data-hovercard-url=\"/users/Dale-Muccignat/hovercard\" data-hydro-click='{\"event_type\":\"explore.click\",\"payload\":{\"click_context\":\"TRENDING_REPOSITORIES_PAGE\",\"click_target\":\"CONTRIBUTING_DEVELOPER\",\"click_visual_representation\":\"DEVELOPER_AVATAR\",\"actor_id\":null,\"record_id\":null,\"originating_url\":\"https://github.com/trending\",\"user_id\":107940403}}' data-hydro-click-hmac=\"e25ebdbc77add8def1fbb3074e2f6829c3d16070e9eedae240a2d869ec543890\" data-octo-click=\"hovercard-link-click\" data-octo-dimensions=\"link_type:self\" href=\"/Dale-Muccignat\"><img alt=\"@Dale-Muccignat\" class=\"avatar mb-1 avatar-user\" height=\"20\" src=\"https://avatars.githubusercontent.com/u/14990150?s=40&amp;v=4\" width=\"20\"/></a>\n",
       "</span>\n",
       "<span class=\"d-inline-block float-sm-right\" data-view-component=\"true\">\n",
       "<svg aria-hidden=\"true\" class=\"octicon octicon-star\" data-view-component=\"true\" height=\"16\" version=\"1.1\" viewbox=\"0 0 16 16\" width=\"16\">\n",
       "<path d=\"M8 .25a.75.75 0 01.673.418l1.882 3.815 4.21.612a.75.75 0 01.416 1.279l-3.046 2.97.719 4.192a.75.75 0 01-1.088.791L8 12.347l-3.766 1.98a.75.75 0 01-1.088-.79l.72-4.194L.818 6.374a.75.75 0 01.416-1.28l4.21-.611L7.327.668A.75.75 0 018 .25zm0 2.445L6.615 5.5a.75.75 0 01-.564.41l-3.097.45 2.24 2.184a.75.75 0 01.216.664l-.528 3.084 2.769-1.456a.75.75 0 01.698 0l2.77 1.456-.53-3.084a.75.75 0 01.216-.664l2.24-2.183-3.096-.45a.75.75 0 01-.564-.41L8 2.694v.001z\" fill-rule=\"evenodd\"></path>\n",
       "</svg>\n",
       "        198 stars today\n",
       "</span> </div>\n",
       "</article>"
      ]
     },
     "execution_count": 16,
     "metadata": {},
     "output_type": "execute_result"
    }
   ],
   "source": [
    "box = soup2.find('article',class_= 'Box-row')\n",
    "box"
   ]
  },
  {
   "cell_type": "code",
   "execution_count": 19,
   "metadata": {},
   "outputs": [
    {
     "data": {
      "text/plain": [
       "['kraanzu /\\n\\n      dooit',\n",
       " 'elebumm /\\n\\n      RedditVideoMakerBot',\n",
       " 'Lightning-AI /\\n\\n      lightning',\n",
       " 'google /\\n\\n      jax',\n",
       " 'mingrammer /\\n\\n      diagrams',\n",
       " 's1ckb017 /\\n\\n      PoC-CVE-2022-26809',\n",
       " 'Wh04m1001 /\\n\\n      DFSCoerce',\n",
       " 'nicohmje /\\n\\n      PID-ballonplate',\n",
       " 'yu-steven /\\n\\n      openit',\n",
       " 'PaddlePaddle /\\n\\n      PaddleDetection',\n",
       " 'erev0s /\\n\\n      VAmPI',\n",
       " 'chriskiehl /\\n\\n      Gooey',\n",
       " 'Baekalfen /\\n\\n      PyBoy',\n",
       " 'open-mmlab /\\n\\n      mmdetection3d',\n",
       " 's0md3v /\\n\\n      Arjun',\n",
       " 'facebookresearch /\\n\\n      ConvNeXt',\n",
       " 'xmu-xiaoma666 /\\n\\n      External-Attention-pytorch',\n",
       " 'clementchadebec /\\n\\n      benchmark_VAE',\n",
       " 't3l3machus /\\n\\n      toxssin',\n",
       " 'tzutalin /\\n\\n      labelImg',\n",
       " 'open-mmlab /\\n\\n      mmocr',\n",
       " 'FederatedAI /\\n\\n      FATE',\n",
       " 'YadiraF /\\n\\n      DECA',\n",
       " 'jackfrued /\\n\\n      Python-100-Days',\n",
       " 'ftexchange /\\n\\n      ftx']"
      ]
     },
     "execution_count": 19,
     "metadata": {},
     "output_type": "execute_result"
    }
   ],
   "source": [
    "name= []\n",
    "\n",
    "for table in soup2.find_all('article', class_ = 'Box-row'):\n",
    "    for x in table.find_all('h1',{'class':'h3 lh-condensed'}):\n",
    "        name.append(x.text.strip())\n",
    "        \n",
    "name"
   ]
  },
  {
   "cell_type": "code",
   "execution_count": 20,
   "metadata": {},
   "outputs": [
    {
     "name": "stdout",
     "output_type": "stream",
     "text": [
      "/kraanzu/dooit\n",
      "/elebumm/RedditVideoMakerBot\n",
      "/Lightning-AI/lightning\n",
      "/google/jax\n",
      "/mingrammer/diagrams\n",
      "/s1ckb017/PoC-CVE-2022-26809\n",
      "/Wh04m1001/DFSCoerce\n",
      "/nicohmje/PID-ballonplate\n",
      "/yu-steven/openit\n",
      "/PaddlePaddle/PaddleDetection\n",
      "/erev0s/VAmPI\n",
      "/chriskiehl/Gooey\n",
      "/Baekalfen/PyBoy\n",
      "/open-mmlab/mmdetection3d\n",
      "/s0md3v/Arjun\n",
      "/facebookresearch/ConvNeXt\n",
      "/xmu-xiaoma666/External-Attention-pytorch\n",
      "/clementchadebec/benchmark_VAE\n",
      "/t3l3machus/toxssin\n",
      "/tzutalin/labelImg\n",
      "/open-mmlab/mmocr\n",
      "/FederatedAI/FATE\n",
      "/YadiraF/DECA\n",
      "/jackfrued/Python-100-Days\n",
      "/ftexchange/ftx\n"
     ]
    }
   ],
   "source": [
    "for table in soup2.find_all('article', class_ = 'Box-row'):\n",
    "    for x in table.find_all('h1', {'class': 'h3 lh-condensed'}):\n",
    "        print(x.find('a')['href'])"
   ]
  },
  {
   "cell_type": "markdown",
   "metadata": {},
   "source": [
    "#### Display all the image links from Walt Disney wikipedia page"
   ]
  },
  {
   "cell_type": "code",
   "execution_count": 21,
   "metadata": {},
   "outputs": [],
   "source": [
    "# This is the url you will scrape in this exercise\n",
    "url2 = 'https://en.wikipedia.org/wiki/Walt_Disney'"
   ]
  },
  {
   "cell_type": "code",
   "execution_count": 22,
   "metadata": {},
   "outputs": [],
   "source": [
    "walt = req.get(url2).content\n",
    "soup3 = bs(walt, 'html.parser')"
   ]
  },
  {
   "cell_type": "code",
   "execution_count": 23,
   "metadata": {},
   "outputs": [
    {
     "data": {
      "text/plain": [
       "<img alt=\"Extended-protected article\" data-file-height=\"512\" data-file-width=\"512\" decoding=\"async\" height=\"20\" src=\"//upload.wikimedia.org/wikipedia/en/thumb/8/8c/Extended-protection-shackle.svg/20px-Extended-protection-shackle.svg.png\" srcset=\"//upload.wikimedia.org/wikipedia/en/thumb/8/8c/Extended-protection-shackle.svg/30px-Extended-protection-shackle.svg.png 1.5x, //upload.wikimedia.org/wikipedia/en/thumb/8/8c/Extended-protection-shackle.svg/40px-Extended-protection-shackle.svg.png 2x\" width=\"20\"/>"
      ]
     },
     "execution_count": 23,
     "metadata": {},
     "output_type": "execute_result"
    }
   ],
   "source": [
    "links = soup3.find_all('img')\n",
    "links[1]"
   ]
  },
  {
   "cell_type": "code",
   "execution_count": 24,
   "metadata": {},
   "outputs": [
    {
     "name": "stdout",
     "output_type": "stream",
     "text": [
      "//upload.wikimedia.org/wikipedia/en/thumb/e/e7/Cscr-featured.svg/20px-Cscr-featured.svg.png\n",
      "//upload.wikimedia.org/wikipedia/en/thumb/8/8c/Extended-protection-shackle.svg/20px-Extended-protection-shackle.svg.png\n",
      "//upload.wikimedia.org/wikipedia/commons/thumb/d/df/Walt_Disney_1946.JPG/220px-Walt_Disney_1946.JPG\n",
      "//upload.wikimedia.org/wikipedia/commons/thumb/8/87/Walt_Disney_1942_signature.svg/150px-Walt_Disney_1942_signature.svg.png\n",
      "//upload.wikimedia.org/wikipedia/commons/thumb/c/c4/Walt_Disney_envelope_ca._1921.jpg/220px-Walt_Disney_envelope_ca._1921.jpg\n",
      "//upload.wikimedia.org/wikipedia/commons/thumb/0/0d/Trolley_Troubles_poster.jpg/170px-Trolley_Troubles_poster.jpg\n",
      "//upload.wikimedia.org/wikipedia/en/thumb/4/4e/Steamboat-willie.jpg/170px-Steamboat-willie.jpg\n",
      "//upload.wikimedia.org/wikipedia/commons/thumb/5/57/Walt_Disney_1935.jpg/170px-Walt_Disney_1935.jpg\n",
      "//upload.wikimedia.org/wikipedia/commons/thumb/c/cd/Walt_Disney_Snow_white_1937_trailer_screenshot_%2813%29.jpg/220px-Walt_Disney_Snow_white_1937_trailer_screenshot_%2813%29.jpg\n",
      "//upload.wikimedia.org/wikipedia/commons/thumb/1/15/Disney_drawing_goofy.jpg/170px-Disney_drawing_goofy.jpg\n",
      "//upload.wikimedia.org/wikipedia/commons/thumb/1/13/DisneySchiphol1951.jpg/220px-DisneySchiphol1951.jpg\n",
      "//upload.wikimedia.org/wikipedia/commons/thumb/8/8c/WaltDisneyplansDisneylandDec1954.jpg/220px-WaltDisneyplansDisneylandDec1954.jpg\n",
      "//upload.wikimedia.org/wikipedia/commons/thumb/f/ff/Walt_disney_portrait_right.jpg/170px-Walt_disney_portrait_right.jpg\n",
      "//upload.wikimedia.org/wikipedia/commons/thumb/1/1a/Walt_Disney_Grave.JPG/170px-Walt_Disney_Grave.JPG\n",
      "//upload.wikimedia.org/wikipedia/commons/thumb/2/2d/Roy_O._Disney_with_Company_at_Press_Conference.jpg/170px-Roy_O._Disney_with_Company_at_Press_Conference.jpg\n",
      "//upload.wikimedia.org/wikipedia/commons/thumb/b/b0/Disney_Oscar_1953_%28cropped%29.jpg/170px-Disney_Oscar_1953_%28cropped%29.jpg\n",
      "//upload.wikimedia.org/wikipedia/commons/thumb/6/6c/Disney1968.jpg/170px-Disney1968.jpg\n",
      "//upload.wikimedia.org/wikipedia/en/thumb/8/8a/OOjs_UI_icon_edit-ltr-progressive.svg/10px-OOjs_UI_icon_edit-ltr-progressive.svg.png\n",
      "//upload.wikimedia.org/wikipedia/en/thumb/8/8a/OOjs_UI_icon_edit-ltr-progressive.svg/10px-OOjs_UI_icon_edit-ltr-progressive.svg.png\n",
      "//upload.wikimedia.org/wikipedia/commons/thumb/e/e3/Disneyland_Resort_logo.svg/135px-Disneyland_Resort_logo.svg.png\n",
      "//upload.wikimedia.org/wikipedia/commons/thumb/d/da/Animation_disc.svg/20px-Animation_disc.svg.png\n",
      "//upload.wikimedia.org/wikipedia/en/thumb/6/69/P_vip.svg/19px-P_vip.svg.png\n",
      "//upload.wikimedia.org/wikipedia/commons/thumb/1/1a/Magic_Kingdom_castle.jpg/15px-Magic_Kingdom_castle.jpg\n",
      "//upload.wikimedia.org/wikipedia/en/thumb/e/e7/Video-x-generic.svg/19px-Video-x-generic.svg.png\n",
      "//upload.wikimedia.org/wikipedia/commons/thumb/a/a3/Flag_of_Los_Angeles_County%2C_California.svg/21px-Flag_of_Los_Angeles_County%2C_California.svg.png\n",
      "//upload.wikimedia.org/wikipedia/commons/thumb/8/8c/Blank_television_set.svg/21px-Blank_television_set.svg.png\n",
      "//upload.wikimedia.org/wikipedia/en/thumb/a/a4/Flag_of_the_United_States.svg/21px-Flag_of_the_United_States.svg.png\n",
      "//upload.wikimedia.org/wikipedia/en/thumb/4/4a/Commons-logo.svg/14px-Commons-logo.svg.png\n",
      "//upload.wikimedia.org/wikipedia/commons/thumb/f/fa/Wikiquote-logo.svg/16px-Wikiquote-logo.svg.png\n",
      "//upload.wikimedia.org/wikipedia/commons/thumb/f/ff/Wikidata-logo.svg/21px-Wikidata-logo.svg.png\n",
      "//upload.wikimedia.org/wikipedia/en/thumb/8/8a/OOjs_UI_icon_edit-ltr-progressive.svg/10px-OOjs_UI_icon_edit-ltr-progressive.svg.png\n",
      "//en.wikipedia.org/wiki/Special:CentralAutoLogin/start?type=1x1\n",
      "/static/images/footer/wikimedia-button.png\n",
      "/static/images/footer/poweredby_mediawiki_88x31.png\n"
     ]
    }
   ],
   "source": [
    "for x in soup3.find_all('img'):\n",
    "    print(x['src'])"
   ]
  },
  {
   "cell_type": "markdown",
   "metadata": {},
   "source": [
    "#### Retrieve an arbitary Wikipedia page of \"Python\" and create a list of links on that page"
   ]
  },
  {
   "cell_type": "code",
   "execution_count": 25,
   "metadata": {},
   "outputs": [],
   "source": [
    "# This is the url you will scrape in this exercise\n",
    "url3 ='https://en.wikipedia.org/wiki/Python' "
   ]
  },
  {
   "cell_type": "code",
   "execution_count": 26,
   "metadata": {},
   "outputs": [],
   "source": [
    "python = req.get(url3).content\n",
    "soup4 = bs(python,'html.parser')"
   ]
  },
  {
   "cell_type": "code",
   "execution_count": 27,
   "metadata": {},
   "outputs": [
    {
     "name": "stdout",
     "output_type": "stream",
     "text": [
      "/w/load.php?lang=en&modules=ext.uls.interlanguage%7Cext.visualEditor.desktopArticleTarget.noscript%7Cext.wikimediaBadges%7Cskins.vector.styles.legacy%7Cwikibase.client.init&only=styles&skin=vector\n",
      "/w/load.php?lang=en&modules=site.styles&only=styles&skin=vector\n",
      "//upload.wikimedia.org\n",
      "//en.m.wikipedia.org/wiki/Python\n",
      "/w/index.php?title=Python&action=edit\n",
      "/static/apple-touch/wikipedia.png\n",
      "/static/favicon/wikipedia.ico\n",
      "/w/opensearch_desc.php\n",
      "//en.wikipedia.org/w/api.php?action=rsd\n",
      "https://creativecommons.org/licenses/by-sa/3.0/\n",
      "https://en.wikipedia.org/wiki/Python\n",
      "//meta.wikimedia.org\n",
      "//login.wikimedia.org\n"
     ]
    }
   ],
   "source": [
    "for x in soup4.find_all('link'):\n",
    "    print(x['href'])"
   ]
  },
  {
   "cell_type": "markdown",
   "metadata": {},
   "source": [
    "#### Number of Titles that have changed in the United States Code since its last release point "
   ]
  },
  {
   "cell_type": "code",
   "execution_count": 28,
   "metadata": {},
   "outputs": [],
   "source": [
    "# This is the url you will scrape in this exercise\n",
    "url4 = 'http://uscode.house.gov/download/download.shtml'"
   ]
  },
  {
   "cell_type": "code",
   "execution_count": 32,
   "metadata": {},
   "outputs": [
    {
     "data": {
      "text/plain": [
       "b'<?xml version=\\'1.0\\' encoding=\\'UTF-8\\' ?>\\n<!DOCTYPE html PUBLIC \"-//W3C//DTD XHTML 1.0 Transitional//EN\" \"http://www.w3.org/TR/xhtml1/DTD/xhtml1-transitional.dtd\">\\n<html xmlns=\"http://www.w3.org/1999/xhtml\"><head>\\n        <meta http-equiv=\"Content-Type\" content=\"text/html; charset=UTF-8\" />\\n        <meta http-equiv=\"X-UA-Compatible\" content=\"IE=8\" />\\n        <meta http-equiv=\"pragma\" content=\"no-cache\" /><!-- HTTP 1.0 -->\\n        <meta http-equiv=\"cache-control\" content=\"no-cache,must-revalidate\" '"
      ]
     },
     "execution_count": 32,
     "metadata": {},
     "output_type": "execute_result"
    }
   ],
   "source": [
    "usa = req.get(url4).content\n",
    "usa[:500]"
   ]
  },
  {
   "cell_type": "code",
   "execution_count": 33,
   "metadata": {},
   "outputs": [],
   "source": [
    "soup5 = bs(usa, \"html.parser\")"
   ]
  },
  {
   "cell_type": "code",
   "execution_count": 37,
   "metadata": {},
   "outputs": [
    {
     "data": {
      "text/plain": [
       "['us/usc/t40', 'us/usc/t46', 'us/usc/t49']"
      ]
     },
     "execution_count": 37,
     "metadata": {},
     "output_type": "execute_result"
    }
   ],
   "source": [
    "lst= []\n",
    "\n",
    "number_titles = soup5.find_all('div', {'class': 'usctitlechanged'})\n",
    "for e in number_titles:\n",
    "    lst.append(e['id'])\n",
    "    \n",
    "lst"
   ]
  },
  {
   "cell_type": "markdown",
   "metadata": {},
   "source": [
    "#### A Python list with the top ten FBI's Most Wanted names "
   ]
  },
  {
   "cell_type": "code",
   "execution_count": 39,
   "metadata": {},
   "outputs": [],
   "source": [
    "# This is the url you will scrape in this exercise\n",
    "url5 = 'https://www.fbi.gov/wanted/topten'"
   ]
  },
  {
   "cell_type": "code",
   "execution_count": 42,
   "metadata": {},
   "outputs": [
    {
     "data": {
      "text/plain": [
       "b'<!DOCTYPE html>\\n<html lang=\"en\" data-gridsystem=\"bs3\">\\n<head>\\n<meta charset=\"utf-8\">\\n<meta http-equiv=\"x-ua-compatible\" content=\"ie=edge\">\\n<meta name=\"viewport\" content=\"width=device-width, initial-scale=1.0\">\\n<link rel=\"canonical\" href=\"https://www.fbi.gov/wanted/topten\"><meta name=\"twitter:card\" content=\"summary_large_image\">\\n<meta name=\"twitter:title\" content=\"Ten Most Wanted Fugitives | Federal Bureau of Investigation\">\\n<meta content=\"Federal Bureau of Investigation\" property=\"og:site_name\">'"
      ]
     },
     "execution_count": 42,
     "metadata": {},
     "output_type": "execute_result"
    }
   ],
   "source": [
    "fbi = req.get(url5).content\n",
    "fbi[:500]"
   ]
  },
  {
   "cell_type": "code",
   "execution_count": 46,
   "metadata": {},
   "outputs": [],
   "source": [
    "soup6 = bs(fbi, \"html.parser\")"
   ]
  },
  {
   "cell_type": "code",
   "execution_count": 48,
   "metadata": {},
   "outputs": [
    {
     "data": {
      "text/plain": [
       "['JOSE RODOLFO VILLARREAL-HERNANDEZ',\n",
       " 'YULAN ADONAY ARCHAGA CARIAS',\n",
       " 'RAFAEL CARO-QUINTERO',\n",
       " 'EUGENE PALMER',\n",
       " 'BHADRESHKUMAR CHETANBHAI PATEL',\n",
       " 'ALEJANDRO ROSALES CASTILLO',\n",
       " 'ARNOLDO JIMENEZ',\n",
       " 'JASON DEREK BROWN',\n",
       " 'ALEXIS FLORES',\n",
       " 'OCTAVIANO JUAREZ-CORRO']"
      ]
     },
     "execution_count": 48,
     "metadata": {},
     "output_type": "execute_result"
    }
   ],
   "source": [
    "names1= []\n",
    "\n",
    "wanted= soup6.find_all('li', {'class': 'portal-type-person castle-grid-block-item'})\n",
    "for e in wanted:\n",
    "    for x in e.find_all('h3', {'class': 'title'}):\n",
    "        names1.append(x.text.strip())\n",
    "names1"
   ]
  },
  {
   "cell_type": "markdown",
   "metadata": {},
   "source": [
    "####  20 latest earthquakes info (date, time, latitude, longitude and region name) by the EMSC as a pandas dataframe"
   ]
  },
  {
   "cell_type": "code",
   "execution_count": null,
   "metadata": {},
   "outputs": [],
   "source": [
    "# This is the url you will scrape in this exercise\n",
    "url = 'https://www.emsc-csem.org/Earthquake/'"
   ]
  },
  {
   "cell_type": "code",
   "execution_count": null,
   "metadata": {},
   "outputs": [],
   "source": [
    "#your code"
   ]
  },
  {
   "cell_type": "markdown",
   "metadata": {},
   "source": [
    "#### Display the date, days, title, city, country of next 25 hackathon events as a Pandas dataframe table"
   ]
  },
  {
   "cell_type": "code",
   "execution_count": null,
   "metadata": {},
   "outputs": [],
   "source": [
    "# This is the url you will scrape in this exercise\n",
    "url ='https://hackevents.co/hackathons'"
   ]
  },
  {
   "cell_type": "code",
   "execution_count": null,
   "metadata": {},
   "outputs": [],
   "source": [
    "#your code"
   ]
  },
  {
   "cell_type": "markdown",
   "metadata": {},
   "source": [
    "#### Count number of tweets by a given Twitter account."
   ]
  },
  {
   "cell_type": "markdown",
   "metadata": {},
   "source": [
    "You will need to include a ***try/except block*** for account names not found. \n",
    "<br>***Hint:*** the program should count the number of tweets for any provided account"
   ]
  },
  {
   "cell_type": "code",
   "execution_count": null,
   "metadata": {},
   "outputs": [],
   "source": [
    "# This is the url you will scrape in this exercise \n",
    "# You will need to add the account credentials to this url\n",
    "url = 'https://twitter.com/'"
   ]
  },
  {
   "cell_type": "code",
   "execution_count": null,
   "metadata": {},
   "outputs": [],
   "source": [
    "#your code"
   ]
  },
  {
   "cell_type": "markdown",
   "metadata": {},
   "source": [
    "#### Number of followers of a given twitter account"
   ]
  },
  {
   "cell_type": "markdown",
   "metadata": {},
   "source": [
    "You will need to include a ***try/except block*** in case account/s name not found. \n",
    "<br>***Hint:*** the program should count the followers for any provided account"
   ]
  },
  {
   "cell_type": "code",
   "execution_count": null,
   "metadata": {},
   "outputs": [],
   "source": [
    "# This is the url you will scrape in this exercise \n",
    "# You will need to add the account credentials to this url\n",
    "url = 'https://twitter.com/'"
   ]
  },
  {
   "cell_type": "code",
   "execution_count": null,
   "metadata": {},
   "outputs": [],
   "source": [
    "#your code"
   ]
  },
  {
   "cell_type": "markdown",
   "metadata": {},
   "source": [
    "#### List all language names and number of related articles in the order they appear in wikipedia.org"
   ]
  },
  {
   "cell_type": "code",
   "execution_count": null,
   "metadata": {},
   "outputs": [],
   "source": [
    "# This is the url you will scrape in this exercise\n",
    "url = 'https://www.wikipedia.org/'"
   ]
  },
  {
   "cell_type": "code",
   "execution_count": null,
   "metadata": {},
   "outputs": [],
   "source": [
    "#your code"
   ]
  },
  {
   "cell_type": "markdown",
   "metadata": {},
   "source": [
    "#### A list with the different kind of datasets available in data.gov.uk "
   ]
  },
  {
   "cell_type": "code",
   "execution_count": null,
   "metadata": {},
   "outputs": [],
   "source": [
    "# This is the url you will scrape in this exercise\n",
    "url = 'https://data.gov.uk/'"
   ]
  },
  {
   "cell_type": "code",
   "execution_count": null,
   "metadata": {},
   "outputs": [],
   "source": [
    "#your code "
   ]
  },
  {
   "cell_type": "markdown",
   "metadata": {},
   "source": [
    "#### Top 10 languages by number of native speakers stored in a Pandas Dataframe"
   ]
  },
  {
   "cell_type": "code",
   "execution_count": null,
   "metadata": {},
   "outputs": [],
   "source": [
    "# This is the url you will scrape in this exercise\n",
    "url = 'https://en.wikipedia.org/wiki/List_of_languages_by_number_of_native_speakers'"
   ]
  },
  {
   "cell_type": "code",
   "execution_count": null,
   "metadata": {},
   "outputs": [],
   "source": [
    "#your code"
   ]
  },
  {
   "cell_type": "markdown",
   "metadata": {},
   "source": [
    "### BONUS QUESTIONS"
   ]
  },
  {
   "cell_type": "markdown",
   "metadata": {},
   "source": [
    "#### Scrape a certain number of tweets of a given Twitter account."
   ]
  },
  {
   "cell_type": "code",
   "execution_count": null,
   "metadata": {},
   "outputs": [],
   "source": [
    "# This is the url you will scrape in this exercise \n",
    "# You will need to add the account credentials to this url\n",
    "url = 'https://twitter.com/'"
   ]
  },
  {
   "cell_type": "code",
   "execution_count": null,
   "metadata": {},
   "outputs": [],
   "source": [
    "# your code"
   ]
  },
  {
   "cell_type": "markdown",
   "metadata": {},
   "source": [
    "#### IMDB's Top 250 data (movie name, Initial release, director name and stars) as a pandas dataframe"
   ]
  },
  {
   "cell_type": "code",
   "execution_count": null,
   "metadata": {},
   "outputs": [],
   "source": [
    "# This is the url you will scrape in this exercise \n",
    "url = 'https://www.imdb.com/chart/top'"
   ]
  },
  {
   "cell_type": "code",
   "execution_count": null,
   "metadata": {},
   "outputs": [],
   "source": [
    "# your code"
   ]
  },
  {
   "cell_type": "markdown",
   "metadata": {},
   "source": [
    "#### Movie name, year and a brief summary of the top 10 random movies (IMDB) as a pandas dataframe."
   ]
  },
  {
   "cell_type": "code",
   "execution_count": null,
   "metadata": {},
   "outputs": [],
   "source": [
    "#This is the url you will scrape in this exercise\n",
    "url = 'http://www.imdb.com/chart/top'"
   ]
  },
  {
   "cell_type": "code",
   "execution_count": null,
   "metadata": {},
   "outputs": [],
   "source": [
    "#your code"
   ]
  },
  {
   "cell_type": "markdown",
   "metadata": {},
   "source": [
    "#### Find the live weather report (temperature, wind speed, description and weather) of a given city."
   ]
  },
  {
   "cell_type": "code",
   "execution_count": null,
   "metadata": {},
   "outputs": [],
   "source": [
    "#https://openweathermap.org/current\n",
    "city = city=input('Enter the city:')\n",
    "url = 'http://api.openweathermap.org/data/2.5/weather?'+'q='+city+'&APPID=b35975e18dc93725acb092f7272cc6b8&units=metric'"
   ]
  },
  {
   "cell_type": "code",
   "execution_count": null,
   "metadata": {},
   "outputs": [],
   "source": [
    "# your code"
   ]
  },
  {
   "cell_type": "markdown",
   "metadata": {},
   "source": [
    "#### Book name,price and stock availability as a pandas dataframe."
   ]
  },
  {
   "cell_type": "code",
   "execution_count": null,
   "metadata": {},
   "outputs": [],
   "source": [
    "# This is the url you will scrape in this exercise. \n",
    "# It is a fictional bookstore created to be scraped. \n",
    "url = 'http://books.toscrape.com/'"
   ]
  },
  {
   "cell_type": "code",
   "execution_count": null,
   "metadata": {},
   "outputs": [],
   "source": [
    "#your code"
   ]
  }
 ],
 "metadata": {
  "kernelspec": {
   "display_name": "Python 3 (ipykernel)",
   "language": "python",
   "name": "python3"
  },
  "language_info": {
   "codemirror_mode": {
    "name": "ipython",
    "version": 3
   },
   "file_extension": ".py",
   "mimetype": "text/x-python",
   "name": "python",
   "nbconvert_exporter": "python",
   "pygments_lexer": "ipython3",
   "version": "3.9.7"
  }
 },
 "nbformat": 4,
 "nbformat_minor": 2
}
